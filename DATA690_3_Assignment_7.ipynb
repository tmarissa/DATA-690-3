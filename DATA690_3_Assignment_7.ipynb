{
  "nbformat": 4,
  "nbformat_minor": 0,
  "metadata": {
    "colab": {
      "name": "DATA690-3 Assignment 7.ipynb",
      "provenance": [],
      "authorship_tag": "ABX9TyOV8jbwl+OZDSHWkjvkXBD3",
      "include_colab_link": true
    },
    "kernelspec": {
      "name": "python3",
      "display_name": "Python 3"
    }
  },
  "cells": [
    {
      "cell_type": "markdown",
      "metadata": {
        "id": "view-in-github",
        "colab_type": "text"
      },
      "source": [
        "<a href=\"https://colab.research.google.com/github/tmarissa/DATA-690-3/blob/main/DATA690_3_Assignment_7.ipynb\" target=\"_parent\"><img src=\"https://colab.research.google.com/assets/colab-badge.svg\" alt=\"Open In Colab\"/></a>"
      ]
    },
    {
      "cell_type": "markdown",
      "metadata": {
        "id": "4NNlA3ubQdd9"
      },
      "source": [
        "# Assignment 7: \n",
        "## Implement merge sort that uses iterations and does not depend on recursions.\n"
      ]
    },
    {
      "cell_type": "markdown",
      "metadata": {
        "id": "WsQBmW_af15-"
      },
      "source": [
        "# Iterative Merge Sort"
      ]
    },
    {
      "cell_type": "code",
      "metadata": {
        "id": "WtE9745O3htz"
      },
      "source": [
        "def merge_sort(List):\n",
        "  size = 1                      # size is the beginning size\n",
        "  while size < len(List) -1:    # this is a nested while loop. The outer loop is traversing for each sub array of the size\n",
        "    left = 0                    # left begins from 0 and eventually should be one less than its length\n",
        "    while left < len(List)-1:\n",
        "      # the middle index is minimum of the left index of the subarray which is iterable and key default which is length -1\n",
        "      middle = min((left + size -1), (len(List)-1))   \n",
        "      # Conditional using size if 2 * size < len[List]-1 else len[List] -1\n",
        "      right = ((2*size + left-1, len(List)-1)[2*size + left-1 > len(List)-1])\n",
        "      # Function merge call\n",
        "      merge(List, left, middle, right)\n",
        "      left = left + size*2\n",
        "    #Increasing sub-array size by multiple of 2 \n",
        "    size = 2 * size\n",
        "   \n",
        "def merge(List, l, m, r):\n",
        "  n1 = m-l+1    # numbers on the left\n",
        "  n2 = r -m     # numbers on the right\n",
        "  L = [0]* n1   # list on the left\n",
        "  R = [0]* n2   # list on the right\n",
        "  for i in range (0, n1):\n",
        "    L[i] = List[l+i]\n",
        "  for i in range(0, n2):\n",
        "    R[i] = List[m + i + 1]\n",
        "\n",
        "  i, j, k = 0, 0, l\n",
        "  # Begins the comparison and sorting with conditions. Indices increment\n",
        "  while i < n1 and j < n2:\n",
        "    if L[i] > R[j]:\n",
        "      List[k] = R[j]\n",
        "      j += 1\n",
        "    else:\n",
        "      List[k] = L[i]\n",
        "      i += 1\n",
        "    k += 1\n",
        "  \n",
        "  while i < n1:\n",
        "    List[k] = L[i]\n",
        "    i +=1\n",
        "    k += 1\n",
        "\n",
        "  while j < n2:\n",
        "    List[k] = R[j]\n",
        "    j += 1\n",
        "    k += 1"
      ],
      "execution_count": 28,
      "outputs": []
    },
    {
      "cell_type": "code",
      "metadata": {
        "colab": {
          "base_uri": "https://localhost:8080/"
        },
        "id": "e9DBygFbZWjs",
        "outputId": "dd6dcb16-1c2e-476e-b3ac-54d1569d206f"
      },
      "source": [
        "List = [22, 11, 44, 55, 33]\n",
        "print(\"List: \")\n",
        "print (List)\n",
        "\n",
        "merge_sort(List)\n",
        "\n",
        "print(\"Sorted list:  \")\n",
        "print(List)"
      ],
      "execution_count": 29,
      "outputs": [
        {
          "output_type": "stream",
          "text": [
            "List: \n",
            "[22, 11, 44, 55, 33]\n",
            "Sorted list:  \n",
            "[11, 22, 44, 55, 33]\n"
          ],
          "name": "stdout"
        }
      ]
    },
    {
      "cell_type": "code",
      "metadata": {
        "colab": {
          "base_uri": "https://localhost:8080/"
        },
        "id": "fmXT8XqPXuZO",
        "outputId": "2c1c93d2-753b-4dff-d4ad-224e5a867630"
      },
      "source": [
        "L = [20, 51, 34, 95, 83, 15, 56, 76]\n",
        "print(\"List:  \")\n",
        "print (L)\n",
        "\n",
        "merge_sort(L)\n",
        "\n",
        "print(\"Sorted list is \")\n",
        "print(L)"
      ],
      "execution_count": 17,
      "outputs": [
        {
          "output_type": "stream",
          "text": [
            "List:  \n",
            "[20, 51, 34, 95, 83, 15, 56, 76]\n",
            "Sorted list is \n",
            "[15, 20, 34, 51, 56, 76, 83, 95]\n"
          ],
          "name": "stdout"
        }
      ]
    },
    {
      "cell_type": "markdown",
      "metadata": {
        "id": "SpO0wWpUe5YJ"
      },
      "source": [
        "## Below is another merge sort that uses the merge from the textbook Guttag. The merge sort is iterative because there is no recursion. Both functions merge and merge sort are iterative because they don't use recursive.\n",
        "### The merge function below uses only the left, right and compare as its parameters. Unlike the above merge which uses an array, left, right, and middle for its parameters."
      ]
    },
    {
      "cell_type": "code",
      "metadata": {
        "id": "rz2V7NCeX_4U"
      },
      "source": [
        "def merge_sort2(List):\n",
        "  size = 1\n",
        "  while size < len(List) -1:\n",
        "    left = 0\n",
        "    while left < len(List)-1:\n",
        "      middle = min((left + size -1), (len(List)-1))\n",
        "      right = ((2*size + left-1, len(List)-1)[2*size + left-1 > len(List)-1])\n",
        "      merge2(left, right, compare = lambda x, y: x <y)\n",
        "      left = left + size*2\n",
        "      size = 2 * size\n",
        "\n",
        "\n",
        "def merge2(left, right, compare = lambda x, y: x <y):\n",
        "    \"\"\"Assumes left and right are sorted lists and \n",
        "       compare defines an ordering on the elements.\n",
        "       Returns a new sorted (by compare) list containing\n",
        "       the same elements as (left + right) would contain.\"\"\"\n",
        "    result = []\n",
        "    i, j = 0, 0\n",
        "    while i < len(left) and j < len(right):\n",
        "        if compare(left[i], right[j]):\n",
        "            result.append(left[i])\n",
        "            i += 1\n",
        "        else:\n",
        "            result.append(right[j])\n",
        "            j += 1\n",
        "    while (i < len(left)) :\n",
        "        result.append(left[i])\n",
        "        i += 1\n",
        "    while (j < len(right)):\n",
        "        result.append(right[j])\n",
        "        j += 1\n",
        "    return result\n",
        "\n"
      ],
      "execution_count": 14,
      "outputs": []
    },
    {
      "cell_type": "code",
      "metadata": {
        "colab": {
          "base_uri": "https://localhost:8080/"
        },
        "id": "QmV5nVjkdnof",
        "outputId": "41c6c67b-6f48-4741-e10f-3239d9082920"
      },
      "source": [
        "L = [20, 51, 34, 95, 83, 15, 56, 76]\n",
        "print(\"List:  \")\n",
        "print (L)\n",
        "\n",
        "merge_sort(L)\n",
        "\n",
        "print(\"Sorted list is \")\n",
        "print(L)"
      ],
      "execution_count": 15,
      "outputs": [
        {
          "output_type": "stream",
          "text": [
            "List:  \n",
            "[20, 51, 34, 95, 83, 15, 56, 76]\n",
            "Sorted list is \n",
            "[20, 51, 34, 83, 15, 95, 56, 76]\n"
          ],
          "name": "stdout"
        }
      ]
    }
  ]
}