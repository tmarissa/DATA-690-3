{
 "cells": [
  {
   "cell_type": "markdown",
   "metadata": {
    "id": "7m7lHYNMLUkt"
   },
   "source": [
    "### Requirement for this Assignment\n",
    "- Using input function prompt the user to enter his/her name\n",
    "- Using input function, prompt the user to enter an integer\n",
    "    - Make sure to typecast the user input to an integer\n",
    "- Using a while loop\n",
    "    - Print out the users name the number of times as indicated by the second input.\n",
    "    - For instance, if the user enters \"Harry Potter\" as the 1st input and \"5\" as the 2nd input, the script will write out \"Harry Potter\" 5 times."
   ]
  },
  {
   "cell_type": "code",
   "execution_count": 16,
   "metadata": {
    "colab": {
     "base_uri": "https://localhost:8080/"
    },
    "id": "D-RQJrAUMikl",
    "outputId": "7e0cc2cb-fa45-40b8-dc6c-99dcfdfe4615"
   },
   "outputs": [
    {
     "name": "stdout",
     "output_type": "stream",
     "text": [
      "What is your name: Marissa Tan\n"
     ]
    }
   ],
   "source": [
    "name=input(\"What is your name: \")"
   ]
  },
  {
   "cell_type": "code",
   "execution_count": 17,
   "metadata": {
    "colab": {
     "base_uri": "https://localhost:8080/"
    },
    "id": "io0aQ45oNGZa",
    "outputId": "9b6219b1-b1d1-44a4-f8c1-4bfad3d00153"
   },
   "outputs": [
    {
     "name": "stdout",
     "output_type": "stream",
     "text": [
      "Give a number: 4\n"
     ]
    }
   ],
   "source": [
    "x = int(input(\"Give a number: \"))\n"
   ]
  },
  {
   "cell_type": "code",
   "execution_count": 18,
   "metadata": {
    "colab": {
     "base_uri": "https://localhost:8080/"
    },
    "id": "CgzUc3rGNSeu",
    "outputId": "318699a5-ac94-4595-9882-cba067431ba8"
   },
   "outputs": [
    {
     "name": "stdout",
     "output_type": "stream",
     "text": [
      "Marissa Tan\n",
      "Marissa Tan\n",
      "Marissa Tan\n",
      "Marissa Tan\n"
     ]
    }
   ],
   "source": [
    "count = 0\n",
    "while (count < x):\n",
    "  print(name)\n",
    "  count += 1\n"
   ]
  }
 ],
 "metadata": {
  "colab": {
   "collapsed_sections": [],
   "name": "Marissa Tan Assignment 1.ipynb",
   "provenance": []
  },
  "kernelspec": {
   "display_name": "Python 3",
   "language": "python",
   "name": "python3"
  },
  "language_info": {
   "codemirror_mode": {
    "name": "ipython",
    "version": 3
   },
   "file_extension": ".py",
   "mimetype": "text/x-python",
   "name": "python",
   "nbconvert_exporter": "python",
   "pygments_lexer": "ipython3",
   "version": "3.8.5"
  }
 },
 "nbformat": 4,
 "nbformat_minor": 1
}
