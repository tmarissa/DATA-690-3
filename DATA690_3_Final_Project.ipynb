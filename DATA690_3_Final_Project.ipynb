{
 "cells": [
  {
   "cell_type": "markdown",
   "metadata": {
    "id": "PlG2rxBtBsL5"
   },
   "source": [
    "# 1. Class for Employee\n"
   ]
  },
  {
   "cell_type": "code",
   "execution_count": 1,
   "metadata": {
    "id": "QlRoN5g2NmmD"
   },
   "outputs": [],
   "source": [
    "from datetime import datetime\n",
    "import datetime"
   ]
  },
  {
   "cell_type": "code",
   "execution_count": 2,
   "metadata": {
    "id": "mk1PLzFbswC3"
   },
   "outputs": [],
   "source": [
    "class Employee:\n",
    "    def __init__(self, name):\n",
    "        self.name = name  \n",
    "        try:\n",
    "          last_blank = name.rindex(' ')\n",
    "          self.last_name = name[last_blank+1:]\n",
    "          self.first_name = name[:last_blank]\n",
    "        except:\n",
    "          self.last_name = name \n",
    "        \n",
    "    def getLastName(self, last_name):               # changes the last name\n",
    "        \"\"\"Returns self's last name\"\"\"\n",
    "        self.last_name = last_name\n",
    "\n",
    "    def getFirstName(self, first_name):             # changes the first name\n",
    "        \"\"\"Returns self's first name\"\"\"\n",
    "        self.first_name = first_name\n",
    "\n",
    "    def __lt__(self, other):\n",
    "         if self.last_name == other.last_name:\n",
    "            return self.first_name < other.first_name\n",
    "         return self.last_name < other.last_name\n",
    "\n",
    "    def __repr__(self):\n",
    "         return '\\n' + '{' \"Last Name: \"+ self.last_name + \"  First Name: \"  +self.first_name  + '}'"
   ]
  },
  {
   "cell_type": "code",
   "execution_count": 3,
   "metadata": {
    "id": "AXCHdGjJbGDI"
   },
   "outputs": [],
   "source": [
    "def merge(left, right, compare):\n",
    "    \"\"\"Assumes left and right are sorted lists and \n",
    "       compare defines an ordering on the elements.\n",
    "       Returns a new sorted (by compare) list containing\n",
    "       the same elements as (left + right) would contain.\"\"\"\n",
    "    result = []\n",
    "    i, j = 0, 0\n",
    "    while i < len(left) and j < len(right):\n",
    "        if compare(left[i], right[j]):\n",
    "            result.append(left[i])\n",
    "            i += 1\n",
    "        else:\n",
    "            result.append(right[j])\n",
    "            j += 1\n",
    "    while (i < len(left)) :\n",
    "        result.append(left[i])\n",
    "        i += 1\n",
    "    while (j < len(right)):\n",
    "        result.append(right[j])\n",
    "        j += 1\n",
    "    return result\n",
    "\n",
    "def merge_sort(L, compare = lambda x, y: x < y):\n",
    "    \"\"\"Assumes L is a list, compare defines an ordering\n",
    "       on elements of L.\n",
    "       Returns a new sorted list with the same elements as L\"\"\"\n",
    "    if len(L) < 2:  # keeps on dividing sublist until the length is one\n",
    "        return L[:]\n",
    "    #\n",
    "    else:\n",
    "        middle = len(L) // 2\n",
    "        left = merge_sort(L[:middle], compare)\n",
    "        right = merge_sort(L[middle:], compare)\n",
    "        return merge(left, right, compare)"
   ]
  },
  {
   "cell_type": "code",
   "execution_count": 4,
   "metadata": {
    "colab": {
     "base_uri": "https://localhost:8080/"
    },
    "id": "tDUNpdzHkCXh",
    "outputId": "2fbdce63-7402-4972-9991-e3b0cc4302e4"
   },
   "outputs": [
    {
     "name": "stdout",
     "output_type": "stream",
     "text": [
      "\n",
      "{Last Name: Zong  First Name: Julie}\n",
      "\n",
      "{Last Name: Zuo  First Name: Phil}\n",
      "\n",
      "{Last Name: Day  First Name: Angel}\n",
      "\n",
      "{Last Name: Flat  First Name: Faith}\n",
      "\n",
      "{Last Name: Jay  First Name: Julius}\n",
      "\n",
      "{Last Name: Tee  First Name: Absen}\n"
     ]
    }
   ],
   "source": [
    "# Ability to print out all unsorted employee names\n",
    "E1 = Employee('Julie Zong')\n",
    "E2 = Employee('Phil Zuo')\n",
    "E3 = Employee(\"Angel Day\")\n",
    "E4 = Employee(\"Faith Flat\")\n",
    "E5 = Employee(\"Julius Jay\")\n",
    "E6 = Employee(\"Absen Tee\")\n",
    "\n",
    "Employees = [E1, E2, E3, E4, E5, E6]\n",
    "for i in Employees:\n",
    "  print(i)"
   ]
  },
  {
   "cell_type": "code",
   "execution_count": 5,
   "metadata": {
    "colab": {
     "base_uri": "https://localhost:8080/"
    },
    "id": "t_zUBBi9bL9R",
    "outputId": "976bf11d-6bec-40a0-b18b-635b97fe0dbf"
   },
   "outputs": [
    {
     "name": "stdout",
     "output_type": "stream",
     "text": [
      "[\n",
      "{Last Name: Day  First Name: Angel}, \n",
      "{Last Name: Flat  First Name: Faith}, \n",
      "{Last Name: Jay  First Name: Julius}, \n",
      "{Last Name: Tee  First Name: Absen}, \n",
      "{Last Name: Zong  First Name: Julie}, \n",
      "{Last Name: Zuo  First Name: Phil}]\n",
      "\n",
      "\n",
      "[\n",
      "{Last Name: Zuo  First Name: Phil}, \n",
      "{Last Name: Zong  First Name: Julie}, \n",
      "{Last Name: Tee  First Name: Absen}, \n",
      "{Last Name: Jay  First Name: Julius}, \n",
      "{Last Name: Flat  First Name: Faith}, \n",
      "{Last Name: Day  First Name: Angel}]\n"
     ]
    }
   ],
   "source": [
    "# Ability to sort employees based on last names in ascending order and the next is descending\n",
    "print(merge_sort(Employees))\n",
    "print(\"\\n\")\n",
    "print(merge_sort(Employees, lambda x, y: x >y))"
   ]
  },
  {
   "cell_type": "code",
   "execution_count": 6,
   "metadata": {
    "colab": {
     "base_uri": "https://localhost:8080/"
    },
    "id": "wP4o1U99289o",
    "outputId": "91ac08f5-6e52-4f6f-8728-343de8ded686"
   },
   "outputs": [
    {
     "name": "stdout",
     "output_type": "stream",
     "text": [
      "Before the change of E2\t\t \n",
      "{Last Name: Zuo  First Name: Phil}\n",
      "After change of First Name of E2 \n",
      "{Last Name: Zuo  First Name: Jane}\n",
      "After change of Last Name of E2\t \n",
      "{Last Name: Bow  First Name: Jane}\n",
      "\n",
      "\n",
      "All employees names resorted with changes\n",
      "[\n",
      "{Last Name: Bow  First Name: Jane}, \n",
      "{Last Name: Day  First Name: Angel}, \n",
      "{Last Name: Flat  First Name: Faith}, \n",
      "{Last Name: Jay  First Name: Julius}, \n",
      "{Last Name: Tee  First Name: Absen}, \n",
      "{Last Name: Zong  First Name: Julie}]\n",
      "\n",
      "\n",
      "All employees names unsorted with changes\n"
     ]
    },
    {
     "data": {
      "text/plain": [
       "[\n",
       " {Last Name: Zong  First Name: Julie},\n",
       " \n",
       " {Last Name: Bow  First Name: Jane},\n",
       " \n",
       " {Last Name: Day  First Name: Angel},\n",
       " \n",
       " {Last Name: Flat  First Name: Faith},\n",
       " \n",
       " {Last Name: Jay  First Name: Julius},\n",
       " \n",
       " {Last Name: Tee  First Name: Absen}]"
      ]
     },
     "execution_count": 6,
     "metadata": {},
     "output_type": "execute_result"
    }
   ],
   "source": [
    "# Ability to change first name, last name, print out new list in ascending orders, and printout unsorted new list\n",
    "print(\"Before the change of E2\\t\\t\", E2)\n",
    "E2.getFirstName(\"Jane\")\n",
    "print(\"After change of First Name of E2\", E2)\n",
    "E2.getLastName(\"Bow\")\n",
    "print(\"After change of Last Name of E2\\t\", E2)\n",
    "print(\"\\n\")\n",
    "print(\"All employees names resorted with changes\")\n",
    "print(merge_sort(Employees))                                                # SortAscending(Employees)\n",
    "print(\"\\n\")\n",
    "print(\"All employees names unsorted with changes\")\n",
    "Employees"
   ]
  },
  {
   "cell_type": "markdown",
   "metadata": {
    "id": "uVSNdIQqSkGA"
   },
   "source": [
    "# 2. Class for Store"
   ]
  },
  {
   "cell_type": "code",
   "execution_count": 7,
   "metadata": {
    "id": "NvHTxAZB7FZN"
   },
   "outputs": [],
   "source": [
    "class Store(Employee):\n",
    "  \n",
    "    def __init__(self, name, Address, Zip, Phone, Monthly_Sales= None, Employees = None):\n",
    "      super().__init__(name)\n",
    "      self.Address = Address\n",
    "      self.Zip = Zip\n",
    "      self.Phone = Phone\n",
    "      if Monthly_Sales is None:\n",
    "        self.Monthly_Sales = 0\n",
    "      else:\n",
    "        self.Monthly_Sales = Monthly_Sales\n",
    "      self.Addresses = None\n",
    "      if Employees is None:\n",
    "        self.Employees = 0\n",
    "      else:\n",
    "        self.Employees = Employees\n",
    "        self.isSorted = True    \n",
    "      \n",
    "    def getAddress(self, Address):                # changes the address\n",
    "        self.Address = Address\n",
    "\n",
    "    def getZip(self, Zip):                        # changes the zip\n",
    "        self.Zip = Zip\n",
    "\n",
    "    def getPhone(self, Phone):                    # changes the phone number\n",
    "        self.Phone = Phone        \n",
    "\n",
    "    def getMonthly_Sales(self, Monthly_Sales):    # changes the Monthly Sales\n",
    "        self.Monthly_Sales = Monthly_Sales\n",
    "\n",
    "    def addEmployee(self, Employee):              # Add employee\n",
    "        if Employee not in self.Employees:\n",
    "          self.Employees.append(Employee)\n",
    "        self.isSorted = False\n",
    "          \n",
    "    def removeEmployee(self, Employee):          # Remove employee\n",
    "        if Employee in self.Employees:\n",
    "          self.Employees.remove(Employee)\n",
    "        self.isSorted = False\n",
    "\n",
    "    def EmployeeInfo(self):                     # Provide employee info\n",
    "      return self.Employees      \n",
    "\n",
    "    def allEmployees(self):                     # Return list of employees\n",
    "      if not self.isSorted:\n",
    "        self.Employees.sort()\n",
    "        self.isSorted = True\n",
    "      return self.Employees[:] \n",
    "\n",
    "    def Monthy_SalesInfo(self):                 # Return monthly sales info\n",
    "      return self.Monthly_Sales\n",
    "\n",
    "    def __lt__(self, other):                    # Less than function used for sorting monthly sales followed by last name\n",
    "        if self.Zip == other.Zip:\n",
    "          return self.Monthly_Sales < other.Monthly_Sales\n",
    "        return self.Zip < other.Zip\n",
    "\n",
    "    def __repr__(self):\n",
    "        return \"\\n {\" + \"Location Name: \" + str(self.name) + \"  Address: \" + str(self.Address) + \"  Zip: \" + str(self.Zip) + \"  Phone: \" + str(self.Phone) +\"  Monthly_Sales: \" + str(self.Monthly_Sales) + \"}\"\n"
   ]
  },
  {
   "cell_type": "code",
   "execution_count": 8,
   "metadata": {
    "colab": {
     "base_uri": "https://localhost:8080/"
    },
    "id": "oH16y1YMTCDQ",
    "outputId": "7ef7a0ef-d1e5-4d5e-d72c-ca96efe9432e"
   },
   "outputs": [
    {
     "data": {
      "text/plain": [
       "[\n",
       "  {Location Name: Timm Tong  Address: 2 Russell St  Zip: 20840  Phone: 2406455  Monthly_Sales: 80},\n",
       " \n",
       "  {Location Name: Ball Mall  Address: 345 Darn St  Zip: 98790  Phone: 30185642  Monthly_Sales: 97},\n",
       " \n",
       "  {Location Name: Fall View  Address: 409 Octo St  Zip: 98500  Phone: 30185642  Monthly_Sales: 40},\n",
       " \n",
       "  {Location Name: Uppy Hill  Address: 908 Rush St  Zip: 20007  Phone: 2406455  Monthly_Sales: 150},\n",
       " \n",
       "  {Location Name: Scoretown  Address: 714 Loud St  Zip: 78600  Phone: 30185642  Monthly_Sales: 221},\n",
       " \n",
       "  {Location Name: Hott City  Address: 608 Russell St  Zip: 20846  Phone: 2406455  Monthly_Sales: 58}]"
      ]
     },
     "execution_count": 8,
     "metadata": {},
     "output_type": "execute_result"
    }
   ],
   "source": [
    "# Store has address including zip code and phone number\n",
    "S1 = Store(\"Timm Tong\", \"2 Russell St\", 20840, 2406455, 80,[E1, E2, E3])\n",
    "S2 = Store(\"Ball Mall\", \"345 Darn St\", 98790, 30185642, 97, [E2])\n",
    "S3 = Store(\"Fall View\", \"409 Octo St\", 98500, 30185642, 40, [E3])\n",
    "S4 = Store(\"Uppy Hill\", \"908 Rush St\", 20007, 2406455, 150, [E6])\n",
    "S5 = Store(\"Scoretown\", \"714 Loud St\", 78600, 30185642, 221, [E5])\n",
    "S6 = Store(\"Hott City\", \"608 Russell St\", 20846, 2406455, 58, [E3])\n",
    "\n",
    "Stores = [S1, S2, S3, S4, S5, S6]\n",
    "Stores"
   ]
  },
  {
   "cell_type": "code",
   "execution_count": 9,
   "metadata": {
    "colab": {
     "base_uri": "https://localhost:8080/"
    },
    "id": "0AGuEFZnsvgg",
    "outputId": "3330b9e5-5416-47e5-9027-0b17d9dc5ef8"
   },
   "outputs": [
    {
     "data": {
      "text/plain": [
       "80"
      ]
     },
     "execution_count": 9,
     "metadata": {},
     "output_type": "execute_result"
    }
   ],
   "source": [
    "# Ability to show monthly sales info\n",
    "S1.Monthy_SalesInfo()"
   ]
  },
  {
   "cell_type": "code",
   "execution_count": 10,
   "metadata": {
    "colab": {
     "base_uri": "https://localhost:8080/"
    },
    "id": "YPJSmNJDAVBV",
    "outputId": "09512345-4401-4e5d-cee9-bb14965c4b8c"
   },
   "outputs": [
    {
     "name": "stdout",
     "output_type": "stream",
     "text": [
      "Store 1's employees\n"
     ]
    },
    {
     "data": {
      "text/plain": [
       "[\n",
       " {Last Name: Zong  First Name: Julie},\n",
       " \n",
       " {Last Name: Bow  First Name: Jane},\n",
       " \n",
       " {Last Name: Day  First Name: Angel}]"
      ]
     },
     "execution_count": 10,
     "metadata": {},
     "output_type": "execute_result"
    }
   ],
   "source": [
    "# Ability to hold a list of employees in a particular store\n",
    "print(\"Store 1's employees\")\n",
    "S1.EmployeeInfo()"
   ]
  },
  {
   "cell_type": "code",
   "execution_count": 11,
   "metadata": {
    "colab": {
     "base_uri": "https://localhost:8080/"
    },
    "id": "EdkzwgOMm3_y",
    "outputId": "59353003-4a7c-437e-eef1-a1a0e3ff0592"
   },
   "outputs": [
    {
     "name": "stdout",
     "output_type": "stream",
     "text": [
      "Store 2's employee\n"
     ]
    },
    {
     "data": {
      "text/plain": [
       "[\n",
       " {Last Name: Bow  First Name: Jane}]"
      ]
     },
     "execution_count": 11,
     "metadata": {},
     "output_type": "execute_result"
    }
   ],
   "source": [
    "# Ability to print employee of a particular store\n",
    "print(\"Store 2's employee\")\n",
    "S2.EmployeeInfo()"
   ]
  },
  {
   "cell_type": "code",
   "execution_count": 12,
   "metadata": {
    "colab": {
     "base_uri": "https://localhost:8080/"
    },
    "id": "QTnXKTnSfR0b",
    "outputId": "c294ae32-f30f-430a-d48c-11e195bd8882"
   },
   "outputs": [
    {
     "name": "stdout",
     "output_type": "stream",
     "text": [
      "Current employee in S3\n",
      "[\n",
      "{Last Name: Day  First Name: Angel}]\n",
      "Store 3 added Cookie Cool and removed Angel Day\n"
     ]
    },
    {
     "data": {
      "text/plain": [
       "[\n",
       " {Last Name: Cool  First Name: Cookie}]"
      ]
     },
     "execution_count": 12,
     "metadata": {},
     "output_type": "execute_result"
    }
   ],
   "source": [
    "# Ability to add and remove employees \n",
    "print(\"Current employee in S3\")\n",
    "print(S3.EmployeeInfo())\n",
    "E6 = Employee(\"Cookie Cool\")\n",
    "print(\"Store 3 added Cookie Cool and removed Angel Day\")\n",
    "S3.addEmployee(E6)\n",
    "S3.removeEmployee(E3)\n",
    "S3.EmployeeInfo()\n"
   ]
  },
  {
   "cell_type": "code",
   "execution_count": 13,
   "metadata": {
    "colab": {
     "base_uri": "https://localhost:8080/"
    },
    "id": "afJ4DsdOTg2E",
    "outputId": "2fd1b00e-3572-4542-f3c6-afe20951b0e2"
   },
   "outputs": [
    {
     "data": {
      "text/plain": [
       "[\n",
       "  {Location Name: Timm Tong  Address: 2 Russell St  Zip: 20840  Phone: 2406455  Monthly_Sales: 80},\n",
       " \n",
       "  {Location Name: Ball Mall  Address: 345 Darn St  Zip: 98790  Phone: 2409867  Monthly_Sales: 97},\n",
       " \n",
       "  {Location Name: Fall View  Address: 409 Octo St  Zip: 27508  Phone: 30185642  Monthly_Sales: 40},\n",
       " \n",
       "  {Location Name: Uppy Hill  Address: 88 Gung St  Zip: 20007  Phone: 2406455  Monthly_Sales: 150},\n",
       " \n",
       "  {Location Name: Scoretown  Address: 714 Loud St  Zip: 78600  Phone: 30185642  Monthly_Sales: 221},\n",
       " \n",
       "  {Location Name: Hott City  Address: 608 Russell St  Zip: 20846  Phone: 2406455  Monthly_Sales: 58}]"
      ]
     },
     "execution_count": 13,
     "metadata": {},
     "output_type": "execute_result"
    }
   ],
   "source": [
    "# Ability to change store address, phone numbers, monthly sales, and zip code\n",
    "S4.getAddress(\"88 Gung St\")\n",
    "S3.getZip(27508)\n",
    "S2.getPhone(2409867)\n",
    "S3.getMonthly_Sales(40)\n",
    "Stores"
   ]
  },
  {
   "cell_type": "code",
   "execution_count": 14,
   "metadata": {
    "colab": {
     "base_uri": "https://localhost:8080/"
    },
    "id": "WHONtgb2MY1p",
    "outputId": "4e612f9c-b659-40a0-cd80-c1ec21400fa4"
   },
   "outputs": [
    {
     "name": "stdout",
     "output_type": "stream",
     "text": [
      "[\n",
      " {Location Name: Uppy Hill  Address: 88 Gung St  Zip: 20007  Phone: 2406455  Monthly_Sales: 150}, \n",
      " {Location Name: Timm Tong  Address: 2 Russell St  Zip: 20840  Phone: 2406455  Monthly_Sales: 80}, \n",
      " {Location Name: Hott City  Address: 608 Russell St  Zip: 20846  Phone: 2406455  Monthly_Sales: 58}, \n",
      " {Location Name: Fall View  Address: 409 Octo St  Zip: 27508  Phone: 30185642  Monthly_Sales: 40}, \n",
      " {Location Name: Scoretown  Address: 714 Loud St  Zip: 78600  Phone: 30185642  Monthly_Sales: 221}, \n",
      " {Location Name: Ball Mall  Address: 345 Darn St  Zip: 98790  Phone: 2409867  Monthly_Sales: 97}]\n"
     ]
    }
   ],
   "source": [
    "# Ability to Sort Ascending Order for the Zip\n",
    "merge_Store = merge_sort(Stores)\n",
    "print(merge_Store)"
   ]
  },
  {
   "cell_type": "markdown",
   "metadata": {
    "id": "JA3o1w8Bfr_F"
   },
   "source": [
    "# 3. Class Customer"
   ]
  },
  {
   "cell_type": "code",
   "execution_count": 15,
   "metadata": {
    "id": "ia4hQ2II_zuu"
   },
   "outputs": [],
   "source": [
    "class Customer(Store):\n",
    "    def __init__(self, name, Address, Zip, Phone, FreqMileage, Monthly_Sales, Stores = None):\n",
    "        super().__init__(name, Address, Zip, Phone, Monthly_Sales, Employees = None)\n",
    "        self.name = name\n",
    "        try:\n",
    "          last_blank = name.rindex(' ')\n",
    "          self.last_name = name[last_blank+1:]\n",
    "          self.first_name = name[:last_blank]\n",
    "        except:\n",
    "          self.last_name = name \n",
    "        self.Phone = Phone\n",
    "        self.Zip = Zip\n",
    "        self.FreqMileage = FreqMileage\n",
    "        if Stores is None:\n",
    "          self.Stores = 0\n",
    "        else:\n",
    "          self.Stores = Stores        \n",
    "        \n",
    "    def getLastName(self, last_name):\n",
    "        \"\"\"Returns self's last name\"\"\"\n",
    "        self.last_name = last_name\n",
    "\n",
    "    def getFirstName(self, first_name):\n",
    "        \"\"\"Returns self's first name\"\"\"\n",
    "        self.first_name = first_name\n",
    "\n",
    "    def getPhone(self, Phone):\n",
    "        self.Phone = Phone\n",
    "\n",
    "    def getZip(self, Zip):\n",
    "        self.Zip = Zip\n",
    "\n",
    "    def getFreqMileage(self, FreqMileage):\n",
    "        self.FreqMileage = FreqMileage\n",
    "\n",
    "    def __lt__(self, other):\n",
    "        if self.last_name == other.last_name:\n",
    "          return self.first_name < other.first_name\n",
    "        return self.last_name < other.last_name\n",
    "\n",
    "    def __repr__(self):\n",
    "      return \"\\n {\"+\"First Name: \" + self.first_name + \"\\tLast Name: \" + self.last_name + \"\\t  Phone Number: \"  + str(self.Phone) +\"\\t Zip Code: \" + str(self.Zip) + \"   Frequent Mileage Number: \" + str(self.FreqMileage) + \"}\"\n"
   ]
  },
  {
   "cell_type": "code",
   "execution_count": 16,
   "metadata": {
    "colab": {
     "base_uri": "https://localhost:8080/"
    },
    "id": "eSjGfQJD_7xI",
    "outputId": "3a8bbe52-aba3-4986-8f42-12627d9c1bac"
   },
   "outputs": [
    {
     "name": "stdout",
     "output_type": "stream",
     "text": [
      "\n",
      " {First Name: Isaac\tLast Name: Rock\t  Phone Number: 301734\t Zip Code: 20850   Frequent Mileage Number: 89765}\n",
      "\n",
      " {First Name: Hong\tLast Name: Ting\t  Phone Number: 4105898\t Zip Code: 45030   Frequent Mileage Number: 98760}\n",
      "\n",
      " {First Name: Chris\tLast Name: Fong\t  Phone Number: 3403456\t Zip Code: 80778   Frequent Mileage Number: 34564}\n",
      "\n",
      " {First Name: Fulton\tLast Name: Fith\t  Phone Number: 2408758\t Zip Code: 80765   Frequent Mileage Number: 57460}\n",
      "\n",
      " {First Name: Matt\tLast Name: Hill\t  Phone Number: 3479856\t Zip Code: 10798   Frequent Mileage Number: 34564}\n",
      "\n",
      " {First Name: Ally\tLast Name: Hoy\t  Phone Number: 1203458\t Zip Code: 30745   Frequent Mileage Number: 19560}\n"
     ]
    }
   ],
   "source": [
    "C1 = Customer('Isaac Rock', '12 Hilly Side', 20850, 301734, 89765, 4, S1)\n",
    "C2 = Customer('Hong Ting', '34 Lavender St', 45030, 4105898, 98760, 3, S2)\n",
    "C3 = Customer(\"Chris Fong\", '55 Jasmin Flr', 80778, 3403456, 34564, 4, S5)\n",
    "C4 = Customer(\"Fulton Fith\", '76 Bud Hill', 80765, 2408758, 57460, 2, S6)\n",
    "C5 = Customer(\"Matt Hill\", '90 Purple Flr', 10798, 3479856, 34564, 4, S4)\n",
    "C6 = Customer(\"Ally Hoy\", '98 Yellow Hill', 30745, 1203458, 19560, 2, S3)\n",
    "\n",
    "Customers = [C1, C2, C3, C4, C5, C6]\n",
    "for i in Customers:\n",
    "  print(i)"
   ]
  },
  {
   "cell_type": "code",
   "execution_count": 17,
   "metadata": {
    "colab": {
     "base_uri": "https://localhost:8080/"
    },
    "id": "k4tPvAYG_7ii",
    "outputId": "de14a262-2b0c-4f7e-ae43-d8d23072a890"
   },
   "outputs": [
    {
     "name": "stdout",
     "output_type": "stream",
     "text": [
      "[\n",
      " {First Name: Fulton\tLast Name: Fith\t  Phone Number: 2408758\t Zip Code: 80765   Frequent Mileage Number: 57460}, \n",
      " {First Name: Chris\tLast Name: Fong\t  Phone Number: 3403456\t Zip Code: 80778   Frequent Mileage Number: 34564}, \n",
      " {First Name: Matt\tLast Name: Hill\t  Phone Number: 3479856\t Zip Code: 10798   Frequent Mileage Number: 34564}, \n",
      " {First Name: Ally\tLast Name: Hoy\t  Phone Number: 1203458\t Zip Code: 30745   Frequent Mileage Number: 19560}, \n",
      " {First Name: Isaac\tLast Name: Rock\t  Phone Number: 301734\t Zip Code: 20850   Frequent Mileage Number: 89765}, \n",
      " {First Name: Hong\tLast Name: Ting\t  Phone Number: 4105898\t Zip Code: 45030   Frequent Mileage Number: 98760}]\n"
     ]
    }
   ],
   "source": [
    "# Ability to sort the customers in ascending order based on the last names\n",
    "merge_Cust = merge_sort(Customers)\n",
    "print(merge_Cust)"
   ]
  },
  {
   "cell_type": "code",
   "execution_count": 18,
   "metadata": {
    "colab": {
     "base_uri": "https://localhost:8080/"
    },
    "id": "WDWu_xJj_7aO",
    "outputId": "f7ee35c5-068d-4d82-9670-042af835b1a3"
   },
   "outputs": [
    {
     "name": "stdout",
     "output_type": "stream",
     "text": [
      "Before the change of C2\n",
      "\n",
      " {First Name: Hong\tLast Name: Ting\t  Phone Number: 4105898\t Zip Code: 45030   Frequent Mileage Number: 98760}\n",
      "\n",
      "\n",
      "All customers names resorted with new info\n",
      "[\n",
      " {First Name: Fulton\tLast Name: Fith\t  Phone Number: 2408758\t Zip Code: 80765   Frequent Mileage Number: 57460}, \n",
      " {First Name: Chris\tLast Name: Fong\t  Phone Number: 3403456\t Zip Code: 80778   Frequent Mileage Number: 34564}, \n",
      " {First Name: Matt\tLast Name: Hill\t  Phone Number: 3479856\t Zip Code: 10798   Frequent Mileage Number: 34564}, \n",
      " {First Name: Ally\tLast Name: Hoy\t  Phone Number: 1203458\t Zip Code: 30745   Frequent Mileage Number: 19560}, \n",
      " {First Name: Isaac\tLast Name: Rock\t  Phone Number: 301734\t Zip Code: 20850   Frequent Mileage Number: 89765}, \n",
      " {First Name: Fay\tLast Name: Tigg\t  Phone Number: 5404556\t Zip Code: 15750   Frequent Mileage Number: 41}]\n",
      "\n",
      "\n",
      "All customers names unsorted with new info\n"
     ]
    },
    {
     "data": {
      "text/plain": [
       "[\n",
       "  {First Name: Isaac\tLast Name: Rock\t  Phone Number: 301734\t Zip Code: 20850   Frequent Mileage Number: 89765},\n",
       " \n",
       "  {First Name: Fay\tLast Name: Tigg\t  Phone Number: 5404556\t Zip Code: 15750   Frequent Mileage Number: 41},\n",
       " \n",
       "  {First Name: Chris\tLast Name: Fong\t  Phone Number: 3403456\t Zip Code: 80778   Frequent Mileage Number: 34564},\n",
       " \n",
       "  {First Name: Fulton\tLast Name: Fith\t  Phone Number: 2408758\t Zip Code: 80765   Frequent Mileage Number: 57460},\n",
       " \n",
       "  {First Name: Matt\tLast Name: Hill\t  Phone Number: 3479856\t Zip Code: 10798   Frequent Mileage Number: 34564},\n",
       " \n",
       "  {First Name: Ally\tLast Name: Hoy\t  Phone Number: 1203458\t Zip Code: 30745   Frequent Mileage Number: 19560}]"
      ]
     },
     "execution_count": 18,
     "metadata": {},
     "output_type": "execute_result"
    }
   ],
   "source": [
    "# Ability to change first name, last name, phone number, zip code, and frequent mileage\n",
    "print(\"Before the change of C2\")\n",
    "print(C2)\n",
    "C2.getFirstName(\"Fay\")\n",
    "C2.getLastName(\"Tigg\")\n",
    "C2.getPhone(5404556)\n",
    "C2.getZip(\"15750\")\n",
    "C2.getFreqMileage(\"41\")\n",
    "print(\"\\n\")\n",
    "print(\"All customers names resorted with new info\")\n",
    "merge_Cust = merge_sort(Customers)\n",
    "print(merge_Cust)\n",
    "print(\"\\n\")\n",
    "print(\"All customers names unsorted with new info\")\n",
    "Customers"
   ]
  },
  {
   "cell_type": "code",
   "execution_count": 19,
   "metadata": {
    "colab": {
     "base_uri": "https://localhost:8080/",
     "height": 35
    },
    "id": "QeBVGRUOu7Yb",
    "outputId": "896ba05b-44ab-4dc8-f22a-06de681ae1e9"
   },
   "outputs": [
    {
     "data": {
      "text/plain": [
       "'Isaac'"
      ]
     },
     "execution_count": 19,
     "metadata": {},
     "output_type": "execute_result"
    }
   ],
   "source": [
    "# Ability to pull out customer's first name on the list\n",
    "Customers[0].first_name"
   ]
  },
  {
   "cell_type": "code",
   "execution_count": 20,
   "metadata": {
    "colab": {
     "base_uri": "https://localhost:8080/"
    },
    "id": "cFTzrh_78EtG",
    "outputId": "0797c092-b869-4cc6-d5ef-f43e201d1570"
   },
   "outputs": [
    {
     "name": "stdout",
     "output_type": "stream",
     "text": [
      "['Fulton', 'Chris', 'Matt', 'Ally', 'Isaac', 'Fay'] ['Fith', 'Fong', 'Hill', 'Hoy', 'Rock', 'Tigg'] [80765, 80778, 10798, 30745, 20850, '15750'] [2408758, 3403456, 3479856, 1203458, 301734, 5404556] [57460, 34564, 34564, 19560, 89765, '41']\n"
     ]
    }
   ],
   "source": [
    "# Customers merge sort to prepare for searching last name:\n",
    "cust_first_name = []\n",
    "cust_last_name = []\n",
    "cust_zip = []\n",
    "cust_phone = []\n",
    "cust_freqMileage = []\n",
    "\n",
    "for i in merge_Cust:\n",
    "  cust_first_name.append(i.first_name)\n",
    "  cust_last_name.append(i.last_name)\n",
    "  cust_zip.append(i.Zip)\n",
    "  cust_phone.append(i.Phone)\n",
    "  cust_freqMileage.append(i.FreqMileage)\n",
    "print(cust_first_name, cust_last_name, cust_zip, cust_phone, cust_freqMileage)  \n"
   ]
  },
  {
   "cell_type": "code",
   "execution_count": 21,
   "metadata": {
    "colab": {
     "base_uri": "https://localhost:8080/"
    },
    "id": "BG7WNIfySLG_",
    "outputId": "748d22c9-bb6e-4068-9090-d0cf5c89030c"
   },
   "outputs": [
    {
     "name": "stdout",
     "output_type": "stream",
     "text": [
      "Enter the last name: Fong\n",
      "Chris Fong \tPhone:  3403456 \t Zip:  80778 \tFrequent Mileage:  34564\n"
     ]
    }
   ],
   "source": [
    "# ITERATIVE BINARY SEARCH\n",
    "# considered edge cases: 1. input value doesn't exist in the array, 2. empty array\n",
    "# last names to consider Fith', 'Fong', 'Hill', 'Hoy', 'Rock', 'Tigg' \n",
    "in_value = input(\"Enter the last name: \")\n",
    "\n",
    "def binary_search(value, array):\n",
    "    low, high = 0, len(array)-1\n",
    "    while low <= high:\n",
    "        mid = low + (high - low) // 2\n",
    "        mid_value = array[mid]\n",
    "        if mid_value == value:\n",
    "            return mid\n",
    "        elif mid_value < value:\n",
    "            low = mid + 1\n",
    "        else:\n",
    "            high = mid - 1\n",
    "    return -1\n",
    "\n",
    "result = binary_search(in_value, cust_last_name )\n",
    "if result == -1:\n",
    "  print(\"No such customer in the list\")\n",
    "else:\n",
    "  print(cust_first_name[result], cust_last_name[result], \"\\tPhone: \", cust_phone[result],\n",
    "        \"\\t Zip: \",  cust_zip[result], \"\\tFrequent Mileage: \", cust_freqMileage[result])"
   ]
  },
  {
   "cell_type": "code",
   "execution_count": 22,
   "metadata": {
    "colab": {
     "base_uri": "https://localhost:8080/"
    },
    "id": "8cdvbD7ISkxL",
    "outputId": "12028d28-71a0-4d28-8725-b6d715b9e6ff"
   },
   "outputs": [
    {
     "name": "stdout",
     "output_type": "stream",
     "text": [
      "['Uppy Hill', 'Timm Tong', 'Hott City', 'Fall View', 'Scoretown', 'Ball Mall'] ['88 Gung St', '2 Russell St', '608 Russell St', '409 Octo St', '714 Loud St', '345 Darn St'] [20007, 20840, 20846, 27508, 78600, 98790] [2406455, 2406455, 2406455, 30185642, 30185642, 2409867] [150, 80, 58, 40, 221, 97]\n"
     ]
    }
   ],
   "source": [
    "# Store merge sort to prepare for searching store zip code:\n",
    "store_name = []\n",
    "store_address = []\n",
    "store_zip = []\n",
    "store_phone = []\n",
    "store_monthlySales = []\n",
    "\n",
    "for i in merge_Store:\n",
    "  store_name.append(i.name)\n",
    "  store_address.append(i.Address)\n",
    "  store_zip.append(i.Zip)\n",
    "  store_phone.append(i.Phone)\n",
    "  store_monthlySales.append(i.Monthly_Sales)\n",
    "print(store_name, store_address, store_zip, store_phone, store_monthlySales)"
   ]
  },
  {
   "cell_type": "code",
   "execution_count": 23,
   "metadata": {
    "colab": {
     "base_uri": "https://localhost:8080/"
    },
    "id": "tZ1rZz9dSLEF",
    "outputId": "8802e2a9-ce58-4828-8dd4-e473857da026"
   },
   "outputs": [
    {
     "name": "stdout",
     "output_type": "stream",
     "text": [
      "Enter a customer zip code to match store's zip code: 20007\n",
      "Uppy Hill \tPhone:  2406455 \t Zip:  20007 \tMonthly Sales:  150\n"
     ]
    }
   ],
   "source": [
    "#Binary Search for a store zip code to match a customer's zip. Use zip code 20840\n",
    "#Zip code selections are 20007, 20840, 20846, 27508, 78600, 98790\n",
    "in_value =int(input(\"Enter a customer zip code to match store's zip code: \"))\n",
    "result = binary_search(in_value, store_zip)\n",
    "if result == -1:\n",
    "  print(\"No such location in the list\")\n",
    "else:\n",
    "  print(store_name[result], \"\\tPhone: \", store_phone[result], \"\\t Zip: \",  store_zip[result], \"\\tMonthly Sales: \", store_monthlySales[result])\n"
   ]
  },
  {
   "cell_type": "markdown",
   "metadata": {
    "id": "xdOxWn4jCEP3"
   },
   "source": [
    "# 4. Class for Pizza"
   ]
  },
  {
   "cell_type": "code",
   "execution_count": 24,
   "metadata": {
    "id": "HR9PVicOJ4_w"
   },
   "outputs": [],
   "source": [
    "class Pizza:\n",
    "\n",
    "  def __init__(self, TOPPING, PRICE, CRUST):\n",
    "    self.toppings = TOPPING\n",
    "    self.tot_price = len(self.toppings)* PRICE\n",
    "    self.crust = CRUST\n",
    "    \n",
    "  def add_top(self, TOPPING, PRICE):        # add topping and price\n",
    "      self.toppings.append(TOPPING)\n",
    "      self.tot_price += PRICE\n",
    "      return self.toppings, self.tot_price\n",
    "        \n",
    "  def remove_top(self, TOPPING, PRICE):     # remove topping and price\n",
    "      try:\n",
    "        self.toppings.remove(TOPPING)\n",
    "        self.tot_price -= PRICE      \n",
    "      except:\n",
    "        raise ValueError (str(TOPPING) + ' not found')\n",
    "      return self.toppings, self.tot_price\n",
    "\n",
    "  def setCrust(self, CRUST):          # change the crust info\n",
    "      self.crust = CRUST\n",
    "  \n",
    "  def getTop(self):                   # get the toppings info\n",
    "      return self.toppings[:]\n",
    "\n",
    "  def getTopPrice(self):              # get the total price\n",
    "      return self.tot_price\n",
    "      \n",
    "  def getCrust(self):                 # get the crust info\n",
    "      return self.crust\n",
    "\n",
    "\n",
    "  def show(self):\n",
    "        return \"{\"+ \"Toppings: \"+ str(self.getTop())   + \"  Crust: \" +  self.getCrust() + \"  Total Price: $\" + str(self.getTopPrice())  +  \"}\"\n",
    "\n",
    "  def __repr__(self):\n",
    "      return \"{\"+ \"Toppings: \"+ str(self.getTop()) +  \"  Crust: \" +  self.getCrust() + \" Total Price: $\" + str(self.getTopPrice()) + \"  Crust: \" +  self.getCrust() + \"}\""
   ]
  },
  {
   "cell_type": "code",
   "execution_count": 25,
   "metadata": {
    "id": "qag8ijfQl6jn"
   },
   "outputs": [],
   "source": [
    "PT1 = Pizza([\"ham\", \"egg\", \"tomato\"], 1.50, \"thick\")\n",
    "PT2 = Pizza([\"green\", \"pepper\"], 2.00, \"thin\")\n",
    "PT3 = Pizza([\"cheese\"], .50, \"thick\")\n",
    "PT4 = Pizza([\"shrimp\", \"spam\", \"apple\"], 1.50, \"thick\")\n",
    "PT5 = Pizza([\"orange\", \"peaches\"], 1.20, \"thin\")\n",
    "PT6 = Pizza([\"caramel\"], .75, \"thick\")\n",
    "\n",
    "PT = [PT1, PT2, PT3, PT4, PT5, PT6]"
   ]
  },
  {
   "cell_type": "code",
   "execution_count": 26,
   "metadata": {
    "colab": {
     "base_uri": "https://localhost:8080/"
    },
    "id": "n6xLMHVVl6cm",
    "outputId": "dac13fdb-d95a-4ce2-8c18-acffd7b9ebe3"
   },
   "outputs": [
    {
     "data": {
      "text/plain": [
       "(['ham', 'egg', 'tomato', 'cheese'], 6.5)"
      ]
     },
     "execution_count": 26,
     "metadata": {},
     "output_type": "execute_result"
    }
   ],
   "source": [
    "# Ability to add toppings and new price on the order\n",
    "PT1.add_top(\"cheese\", 2.00)"
   ]
  },
  {
   "cell_type": "code",
   "execution_count": 27,
   "metadata": {
    "colab": {
     "base_uri": "https://localhost:8080/"
    },
    "id": "7lJYKiN2l6SQ",
    "outputId": "2d68b894-40ba-41a7-a1b7-20f2d5449a5f"
   },
   "outputs": [
    {
     "data": {
      "text/plain": [
       "(['ham', 'tomato', 'cheese'], 4.5)"
      ]
     },
     "execution_count": 27,
     "metadata": {},
     "output_type": "execute_result"
    }
   ],
   "source": [
    "# Ability to remove toppings and revise price on the order\n",
    "PT1.remove_top(\"egg\", 2.00)"
   ]
  },
  {
   "cell_type": "code",
   "execution_count": 28,
   "metadata": {
    "id": "2GMZYJydmLHk"
   },
   "outputs": [],
   "source": [
    "# Ability to change type of crust\n",
    "PT1.setCrust(\"thin\")"
   ]
  },
  {
   "cell_type": "code",
   "execution_count": 29,
   "metadata": {
    "colab": {
     "base_uri": "https://localhost:8080/",
     "height": 35
    },
    "id": "lIJUVP3CmKxe",
    "outputId": "585c4a17-48ac-49ad-cbe5-931fcc9f9307"
   },
   "outputs": [
    {
     "data": {
      "text/plain": [
       "\"{Toppings: ['ham', 'tomato', 'cheese']  Crust: thin  Total Price: $4.5}\""
      ]
     },
     "execution_count": 29,
     "metadata": {},
     "output_type": "execute_result"
    }
   ],
   "source": [
    "# Ability to show the new changes\n",
    "PT1.show()"
   ]
  },
  {
   "cell_type": "code",
   "execution_count": 30,
   "metadata": {
    "colab": {
     "base_uri": "https://localhost:8080/"
    },
    "id": "zoohbXrYmS3K",
    "outputId": "eca94780-2c5c-445f-8e1d-3d6f5fd6a425"
   },
   "outputs": [
    {
     "name": "stdout",
     "output_type": "stream",
     "text": [
      "{Toppings: ['ham', 'tomato', 'cheese']  Crust: thin Total Price: $4.5  Crust: thin}\n",
      "{Toppings: ['green', 'pepper']  Crust: thin Total Price: $4.0  Crust: thin}\n",
      "{Toppings: ['cheese']  Crust: thick Total Price: $0.5  Crust: thick}\n",
      "{Toppings: ['shrimp', 'spam', 'apple']  Crust: thick Total Price: $4.5  Crust: thick}\n",
      "{Toppings: ['orange', 'peaches']  Crust: thin Total Price: $2.4  Crust: thin}\n",
      "{Toppings: ['caramel']  Crust: thick Total Price: $0.75  Crust: thick}\n"
     ]
    }
   ],
   "source": [
    "# Ability to show the list of topping orders\n",
    "for i in PT:\n",
    "  print(i)"
   ]
  },
  {
   "cell_type": "markdown",
   "metadata": {
    "id": "2F7UkuRky2dt"
   },
   "source": [
    "# 5. Class for PizzaOrder\n"
   ]
  },
  {
   "cell_type": "code",
   "execution_count": 31,
   "metadata": {
    "id": "tko9J3LmtbvD"
   },
   "outputs": [],
   "source": [
    "class PizzaOrder():\n",
    "\n",
    "  def __init__(self, PizzaNum, DateEntered, TotalOrder, OrderStatus, Pizzas = None, Customers= None, Stores=None):\n",
    "    self.PizzaNum = PizzaNum\n",
    "    self.DateEntered = DateEntered\n",
    "    self.TotalOrder = TotalOrder\n",
    "    self.OrderStatus = OrderStatus\n",
    "    if Pizzas is None:\n",
    "          self.Pizzas = []\n",
    "    else:\n",
    "          self.Pizzas = Pizzas\n",
    "    if Customers is None:\n",
    "          self.Customers = 0\n",
    "    else:\n",
    "          self.Customers = Customers\n",
    "    if Stores is None:\n",
    "          self.Stores = 0\n",
    "    else:\n",
    "          self.Stores = Stores\n",
    "\n",
    "  def setPizzaNum(self, PizzaNum):\n",
    "    self.PizzaNum = PizzaNum\n",
    "    return self.PizzaNum\n",
    "\n",
    "  def setTotalOrder(self, TotalOrder):\n",
    "    self.TotalOrder = TotalOrder\n",
    "    return self.TotalOrder\n",
    "      \n",
    "  def setOrderedDate(self, DateEntered):\n",
    "    self.DateEntered = DateEntered\n",
    "    return self.DateEntered\n",
    "\n",
    "  def setStatus(self, OrderStatus):\n",
    "    self.OrderStatus = OrderStatus\n",
    "    return self.OrderStatus\n",
    "\n",
    "  def add_pizza(self, OrderPizzaNum, Price):\n",
    "    self.PizzaNum += OrderPizzaNum\n",
    "    self.TotalOrder += Price\n",
    "    return self.PizzaNum, self.TotalOrder\n",
    "\n",
    "  def remove_pizza(self, OrderPizzaNum, Price):\n",
    "    self.PizzaNum -= OrderPizzaNum\n",
    "    self.TotalOrder -= Price\n",
    "    return self.PizzaNum, self.TotalOrder\n",
    "\n",
    "  def apply_Promocode(self, PromoAmount):\n",
    "    self.TotalOrder -= PromoAmount\n",
    "    return self.TotalOrder\n",
    "\n",
    "  def CustomerInfo(self):\n",
    "    return self.Customers\n",
    "\n",
    "  def PizzaInfo(self):\n",
    "    return self.Pizzas\n",
    "\n",
    "  def StoreInfo(self):\n",
    "    return self.Stores\n",
    "    \n",
    "  def __lt__(self, other):\n",
    "    if self.DateEntered == other.DateEntered:\n",
    "       return self.TotalOrder < other.TotalOrder\n",
    "    return self.DateEntered < other.DateEntered\n",
    "\n",
    "  def __repr__(self):\n",
    "       return '{' + \"No of Pizza: \" + str(self.PizzaNum) + \"\\tTotal Order $\"  + str(self.TotalOrder) + \"\\t\\tOrdered Date \"+ str(self.DateEntered) + \"\\t\\tOrder Status \" + str(self.OrderStatus) +  '}''\\n'\n"
   ]
  },
  {
   "cell_type": "code",
   "execution_count": 32,
   "metadata": {
    "colab": {
     "base_uri": "https://localhost:8080/"
    },
    "id": "e-n7mk2Qtqtu",
    "outputId": "2f5d925c-cc7c-4b04-d6fb-666b7f328126"
   },
   "outputs": [
    {
     "data": {
      "text/plain": [
       "[{No of Pizza: 3\tTotal Order $30\t\tOrdered Date 2019-01-10\t\tOrder Status created},\n",
       " {No of Pizza: 5\tTotal Order $85\t\tOrdered Date 2019-01-03\t\tOrder Status cancelled},\n",
       " {No of Pizza: 10\tTotal Order $36\t\tOrdered Date 2019-03-04\t\tOrder Status complete},\n",
       " {No of Pizza: 6\tTotal Order $70\t\tOrdered Date 2019-07-22\t\tOrder Status on delivery},\n",
       " {No of Pizza: 4\tTotal Order $36\t\tOrdered Date 2019-12-31\t\tOrder Status complete},\n",
       " {No of Pizza: 1\tTotal Order $70\t\tOrdered Date 2019-01-07\t\tOrder Status ready}]"
      ]
     },
     "execution_count": 32,
     "metadata": {},
     "output_type": "execute_result"
    }
   ],
   "source": [
    "# Entry of Pizza Orders with an unsorted list\n",
    "PO1 = PizzaOrder(3, datetime.date(2019, 1, 10), 30, \"created\", [PT1], C3, S1 )\n",
    "PO2 = PizzaOrder(5, datetime.date(2019, 1, 3), 85, \"cancelled\", [PT2], C2, S3 )\n",
    "PO3 = PizzaOrder(10, datetime.date(2019, 3, 4), 36, \"complete\", [PT4], C1, S5)\n",
    "PO4 = PizzaOrder(6, datetime.date(2019, 7, 22), 70, \"on delivery\", [PT3], C4, S6)\n",
    "PO5 = PizzaOrder(4, datetime.date(2019, 12, 31), 36, \"complete\", [PT5], C6, S2)\n",
    "PO6 = PizzaOrder(1, datetime.date(2019, 1, 7), 70, \"ready\", [PT6], C5, S1)\n",
    "\n",
    "POlist = [PO1, PO2, PO3, PO4, PO5, PO6]\n",
    "POlist\n"
   ]
  },
  {
   "cell_type": "code",
   "execution_count": 33,
   "metadata": {
    "colab": {
     "base_uri": "https://localhost:8080/"
    },
    "id": "-qi28mcN9iXP",
    "outputId": "8c6e8f7c-9b44-453e-fe9e-27b8d1fdb581"
   },
   "outputs": [
    {
     "data": {
      "text/plain": [
       "\n",
       " {First Name: Fay\tLast Name: Tigg\t  Phone Number: 5404556\t Zip Code: 15750   Frequent Mileage Number: 41}"
      ]
     },
     "execution_count": 33,
     "metadata": {},
     "output_type": "execute_result"
    }
   ],
   "source": [
    "# Ability to get customer information \n",
    "PO2.CustomerInfo()"
   ]
  },
  {
   "cell_type": "code",
   "execution_count": 34,
   "metadata": {
    "colab": {
     "base_uri": "https://localhost:8080/"
    },
    "id": "OXjEwk8u9XYw",
    "outputId": "92764e64-d4e4-4ea2-9cb3-9afcd7b1cba7"
   },
   "outputs": [
    {
     "data": {
      "text/plain": [
       "\n",
       " {Location Name: Fall View  Address: 409 Octo St  Zip: 27508  Phone: 30185642  Monthly_Sales: 40}"
      ]
     },
     "execution_count": 34,
     "metadata": {},
     "output_type": "execute_result"
    }
   ],
   "source": [
    "# Ability to get store location\n",
    "PO2.StoreInfo()"
   ]
  },
  {
   "cell_type": "code",
   "execution_count": 35,
   "metadata": {
    "colab": {
     "base_uri": "https://localhost:8080/"
    },
    "id": "BIiUnDTS36NG",
    "outputId": "38037b55-29a7-490f-e0a1-b9449fc41814"
   },
   "outputs": [
    {
     "data": {
      "text/plain": [
       "[{Toppings: ['green', 'pepper']  Crust: thin Total Price: $4.0  Crust: thin}]"
      ]
     },
     "execution_count": 35,
     "metadata": {},
     "output_type": "execute_result"
    }
   ],
   "source": [
    "# Ability to get Pizza Topping Information from class Pizza for the first Pizza Order\n",
    "PO2.PizzaInfo()"
   ]
  },
  {
   "cell_type": "code",
   "execution_count": 36,
   "metadata": {
    "colab": {
     "base_uri": "https://localhost:8080/"
    },
    "id": "f-ud6hCNlkC1",
    "outputId": "ca5caf2e-d8d8-4386-8c4e-2273ce8a3417"
   },
   "outputs": [
    {
     "data": {
      "text/plain": [
       "{No of Pizza: 4\tTotal Order $36\t\tOrdered Date 2019-12-31\t\tOrder Status complete}"
      ]
     },
     "execution_count": 36,
     "metadata": {},
     "output_type": "execute_result"
    }
   ],
   "source": [
    "# Ability to get information for the Pizza Order\n",
    "PO5"
   ]
  },
  {
   "cell_type": "code",
   "execution_count": 37,
   "metadata": {
    "colab": {
     "base_uri": "https://localhost:8080/"
    },
    "id": "fM-qvjWKOBZP",
    "outputId": "d7b53d7e-e58f-4ecf-c47f-f47e4b4b40be"
   },
   "outputs": [
    {
     "name": "stdout",
     "output_type": "stream",
     "text": [
      "Add:  (5, 46)\n",
      "Remove:  (3, 35)\n",
      "Set Total Order:  30\n",
      "Set Order Status:  returned\n",
      "Set Pizza Number:  3\n"
     ]
    }
   ],
   "source": [
    "# Ability to add/remove pizza, order more than one pizza, change price, and get an unsorted list after all the revisions\n",
    "print(\"Add: \", PO5.add_pizza(1, 10))\n",
    "print(\"Remove: \", PO5.remove_pizza(2, 11))\n",
    "print(\"Set Total Order: \", PO5.setTotalOrder(30))\n",
    "print(\"Set Order Status: \", PO5.setStatus(\"returned\"))\n",
    "print(\"Set Pizza Number: \", PO5.setPizzaNum(3))\n"
   ]
  },
  {
   "cell_type": "code",
   "execution_count": 38,
   "metadata": {
    "colab": {
     "base_uri": "https://localhost:8080/"
    },
    "id": "BFDGy0heRiuL",
    "outputId": "f143f2f8-e159-468d-e885-eb88429cf7a0"
   },
   "outputs": [
    {
     "name": "stdout",
     "output_type": "stream",
     "text": [
      "datetime changed:  2019-09-10\n"
     ]
    }
   ],
   "source": [
    "# Ability to change date for the Pizza Order\n",
    "print(\"datetime changed: \", PO5.setOrderedDate(datetime.date(2019, 9, 10)))"
   ]
  },
  {
   "cell_type": "code",
   "execution_count": 39,
   "metadata": {
    "colab": {
     "base_uri": "https://localhost:8080/"
    },
    "id": "jXrBYpopNd2y",
    "outputId": "11e7b7cf-c02b-4209-bb5e-d63aef8e1e91"
   },
   "outputs": [
    {
     "data": {
      "text/plain": [
       "20"
      ]
     },
     "execution_count": 39,
     "metadata": {},
     "output_type": "execute_result"
    }
   ],
   "source": [
    "# Ability to apply special promo code\n",
    "PO5.apply_Promocode(10)"
   ]
  },
  {
   "cell_type": "code",
   "execution_count": 40,
   "metadata": {
    "colab": {
     "base_uri": "https://localhost:8080/"
    },
    "id": "aE4K50zelxkZ",
    "outputId": "f4367c42-24c4-47ce-f484-ad219fcbdba8"
   },
   "outputs": [
    {
     "name": "stdout",
     "output_type": "stream",
     "text": [
      "Revised Unsorted List with changes\n"
     ]
    },
    {
     "data": {
      "text/plain": [
       "[{No of Pizza: 3\tTotal Order $30\t\tOrdered Date 2019-01-10\t\tOrder Status created},\n",
       " {No of Pizza: 5\tTotal Order $85\t\tOrdered Date 2019-01-03\t\tOrder Status cancelled},\n",
       " {No of Pizza: 10\tTotal Order $36\t\tOrdered Date 2019-03-04\t\tOrder Status complete},\n",
       " {No of Pizza: 6\tTotal Order $70\t\tOrdered Date 2019-07-22\t\tOrder Status on delivery},\n",
       " {No of Pizza: 3\tTotal Order $20\t\tOrdered Date 2019-09-10\t\tOrder Status returned},\n",
       " {No of Pizza: 1\tTotal Order $70\t\tOrdered Date 2019-01-07\t\tOrder Status ready}]"
      ]
     },
     "execution_count": 40,
     "metadata": {},
     "output_type": "execute_result"
    }
   ],
   "source": [
    "print(\"Revised Unsorted List with changes\")\n",
    "POlist"
   ]
  },
  {
   "cell_type": "code",
   "execution_count": 41,
   "metadata": {
    "colab": {
     "base_uri": "https://localhost:8080/"
    },
    "id": "F-4wRNxykvWh",
    "outputId": "ad7ae154-5ae8-4d28-c94e-06ac50865072"
   },
   "outputs": [
    {
     "name": "stdout",
     "output_type": "stream",
     "text": [
      "[{No of Pizza: 5\tTotal Order $85\t\tOrdered Date 2019-01-03\t\tOrder Status cancelled}\n",
      ", {No of Pizza: 1\tTotal Order $70\t\tOrdered Date 2019-01-07\t\tOrder Status ready}\n",
      ", {No of Pizza: 3\tTotal Order $30\t\tOrdered Date 2019-01-10\t\tOrder Status created}\n",
      ", {No of Pizza: 10\tTotal Order $36\t\tOrdered Date 2019-03-04\t\tOrder Status complete}\n",
      ", {No of Pizza: 6\tTotal Order $70\t\tOrdered Date 2019-07-22\t\tOrder Status on delivery}\n",
      ", {No of Pizza: 3\tTotal Order $20\t\tOrdered Date 2019-09-10\t\tOrder Status returned}\n",
      "]\n"
     ]
    }
   ],
   "source": [
    "# sort PizzaOrder by orderdate and then total order \n",
    "merge_POlist = merge_sort(POlist)\n",
    "print(merge_POlist)"
   ]
  },
  {
   "cell_type": "code",
   "execution_count": 42,
   "metadata": {
    "colab": {
     "base_uri": "https://localhost:8080/"
    },
    "id": "gmwmEqSkldBt",
    "outputId": "ec2e6ce9-7b74-4994-ac53-83bdfc6d3e49"
   },
   "outputs": [
    {
     "name": "stdout",
     "output_type": "stream",
     "text": [
      "[5, 1, 3, 10, 6, 3] [datetime.date(2019, 1, 3), datetime.date(2019, 1, 7), datetime.date(2019, 1, 10), datetime.date(2019, 3, 4), datetime.date(2019, 7, 22), datetime.date(2019, 9, 10)] [85, 70, 30, 36, 70, 20] ['cancelled', 'ready', 'created', 'complete', 'on delivery', 'returned']\n"
     ]
    }
   ],
   "source": [
    "# Pizza Order merge sort to prepare for searching Order Date and Order Status:\n",
    "POlist_PizzaNum = []\n",
    "POlist_DateEntered = []\n",
    "POlist_TotalOrder = []\n",
    "POlist_OrderStatus = []\n",
    "\n",
    "for i in merge_POlist:\n",
    "  POlist_PizzaNum.append(i.PizzaNum)\n",
    "  POlist_DateEntered.append(i.DateEntered)\n",
    "  POlist_TotalOrder.append(i.TotalOrder)\n",
    "  POlist_OrderStatus.append(i.OrderStatus)\n",
    "print(POlist_PizzaNum, POlist_DateEntered, POlist_TotalOrder, POlist_OrderStatus)"
   ]
  },
  {
   "cell_type": "code",
   "execution_count": 43,
   "metadata": {
    "colab": {
     "base_uri": "https://localhost:8080/"
    },
    "id": "xAtkE-BAfOU9",
    "outputId": "d2894281-7b89-4da7-b44a-7a767dee4321"
   },
   "outputs": [
    {
     "name": "stdout",
     "output_type": "stream",
     "text": [
      "Enter search date in YYYY-MM-DD: 2019-03-01\n",
      "\n",
      "The search date later than  2019-03-01\n",
      "Ordered Date: 2019-03-04 \tNo. of Pizza:  10 \tTotal Order:  36 \tOrder Status:  complete\n",
      "Ordered Date: 2019-07-22 \tNo. of Pizza:  6 \tTotal Order:  70 \tOrder Status:  on delivery\n",
      "Ordered Date: 2019-09-10 \tNo. of Pizza:  3 \tTotal Order:  20 \tOrder Status:  returned\n",
      "\n",
      "End of Search\n"
     ]
    }
   ],
   "source": [
    "# Pull out after certain date in sorted order and will use 2019-03-01 as point of reference\n",
    "def Find_Later(y):\n",
    "  for polist in merge_POlist:\n",
    "     if y < polist.DateEntered:\n",
    "         print(\"Ordered Date:\" , polist.DateEntered, \"\\tNo. of Pizza: \", polist.PizzaNum, \"\\tTotal Order: \",\n",
    "               polist.TotalOrder, \"\\tOrder Status: \", polist.OrderStatus)\n",
    "  print(\"\\nEnd of Search\")\n",
    "\n",
    "x = input(\"Enter search date in YYYY-MM-DD: \")\n",
    "look = datetime.datetime.strptime(x, \"%Y-%m-%d\").date()\n",
    "print(\"\\nThe search date later than \", x)\n",
    "Find_Later(look)"
   ]
  },
  {
   "cell_type": "code",
   "execution_count": 44,
   "metadata": {
    "colab": {
     "base_uri": "https://localhost:8080/"
    },
    "id": "RC4A6q5Thibw",
    "outputId": "be8e870b-933d-4091-c670-848d5f3fdd45"
   },
   "outputs": [
    {
     "name": "stdout",
     "output_type": "stream",
     "text": [
      "Enter search date in YYYY-MM-DD: 2019-03-01\n",
      "\n",
      "The search date earlier than  2019-03-01\n",
      "Ordered Date: 2019-01-03 No. of Pizza:  5 Total Order:  85 Order Status:  cancelled\n",
      "Ordered Date: 2019-01-07 No. of Pizza:  1 Total Order:  70 Order Status:  ready\n",
      "Ordered Date: 2019-01-10 No. of Pizza:  3 Total Order:  30 Order Status:  created\n",
      "End of Search\n"
     ]
    }
   ],
   "source": [
    "# Pull out prior certain date in sorted order by date\n",
    "def Find_Earlier(y):\n",
    "    for polist in merge_POlist:\n",
    "        if y > polist.DateEntered:\n",
    "          print(\"Ordered Date:\" , polist.DateEntered, \"No. of Pizza: \", polist.PizzaNum, \"Total Order: \", polist.TotalOrder, \"Order Status: \", polist.OrderStatus)\n",
    "\n",
    "    print(\"End of Search\")\n",
    "\n",
    "x = input(\"Enter search date in YYYY-MM-DD: \")\n",
    "look = datetime.datetime.strptime(x, \"%Y-%m-%d\").date()\n",
    "print(\"\\nThe search date earlier than \", x)\n",
    "\n",
    "Find_Earlier(look)"
   ]
  },
  {
   "cell_type": "code",
   "execution_count": 45,
   "metadata": {
    "colab": {
     "base_uri": "https://localhost:8080/"
    },
    "id": "rn-mmNLKagKL",
    "outputId": "86a67a5e-c9e7-41df-9672-454d5d92a658"
   },
   "outputs": [
    {
     "name": "stdout",
     "output_type": "stream",
     "text": [
      "Enter search date in YYYY-MM-DD: 2019-03-01\n",
      "No such order date in the list\n"
     ]
    }
   ],
   "source": [
    "# Ability to use binary search to find order date\n",
    "# Selections of order dates \n",
    "# datetime.date(2019, 1, 3), datetime.date(2019, 1, 7), datetime.date(2019, 1, 10)\n",
    "# datetime.date(2019, 3, 4), datetime.date(2019, 7, 22), datetime.date(2019, 9, 10)\n",
    "x = input(\"Enter search date in YYYY-MM-DD: \")\n",
    "look = datetime.datetime.strptime(x, \"%Y-%m-%d\").date()\n",
    "\n",
    "result = binary_search(look, POlist_DateEntered)\n",
    "if result == -1:\n",
    "  print(\"No such order date in the list\")\n",
    "else:\n",
    "  print(\"Ordered Date:\" , POlist_DateEntered[result],\"\\tNo. of Pizza: \", POlist_PizzaNum[result],\n",
    "        \"\\tTotal Order: $\", POlist_TotalOrder[result], \"\\tOrder Status: \", POlist_OrderStatus[result])\n"
   ]
  },
  {
   "cell_type": "code",
   "execution_count": 46,
   "metadata": {
    "colab": {
     "base_uri": "https://localhost:8080/",
     "height": 35
    },
    "id": "gcVy0_6pAvnW",
    "outputId": "a04b51fd-8f4f-46b9-9536-023c70cf28b0"
   },
   "outputs": [
    {
     "data": {
      "text/plain": [
       "'returned'"
      ]
     },
     "execution_count": 46,
     "metadata": {},
     "output_type": "execute_result"
    }
   ],
   "source": [
    "# Ability to change order status\n",
    "PO4.setStatus(\"returned\")"
   ]
  },
  {
   "cell_type": "code",
   "execution_count": 47,
   "metadata": {
    "colab": {
     "base_uri": "https://localhost:8080/"
    },
    "id": "gRpPNjrX1dWv",
    "outputId": "3d163af3-5f78-48cd-a133-e823a77567e1"
   },
   "outputs": [
    {
     "data": {
      "text/plain": [
       "\n",
       " {First Name: Fulton\tLast Name: Fith\t  Phone Number: 2408758\t Zip Code: 80765   Frequent Mileage Number: 57460}"
      ]
     },
     "execution_count": 47,
     "metadata": {},
     "output_type": "execute_result"
    }
   ],
   "source": [
    "# Ability to get customer information for class customer\n",
    "PO4.CustomerInfo()"
   ]
  },
  {
   "cell_type": "code",
   "execution_count": 48,
   "metadata": {
    "colab": {
     "base_uri": "https://localhost:8080/"
    },
    "id": "fwen-KIp1dKz",
    "outputId": "46cb947f-de97-4c20-ccc2-bb39312b024d"
   },
   "outputs": [
    {
     "data": {
      "text/plain": [
       "\n",
       " {Location Name: Hott City  Address: 608 Russell St  Zip: 20846  Phone: 2406455  Monthly_Sales: 58}"
      ]
     },
     "execution_count": 48,
     "metadata": {},
     "output_type": "execute_result"
    }
   ],
   "source": [
    "# Ability to specify the store for which the order was made\n",
    "PO4.StoreInfo()"
   ]
  },
  {
   "cell_type": "code",
   "execution_count": 49,
   "metadata": {
    "colab": {
     "base_uri": "https://localhost:8080/"
    },
    "id": "ZcoszCYn2G0G",
    "outputId": "84e017f0-80c7-4c3c-e4cf-9b21976daf90"
   },
   "outputs": [
    {
     "name": "stdout",
     "output_type": "stream",
     "text": [
      "Key in one of the following order status created, cancelled, ready, returned, on delivery or complete: ready\n",
      "\n",
      "\n",
      "Customer name:  Matt Hill \tCustomer phone:  3479856\n",
      "Order Date:  2019-01-07 \tNumber of Pizza:  1 \tTotal Price:  70 \tStatus:  ready\n",
      "\n",
      "\n",
      "End of Search\n"
     ]
    }
   ],
   "source": [
    "# Ability to check the order status showing the customer's name date\n",
    "look = input(\"Key in one of the following order status created, cancelled, ready, returned, on delivery or complete: \") \n",
    "print('\\n')\n",
    "def Find_OrderStatus():\n",
    "  for polist in POlist:\n",
    "      if look == polist.OrderStatus:\n",
    "          print(\"Customer name: \", polist.Customers.name, \"\\tCustomer phone: \", polist.Customers.Phone)\n",
    "          print(\"Order Date: \", polist.DateEntered, \"\\tNumber of Pizza: \", polist.PizzaNum, \n",
    "                \"\\tTotal Price: \", polist.TotalOrder, \"\\tStatus: \", polist.OrderStatus)\n",
    "          print(\"\\n\")\n",
    "\n",
    "  print(\"End of Search\")\n",
    "\n",
    "Find_OrderStatus()"
   ]
  },
  {
   "cell_type": "code",
   "execution_count": 50,
   "metadata": {
    "colab": {
     "base_uri": "https://localhost:8080/"
    },
    "id": "wuJJW828Ipsm",
    "outputId": "c6af5450-2bd5-46da-8bb0-8c59f95ef83f"
   },
   "outputs": [
    {
     "name": "stdout",
     "output_type": "stream",
     "text": [
      "Store:  Timm Tong \tOrderdate:  2019-01-10\n",
      "Store:  Fall View \tOrderdate:  2019-01-03\n",
      "Store:  Scoretown \tOrderdate:  2019-03-04\n",
      "Store:  Hott City \tOrderdate:  2019-07-22\n",
      "Store:  Ball Mall \tOrderdate:  2019-09-10\n",
      "Store:  Timm Tong \tOrderdate:  2019-01-07\n"
     ]
    }
   ],
   "source": [
    "for polist in POlist:\n",
    "  print(\"Store: \", polist.Stores.name, \"\\tOrderdate: \", polist.DateEntered)"
   ]
  },
  {
   "cell_type": "code",
   "execution_count": 51,
   "metadata": {
    "colab": {
     "base_uri": "https://localhost:8080/"
    },
    "id": "3jcs6yUSCoMb",
    "outputId": "61a9fb74-1732-4881-b8a9-aab74d7f6e2c"
   },
   "outputs": [
    {
     "name": "stdout",
     "output_type": "stream",
     "text": [
      "Enter one of the stores: Timm Tong\n",
      "Enter 2 number digit for the month: 01\n",
      "Customer name:  Matt Hill \tCustomer phone:  3479856 \tOrder Date:  2019-01-07\n",
      "\tNumber of Pizza:  1 \tTotal Price:  70\n",
      "Customer name:  Chris Fong \tCustomer phone:  3403456 \tOrder Date:  2019-01-10\n",
      "\tNumber of Pizza:  3 \tTotal Price:  30\n",
      "Monthly Sales: $ 100\n",
      "End of Search\n"
     ]
    }
   ],
   "source": [
    "# Ability to check the order status showing the customer's name date\n",
    "# and get the monthly sales of a particular store\n",
    "# Enter Timm Tong Month 01\n",
    "\n",
    "look_store = input(\"Enter one of the stores: \") \n",
    "look_month = input(\"Enter 2 number digit for the month: \")\n",
    "\n",
    "def Find_Monthly_Sales():\n",
    "  Monthly_Sales = 0\n",
    "  for polist in merge_POlist:\n",
    "      month = datetime.datetime.strftime(polist.DateEntered, \"%m\")\n",
    "      if look_store == polist.Stores.name and look_month == month:\n",
    "          Monthly_Sales += polist.TotalOrder\n",
    "          print(\"Customer name: \", polist.Customers.name, \"\\tCustomer phone: \", polist.Customers.Phone,\n",
    "                \"\\tOrder Date: \", polist.DateEntered)\n",
    "          print(\"\\tNumber of Pizza: \", polist.PizzaNum, \"\\tTotal Price: \", polist.TotalOrder)\n",
    "  (\"\\n\")\n",
    "  print(\"Monthly Sales: $\", Monthly_Sales)\n",
    "  print(\"End of Search\")\n",
    "\n",
    "Find_Monthly_Sales()"
   ]
  },
  {
   "cell_type": "markdown",
   "metadata": {
    "id": "BTdWzEKHaflY"
   },
   "source": [
    "**For Searching and Sorting, Explain Time/Space Computation Complexity using Big O Notation**\n",
    "\n",
    "In computer science, the Big O Notation describes the worst case (upper bound) scenario in an algorithm by analyzing the cost of the algorithm. This takes into account the time complexity, execution time, which depends on algorithm processor used and programs running. It considers the size of inputs ‘n’ in an array and concerns with the code that grows fastest as the input grows. Space Complexity is similar to time complexity, but it is about the optimization of memory rather than saving time. <br>\n",
    "In this project, for loops with if else statement, merge sort, and binary search are used. There is a function that contains for loops. The for loop has a time complexity of  O(n) because the size of array scales as the input size grows. Its space complexity is O(1).  There are other functions that contains more than the for loop because it also contains the if else statement.  The use of for loops with if statement will have a time complexity at its worst is O(n^2) because the for loop is O(n) and the worst scenario for  if else statement is O(n). Thus making my time complexity a quadratic. <br>\n",
    "Another method used is the merge sorts, a recursive base, which is the most commonly used log-linear algorithm. The time complexity of merge is O(len(L)).  At each level of recursion, the total number of elements to be merged is len(L). On the other hand, the time complexity of mergeSort is O(len(L)) multiplied by the number of levels of recursion. The merge sort always divides the array into two halves (repeatedly halves makes is log) and takes linear time to merge 2 halves. Thus, the time complexity of merge sort is O(nLogn) in its worst, average, and best scenario. Its space complexity is 0(n) whose algorithm takes a lot of space and may slow down operation for the last data sets. <br>\n",
    "Finally, binary search is also used as the search method which is a faster algorithm than the linear search. It has a Big O notation of O(logN). The binary search uses the iterative method that has a space complexity of O(1) (meaning it is constant running time independent of the size of the input).  \n"
   ]
  },
  {
   "cell_type": "code",
   "execution_count": null,
   "metadata": {
    "id": "As0kOwa9_4cX"
   },
   "outputs": [],
   "source": []
  }
 ],
 "metadata": {
  "colab": {
   "name": "DATA690-3 Final Project.ipynb",
   "provenance": []
  },
  "kernelspec": {
   "display_name": "Python 3",
   "language": "python",
   "name": "python3"
  },
  "language_info": {
   "codemirror_mode": {
    "name": "ipython",
    "version": 3
   },
   "file_extension": ".py",
   "mimetype": "text/x-python",
   "name": "python",
   "nbconvert_exporter": "python",
   "pygments_lexer": "ipython3",
   "version": "3.8.5"
  }
 },
 "nbformat": 4,
 "nbformat_minor": 1
}
