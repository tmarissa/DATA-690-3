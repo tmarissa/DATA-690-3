{
 "cells": [
  {
   "cell_type": "code",
   "execution_count": 1,
   "metadata": {},
   "outputs": [],
   "source": [
    "import pandas as pd\n",
    "import numpy as np"
   ]
  },
  {
   "cell_type": "markdown",
   "metadata": {},
   "source": [
    "NOTE: This assignment is adapted from: https://github.com/ajcr/100-pandas-puzzles/blob/master/100-pandas-puzzles.ipynb"
   ]
  },
  {
   "cell_type": "markdown",
   "metadata": {},
   "source": [
    "1. Given a list of states = ['VA', 'MD', 'NY', 'NJ', 'TX'] and arbitrarary census data = list(range(10)), construct a MultiIndex object from the product of the two lists. Use it to index a ``Series`` of random numbers. Call this Series s.\n",
    "\n",
    "**Note you will have multiply indexed series with state name as the 1st level of index and census data (0 to 9) as the 2nd level index**"
   ]
  },
  {
   "cell_type": "code",
   "execution_count": 2,
   "metadata": {},
   "outputs": [
    {
     "name": "stdout",
     "output_type": "stream",
     "text": [
      "[range(0, 10)]\n"
     ]
    }
   ],
   "source": [
    "print([(range(10))])"
   ]
  },
  {
   "cell_type": "code",
   "execution_count": 3,
   "metadata": {},
   "outputs": [],
   "source": [
    "idx = pd.MultiIndex.from_product([['VA','MD','NY','NJ','TX'],[i for i in range(10)]]) "
   ]
  },
  {
   "cell_type": "code",
   "execution_count": 4,
   "metadata": {},
   "outputs": [
    {
     "data": {
      "text/plain": [
       "MultiIndex([('VA', 0),\n",
       "            ('VA', 1),\n",
       "            ('VA', 2),\n",
       "            ('VA', 3),\n",
       "            ('VA', 4),\n",
       "            ('VA', 5),\n",
       "            ('VA', 6),\n",
       "            ('VA', 7),\n",
       "            ('VA', 8),\n",
       "            ('VA', 9),\n",
       "            ('MD', 0),\n",
       "            ('MD', 1),\n",
       "            ('MD', 2),\n",
       "            ('MD', 3),\n",
       "            ('MD', 4),\n",
       "            ('MD', 5),\n",
       "            ('MD', 6),\n",
       "            ('MD', 7),\n",
       "            ('MD', 8),\n",
       "            ('MD', 9),\n",
       "            ('NY', 0),\n",
       "            ('NY', 1),\n",
       "            ('NY', 2),\n",
       "            ('NY', 3),\n",
       "            ('NY', 4),\n",
       "            ('NY', 5),\n",
       "            ('NY', 6),\n",
       "            ('NY', 7),\n",
       "            ('NY', 8),\n",
       "            ('NY', 9),\n",
       "            ('NJ', 0),\n",
       "            ('NJ', 1),\n",
       "            ('NJ', 2),\n",
       "            ('NJ', 3),\n",
       "            ('NJ', 4),\n",
       "            ('NJ', 5),\n",
       "            ('NJ', 6),\n",
       "            ('NJ', 7),\n",
       "            ('NJ', 8),\n",
       "            ('NJ', 9),\n",
       "            ('TX', 0),\n",
       "            ('TX', 1),\n",
       "            ('TX', 2),\n",
       "            ('TX', 3),\n",
       "            ('TX', 4),\n",
       "            ('TX', 5),\n",
       "            ('TX', 6),\n",
       "            ('TX', 7),\n",
       "            ('TX', 8),\n",
       "            ('TX', 9)],\n",
       "           )"
      ]
     },
     "execution_count": 4,
     "metadata": {},
     "output_type": "execute_result"
    }
   ],
   "source": [
    "idx"
   ]
  },
  {
   "cell_type": "code",
   "execution_count": 5,
   "metadata": {},
   "outputs": [
    {
     "data": {
      "text/plain": [
       "pandas.core.indexes.multi.MultiIndex"
      ]
     },
     "execution_count": 5,
     "metadata": {},
     "output_type": "execute_result"
    }
   ],
   "source": [
    "type(idx)"
   ]
  },
  {
   "cell_type": "code",
   "execution_count": 6,
   "metadata": {},
   "outputs": [],
   "source": [
    "s = pd.Series(np.random.rand(50), index=idx)"
   ]
  },
  {
   "cell_type": "code",
   "execution_count": 7,
   "metadata": {},
   "outputs": [
    {
     "data": {
      "text/plain": [
       "VA  0    0.901372\n",
       "    1    0.373620\n",
       "    2    0.446326\n",
       "    3    0.831981\n",
       "    4    0.017170\n",
       "    5    0.540241\n",
       "    6    0.601778\n",
       "    7    0.682628\n",
       "    8    0.483308\n",
       "    9    0.672611\n",
       "MD  0    0.589129\n",
       "    1    0.705542\n",
       "    2    0.272119\n",
       "    3    0.338307\n",
       "    4    0.443715\n",
       "    5    0.185667\n",
       "    6    0.923480\n",
       "    7    0.451709\n",
       "    8    0.158352\n",
       "    9    0.309872\n",
       "NY  0    0.930251\n",
       "    1    0.707169\n",
       "    2    0.290471\n",
       "    3    0.784917\n",
       "    4    0.730786\n",
       "    5    0.970514\n",
       "    6    0.426994\n",
       "    7    0.860872\n",
       "    8    0.897911\n",
       "    9    0.243390\n",
       "NJ  0    0.231186\n",
       "    1    0.422993\n",
       "    2    0.536284\n",
       "    3    0.633894\n",
       "    4    0.670752\n",
       "    5    0.662336\n",
       "    6    0.658122\n",
       "    7    0.210607\n",
       "    8    0.847259\n",
       "    9    0.006205\n",
       "TX  0    0.383418\n",
       "    1    0.524825\n",
       "    2    0.981443\n",
       "    3    0.416179\n",
       "    4    0.168403\n",
       "    5    0.544760\n",
       "    6    0.548335\n",
       "    7    0.474254\n",
       "    8    0.422576\n",
       "    9    0.955142\n",
       "dtype: float64"
      ]
     },
     "execution_count": 7,
     "metadata": {},
     "output_type": "execute_result"
    }
   ],
   "source": [
    "s"
   ]
  },
  {
   "cell_type": "markdown",
   "metadata": {},
   "source": [
    "2. Check whether the index of s is lexicographically sorted. If not, apply sorting to ensure that you can use index slicing. "
   ]
  },
  {
   "cell_type": "code",
   "execution_count": 8,
   "metadata": {},
   "outputs": [
    {
     "name": "stdout",
     "output_type": "stream",
     "text": [
      "<class 'pandas.errors.UnsortedIndexError'>\n",
      "'Key length (1) was greater than MultiIndex lexsort depth (0)'\n"
     ]
    }
   ],
   "source": [
    "try:\n",
    "    s['VA':'TX']\n",
    "except KeyError as e:\n",
    "    # This is the result of the MultiIndex not being sorted.\n",
    "    print(type(e))\n",
    "    print(e)"
   ]
  },
  {
   "cell_type": "code",
   "execution_count": 9,
   "metadata": {},
   "outputs": [
    {
     "data": {
      "text/plain": [
       "MD  0    0.589129\n",
       "    1    0.705542\n",
       "    2    0.272119\n",
       "    3    0.338307\n",
       "    4    0.443715\n",
       "    5    0.185667\n",
       "    6    0.923480\n",
       "    7    0.451709\n",
       "    8    0.158352\n",
       "    9    0.309872\n",
       "NJ  0    0.231186\n",
       "    1    0.422993\n",
       "    2    0.536284\n",
       "    3    0.633894\n",
       "    4    0.670752\n",
       "    5    0.662336\n",
       "    6    0.658122\n",
       "    7    0.210607\n",
       "    8    0.847259\n",
       "    9    0.006205\n",
       "NY  0    0.930251\n",
       "    1    0.707169\n",
       "    2    0.290471\n",
       "    3    0.784917\n",
       "    4    0.730786\n",
       "    5    0.970514\n",
       "    6    0.426994\n",
       "    7    0.860872\n",
       "    8    0.897911\n",
       "    9    0.243390\n",
       "TX  0    0.383418\n",
       "    1    0.524825\n",
       "    2    0.981443\n",
       "    3    0.416179\n",
       "    4    0.168403\n",
       "    5    0.544760\n",
       "    6    0.548335\n",
       "    7    0.474254\n",
       "    8    0.422576\n",
       "    9    0.955142\n",
       "VA  0    0.901372\n",
       "    1    0.373620\n",
       "    2    0.446326\n",
       "    3    0.831981\n",
       "    4    0.017170\n",
       "    5    0.540241\n",
       "    6    0.601778\n",
       "    7    0.682628\n",
       "    8    0.483308\n",
       "    9    0.672611\n",
       "dtype: float64"
      ]
     },
     "execution_count": 9,
     "metadata": {},
     "output_type": "execute_result"
    }
   ],
   "source": [
    "s = s.sort_index()\n",
    "s"
   ]
  },
  {
   "cell_type": "markdown",
   "metadata": {},
   "source": [
    "3. Select the labels 1, 3 and 6 from the second level of the MultiIndexed ``Series``."
   ]
  },
  {
   "cell_type": "code",
   "execution_count": 10,
   "metadata": {},
   "outputs": [
    {
     "data": {
      "text/plain": [
       "MD  1    0.705542\n",
       "    3    0.338307\n",
       "    6    0.923480\n",
       "NJ  1    0.422993\n",
       "    3    0.633894\n",
       "    6    0.658122\n",
       "NY  1    0.707169\n",
       "    3    0.784917\n",
       "    6    0.426994\n",
       "TX  1    0.524825\n",
       "    3    0.416179\n",
       "    6    0.548335\n",
       "VA  1    0.373620\n",
       "    3    0.831981\n",
       "    6    0.601778\n",
       "dtype: float64"
      ]
     },
     "execution_count": 10,
     "metadata": {},
     "output_type": "execute_result"
    }
   ],
   "source": [
    "s.loc[:,[1,3,6]]"
   ]
  },
  {
   "cell_type": "code",
   "execution_count": 11,
   "metadata": {},
   "outputs": [
    {
     "data": {
      "text/plain": [
       "MultiIndex([('MD', 1),\n",
       "            ('MD', 3),\n",
       "            ('MD', 6),\n",
       "            ('NJ', 1),\n",
       "            ('NJ', 3),\n",
       "            ('NJ', 6),\n",
       "            ('NY', 1),\n",
       "            ('NY', 3),\n",
       "            ('NY', 6),\n",
       "            ('TX', 1),\n",
       "            ('TX', 3),\n",
       "            ('TX', 6),\n",
       "            ('VA', 1),\n",
       "            ('VA', 3),\n",
       "            ('VA', 6)],\n",
       "           )"
      ]
     },
     "execution_count": 11,
     "metadata": {},
     "output_type": "execute_result"
    }
   ],
   "source": [
    "idx.set_codes([[0,0,0,1,1,1,2,2,2,3,3,3,4,4,4], [1,3,6,1,3,6,1,3,6,1,3,6,1,3,6]])"
   ]
  },
  {
   "cell_type": "markdown",
   "metadata": {},
   "source": [
    "4. Slice the ``DataFrame`` df; slice up to 4th state of the first level and from label 8 onwards for the second level."
   ]
  },
  {
   "cell_type": "markdown",
   "metadata": {},
   "source": [
    "## **If I am slicing a series, my answers will be two ways:**\n",
    "- loc only \n",
    "- indexSlice with loc"
   ]
  },
  {
   "cell_type": "code",
   "execution_count": 12,
   "metadata": {},
   "outputs": [
    {
     "data": {
      "text/plain": [
       "MD  8    0.158352\n",
       "    9    0.309872\n",
       "NJ  8    0.847259\n",
       "    9    0.006205\n",
       "NY  8    0.897911\n",
       "    9    0.243390\n",
       "TX  8    0.422576\n",
       "    9    0.955142\n",
       "dtype: float64"
      ]
     },
     "execution_count": 12,
     "metadata": {},
     "output_type": "execute_result"
    }
   ],
   "source": [
    "# loc only\n",
    "s.loc[:\"TX\", 8:9]"
   ]
  },
  {
   "cell_type": "code",
   "execution_count": 13,
   "metadata": {},
   "outputs": [
    {
     "data": {
      "text/plain": [
       "MD  8    0.158352\n",
       "    9    0.309872\n",
       "NJ  8    0.847259\n",
       "    9    0.006205\n",
       "NY  8    0.897911\n",
       "    9    0.243390\n",
       "TX  8    0.422576\n",
       "    9    0.955142\n",
       "dtype: float64"
      ]
     },
     "execution_count": 13,
     "metadata": {},
     "output_type": "execute_result"
    }
   ],
   "source": [
    "# Another way is using Index Slice\n",
    "idx = pd.IndexSlice\n",
    "s.loc[idx[:\"TX\"], idx[8:9]]"
   ]
  },
  {
   "cell_type": "markdown",
   "metadata": {},
   "source": [
    "## **If I am slicing a dataframe, I am going to convert the series to a dataframe**\n",
    "- unstack\n",
    "- slice using one of two ways:\n",
    "    - loc\n",
    "    - IndexSlice and loc\n",
    "- depending on the requirement, most likely unstack again\n",
    "\n",
    "\n"
   ]
  },
  {
   "cell_type": "code",
   "execution_count": 14,
   "metadata": {},
   "outputs": [],
   "source": [
    "s.index.names = [\"State\", 'State index']"
   ]
  },
  {
   "cell_type": "code",
   "execution_count": 15,
   "metadata": {},
   "outputs": [],
   "source": [
    "df = s.to_frame()"
   ]
  },
  {
   "cell_type": "code",
   "execution_count": 16,
   "metadata": {},
   "outputs": [
    {
     "data": {
      "text/plain": [
       "pandas.core.frame.DataFrame"
      ]
     },
     "execution_count": 16,
     "metadata": {},
     "output_type": "execute_result"
    }
   ],
   "source": [
    "type(df)"
   ]
  },
  {
   "cell_type": "code",
   "execution_count": 17,
   "metadata": {},
   "outputs": [
    {
     "data": {
      "text/html": [
       "<div>\n",
       "<style scoped>\n",
       "    .dataframe tbody tr th:only-of-type {\n",
       "        vertical-align: middle;\n",
       "    }\n",
       "\n",
       "    .dataframe tbody tr th {\n",
       "        vertical-align: top;\n",
       "    }\n",
       "\n",
       "    .dataframe thead th {\n",
       "        text-align: right;\n",
       "    }\n",
       "</style>\n",
       "<table border=\"1\" class=\"dataframe\">\n",
       "  <thead>\n",
       "    <tr style=\"text-align: right;\">\n",
       "      <th></th>\n",
       "      <th></th>\n",
       "      <th>0</th>\n",
       "    </tr>\n",
       "    <tr>\n",
       "      <th>State</th>\n",
       "      <th>State index</th>\n",
       "      <th></th>\n",
       "    </tr>\n",
       "  </thead>\n",
       "  <tbody>\n",
       "    <tr>\n",
       "      <th rowspan=\"10\" valign=\"top\">MD</th>\n",
       "      <th>0</th>\n",
       "      <td>0.589129</td>\n",
       "    </tr>\n",
       "    <tr>\n",
       "      <th>1</th>\n",
       "      <td>0.705542</td>\n",
       "    </tr>\n",
       "    <tr>\n",
       "      <th>2</th>\n",
       "      <td>0.272119</td>\n",
       "    </tr>\n",
       "    <tr>\n",
       "      <th>3</th>\n",
       "      <td>0.338307</td>\n",
       "    </tr>\n",
       "    <tr>\n",
       "      <th>4</th>\n",
       "      <td>0.443715</td>\n",
       "    </tr>\n",
       "    <tr>\n",
       "      <th>5</th>\n",
       "      <td>0.185667</td>\n",
       "    </tr>\n",
       "    <tr>\n",
       "      <th>6</th>\n",
       "      <td>0.923480</td>\n",
       "    </tr>\n",
       "    <tr>\n",
       "      <th>7</th>\n",
       "      <td>0.451709</td>\n",
       "    </tr>\n",
       "    <tr>\n",
       "      <th>8</th>\n",
       "      <td>0.158352</td>\n",
       "    </tr>\n",
       "    <tr>\n",
       "      <th>9</th>\n",
       "      <td>0.309872</td>\n",
       "    </tr>\n",
       "    <tr>\n",
       "      <th rowspan=\"10\" valign=\"top\">NJ</th>\n",
       "      <th>0</th>\n",
       "      <td>0.231186</td>\n",
       "    </tr>\n",
       "    <tr>\n",
       "      <th>1</th>\n",
       "      <td>0.422993</td>\n",
       "    </tr>\n",
       "    <tr>\n",
       "      <th>2</th>\n",
       "      <td>0.536284</td>\n",
       "    </tr>\n",
       "    <tr>\n",
       "      <th>3</th>\n",
       "      <td>0.633894</td>\n",
       "    </tr>\n",
       "    <tr>\n",
       "      <th>4</th>\n",
       "      <td>0.670752</td>\n",
       "    </tr>\n",
       "    <tr>\n",
       "      <th>5</th>\n",
       "      <td>0.662336</td>\n",
       "    </tr>\n",
       "    <tr>\n",
       "      <th>6</th>\n",
       "      <td>0.658122</td>\n",
       "    </tr>\n",
       "    <tr>\n",
       "      <th>7</th>\n",
       "      <td>0.210607</td>\n",
       "    </tr>\n",
       "    <tr>\n",
       "      <th>8</th>\n",
       "      <td>0.847259</td>\n",
       "    </tr>\n",
       "    <tr>\n",
       "      <th>9</th>\n",
       "      <td>0.006205</td>\n",
       "    </tr>\n",
       "    <tr>\n",
       "      <th rowspan=\"10\" valign=\"top\">NY</th>\n",
       "      <th>0</th>\n",
       "      <td>0.930251</td>\n",
       "    </tr>\n",
       "    <tr>\n",
       "      <th>1</th>\n",
       "      <td>0.707169</td>\n",
       "    </tr>\n",
       "    <tr>\n",
       "      <th>2</th>\n",
       "      <td>0.290471</td>\n",
       "    </tr>\n",
       "    <tr>\n",
       "      <th>3</th>\n",
       "      <td>0.784917</td>\n",
       "    </tr>\n",
       "    <tr>\n",
       "      <th>4</th>\n",
       "      <td>0.730786</td>\n",
       "    </tr>\n",
       "    <tr>\n",
       "      <th>5</th>\n",
       "      <td>0.970514</td>\n",
       "    </tr>\n",
       "    <tr>\n",
       "      <th>6</th>\n",
       "      <td>0.426994</td>\n",
       "    </tr>\n",
       "    <tr>\n",
       "      <th>7</th>\n",
       "      <td>0.860872</td>\n",
       "    </tr>\n",
       "    <tr>\n",
       "      <th>8</th>\n",
       "      <td>0.897911</td>\n",
       "    </tr>\n",
       "    <tr>\n",
       "      <th>9</th>\n",
       "      <td>0.243390</td>\n",
       "    </tr>\n",
       "    <tr>\n",
       "      <th rowspan=\"10\" valign=\"top\">TX</th>\n",
       "      <th>0</th>\n",
       "      <td>0.383418</td>\n",
       "    </tr>\n",
       "    <tr>\n",
       "      <th>1</th>\n",
       "      <td>0.524825</td>\n",
       "    </tr>\n",
       "    <tr>\n",
       "      <th>2</th>\n",
       "      <td>0.981443</td>\n",
       "    </tr>\n",
       "    <tr>\n",
       "      <th>3</th>\n",
       "      <td>0.416179</td>\n",
       "    </tr>\n",
       "    <tr>\n",
       "      <th>4</th>\n",
       "      <td>0.168403</td>\n",
       "    </tr>\n",
       "    <tr>\n",
       "      <th>5</th>\n",
       "      <td>0.544760</td>\n",
       "    </tr>\n",
       "    <tr>\n",
       "      <th>6</th>\n",
       "      <td>0.548335</td>\n",
       "    </tr>\n",
       "    <tr>\n",
       "      <th>7</th>\n",
       "      <td>0.474254</td>\n",
       "    </tr>\n",
       "    <tr>\n",
       "      <th>8</th>\n",
       "      <td>0.422576</td>\n",
       "    </tr>\n",
       "    <tr>\n",
       "      <th>9</th>\n",
       "      <td>0.955142</td>\n",
       "    </tr>\n",
       "    <tr>\n",
       "      <th rowspan=\"10\" valign=\"top\">VA</th>\n",
       "      <th>0</th>\n",
       "      <td>0.901372</td>\n",
       "    </tr>\n",
       "    <tr>\n",
       "      <th>1</th>\n",
       "      <td>0.373620</td>\n",
       "    </tr>\n",
       "    <tr>\n",
       "      <th>2</th>\n",
       "      <td>0.446326</td>\n",
       "    </tr>\n",
       "    <tr>\n",
       "      <th>3</th>\n",
       "      <td>0.831981</td>\n",
       "    </tr>\n",
       "    <tr>\n",
       "      <th>4</th>\n",
       "      <td>0.017170</td>\n",
       "    </tr>\n",
       "    <tr>\n",
       "      <th>5</th>\n",
       "      <td>0.540241</td>\n",
       "    </tr>\n",
       "    <tr>\n",
       "      <th>6</th>\n",
       "      <td>0.601778</td>\n",
       "    </tr>\n",
       "    <tr>\n",
       "      <th>7</th>\n",
       "      <td>0.682628</td>\n",
       "    </tr>\n",
       "    <tr>\n",
       "      <th>8</th>\n",
       "      <td>0.483308</td>\n",
       "    </tr>\n",
       "    <tr>\n",
       "      <th>9</th>\n",
       "      <td>0.672611</td>\n",
       "    </tr>\n",
       "  </tbody>\n",
       "</table>\n",
       "</div>"
      ],
      "text/plain": [
       "                          0\n",
       "State State index          \n",
       "MD    0            0.589129\n",
       "      1            0.705542\n",
       "      2            0.272119\n",
       "      3            0.338307\n",
       "      4            0.443715\n",
       "      5            0.185667\n",
       "      6            0.923480\n",
       "      7            0.451709\n",
       "      8            0.158352\n",
       "      9            0.309872\n",
       "NJ    0            0.231186\n",
       "      1            0.422993\n",
       "      2            0.536284\n",
       "      3            0.633894\n",
       "      4            0.670752\n",
       "      5            0.662336\n",
       "      6            0.658122\n",
       "      7            0.210607\n",
       "      8            0.847259\n",
       "      9            0.006205\n",
       "NY    0            0.930251\n",
       "      1            0.707169\n",
       "      2            0.290471\n",
       "      3            0.784917\n",
       "      4            0.730786\n",
       "      5            0.970514\n",
       "      6            0.426994\n",
       "      7            0.860872\n",
       "      8            0.897911\n",
       "      9            0.243390\n",
       "TX    0            0.383418\n",
       "      1            0.524825\n",
       "      2            0.981443\n",
       "      3            0.416179\n",
       "      4            0.168403\n",
       "      5            0.544760\n",
       "      6            0.548335\n",
       "      7            0.474254\n",
       "      8            0.422576\n",
       "      9            0.955142\n",
       "VA    0            0.901372\n",
       "      1            0.373620\n",
       "      2            0.446326\n",
       "      3            0.831981\n",
       "      4            0.017170\n",
       "      5            0.540241\n",
       "      6            0.601778\n",
       "      7            0.682628\n",
       "      8            0.483308\n",
       "      9            0.672611"
      ]
     },
     "execution_count": 17,
     "metadata": {},
     "output_type": "execute_result"
    }
   ],
   "source": [
    "df"
   ]
  },
  {
   "cell_type": "code",
   "execution_count": 18,
   "metadata": {},
   "outputs": [],
   "source": [
    "df = df[0]"
   ]
  },
  {
   "cell_type": "code",
   "execution_count": 19,
   "metadata": {},
   "outputs": [
    {
     "data": {
      "text/plain": [
       "MultiIndex([('MD', 0),\n",
       "            ('MD', 1),\n",
       "            ('MD', 2),\n",
       "            ('MD', 3),\n",
       "            ('MD', 4),\n",
       "            ('MD', 5),\n",
       "            ('MD', 6),\n",
       "            ('MD', 7),\n",
       "            ('MD', 8),\n",
       "            ('MD', 9),\n",
       "            ('NJ', 0),\n",
       "            ('NJ', 1),\n",
       "            ('NJ', 2),\n",
       "            ('NJ', 3),\n",
       "            ('NJ', 4),\n",
       "            ('NJ', 5),\n",
       "            ('NJ', 6),\n",
       "            ('NJ', 7),\n",
       "            ('NJ', 8),\n",
       "            ('NJ', 9),\n",
       "            ('NY', 0),\n",
       "            ('NY', 1),\n",
       "            ('NY', 2),\n",
       "            ('NY', 3),\n",
       "            ('NY', 4),\n",
       "            ('NY', 5),\n",
       "            ('NY', 6),\n",
       "            ('NY', 7),\n",
       "            ('NY', 8),\n",
       "            ('NY', 9),\n",
       "            ('TX', 0),\n",
       "            ('TX', 1),\n",
       "            ('TX', 2),\n",
       "            ('TX', 3),\n",
       "            ('TX', 4),\n",
       "            ('TX', 5),\n",
       "            ('TX', 6),\n",
       "            ('TX', 7),\n",
       "            ('TX', 8),\n",
       "            ('TX', 9),\n",
       "            ('VA', 0),\n",
       "            ('VA', 1),\n",
       "            ('VA', 2),\n",
       "            ('VA', 3),\n",
       "            ('VA', 4),\n",
       "            ('VA', 5),\n",
       "            ('VA', 6),\n",
       "            ('VA', 7),\n",
       "            ('VA', 8),\n",
       "            ('VA', 9)],\n",
       "           names=['State', 'State index'])"
      ]
     },
     "execution_count": 19,
     "metadata": {},
     "output_type": "execute_result"
    }
   ],
   "source": [
    "df.index"
   ]
  },
  {
   "cell_type": "code",
   "execution_count": 20,
   "metadata": {},
   "outputs": [
    {
     "data": {
      "text/plain": [
       "State  State index\n",
       "MD     0              0.589129\n",
       "       1              0.705542\n",
       "       2              0.272119\n",
       "       3              0.338307\n",
       "       4              0.443715\n",
       "       5              0.185667\n",
       "       6              0.923480\n",
       "       7              0.451709\n",
       "       8              0.158352\n",
       "       9              0.309872\n",
       "NJ     0              0.231186\n",
       "       1              0.422993\n",
       "       2              0.536284\n",
       "       3              0.633894\n",
       "       4              0.670752\n",
       "       5              0.662336\n",
       "       6              0.658122\n",
       "       7              0.210607\n",
       "       8              0.847259\n",
       "       9              0.006205\n",
       "NY     0              0.930251\n",
       "       1              0.707169\n",
       "       2              0.290471\n",
       "       3              0.784917\n",
       "       4              0.730786\n",
       "       5              0.970514\n",
       "       6              0.426994\n",
       "       7              0.860872\n",
       "       8              0.897911\n",
       "       9              0.243390\n",
       "TX     0              0.383418\n",
       "       1              0.524825\n",
       "       2              0.981443\n",
       "       3              0.416179\n",
       "       4              0.168403\n",
       "       5              0.544760\n",
       "       6              0.548335\n",
       "       7              0.474254\n",
       "       8              0.422576\n",
       "       9              0.955142\n",
       "VA     0              0.901372\n",
       "       1              0.373620\n",
       "       2              0.446326\n",
       "       3              0.831981\n",
       "       4              0.017170\n",
       "       5              0.540241\n",
       "       6              0.601778\n",
       "       7              0.682628\n",
       "       8              0.483308\n",
       "       9              0.672611\n",
       "Name: 0, dtype: float64"
      ]
     },
     "execution_count": 20,
     "metadata": {},
     "output_type": "execute_result"
    }
   ],
   "source": [
    "df"
   ]
  },
  {
   "cell_type": "code",
   "execution_count": 21,
   "metadata": {},
   "outputs": [
    {
     "data": {
      "text/plain": [
       "State  State index\n",
       "MD     8              0.158352\n",
       "       9              0.309872\n",
       "NJ     8              0.847259\n",
       "       9              0.006205\n",
       "NY     8              0.897911\n",
       "       9              0.243390\n",
       "TX     8              0.422576\n",
       "       9              0.955142\n",
       "Name: 0, dtype: float64"
      ]
     },
     "execution_count": 21,
     "metadata": {},
     "output_type": "execute_result"
    }
   ],
   "source": [
    "idx = pd.IndexSlice\n",
    "l = df.loc[idx[:\"TX\"], idx[8:9]]\n",
    "l"
   ]
  },
  {
   "cell_type": "code",
   "execution_count": 22,
   "metadata": {},
   "outputs": [],
   "source": [
    "# Unstacking it would also good\n",
    "df = df.unstack()"
   ]
  },
  {
   "cell_type": "code",
   "execution_count": 23,
   "metadata": {},
   "outputs": [
    {
     "data": {
      "text/html": [
       "<div>\n",
       "<style scoped>\n",
       "    .dataframe tbody tr th:only-of-type {\n",
       "        vertical-align: middle;\n",
       "    }\n",
       "\n",
       "    .dataframe tbody tr th {\n",
       "        vertical-align: top;\n",
       "    }\n",
       "\n",
       "    .dataframe thead th {\n",
       "        text-align: right;\n",
       "    }\n",
       "</style>\n",
       "<table border=\"1\" class=\"dataframe\">\n",
       "  <thead>\n",
       "    <tr style=\"text-align: right;\">\n",
       "      <th>State index</th>\n",
       "      <th>0</th>\n",
       "      <th>1</th>\n",
       "      <th>2</th>\n",
       "      <th>3</th>\n",
       "      <th>4</th>\n",
       "      <th>5</th>\n",
       "      <th>6</th>\n",
       "      <th>7</th>\n",
       "      <th>8</th>\n",
       "      <th>9</th>\n",
       "    </tr>\n",
       "    <tr>\n",
       "      <th>State</th>\n",
       "      <th></th>\n",
       "      <th></th>\n",
       "      <th></th>\n",
       "      <th></th>\n",
       "      <th></th>\n",
       "      <th></th>\n",
       "      <th></th>\n",
       "      <th></th>\n",
       "      <th></th>\n",
       "      <th></th>\n",
       "    </tr>\n",
       "  </thead>\n",
       "  <tbody>\n",
       "    <tr>\n",
       "      <th>MD</th>\n",
       "      <td>0.589129</td>\n",
       "      <td>0.705542</td>\n",
       "      <td>0.272119</td>\n",
       "      <td>0.338307</td>\n",
       "      <td>0.443715</td>\n",
       "      <td>0.185667</td>\n",
       "      <td>0.923480</td>\n",
       "      <td>0.451709</td>\n",
       "      <td>0.158352</td>\n",
       "      <td>0.309872</td>\n",
       "    </tr>\n",
       "    <tr>\n",
       "      <th>NJ</th>\n",
       "      <td>0.231186</td>\n",
       "      <td>0.422993</td>\n",
       "      <td>0.536284</td>\n",
       "      <td>0.633894</td>\n",
       "      <td>0.670752</td>\n",
       "      <td>0.662336</td>\n",
       "      <td>0.658122</td>\n",
       "      <td>0.210607</td>\n",
       "      <td>0.847259</td>\n",
       "      <td>0.006205</td>\n",
       "    </tr>\n",
       "    <tr>\n",
       "      <th>NY</th>\n",
       "      <td>0.930251</td>\n",
       "      <td>0.707169</td>\n",
       "      <td>0.290471</td>\n",
       "      <td>0.784917</td>\n",
       "      <td>0.730786</td>\n",
       "      <td>0.970514</td>\n",
       "      <td>0.426994</td>\n",
       "      <td>0.860872</td>\n",
       "      <td>0.897911</td>\n",
       "      <td>0.243390</td>\n",
       "    </tr>\n",
       "    <tr>\n",
       "      <th>TX</th>\n",
       "      <td>0.383418</td>\n",
       "      <td>0.524825</td>\n",
       "      <td>0.981443</td>\n",
       "      <td>0.416179</td>\n",
       "      <td>0.168403</td>\n",
       "      <td>0.544760</td>\n",
       "      <td>0.548335</td>\n",
       "      <td>0.474254</td>\n",
       "      <td>0.422576</td>\n",
       "      <td>0.955142</td>\n",
       "    </tr>\n",
       "    <tr>\n",
       "      <th>VA</th>\n",
       "      <td>0.901372</td>\n",
       "      <td>0.373620</td>\n",
       "      <td>0.446326</td>\n",
       "      <td>0.831981</td>\n",
       "      <td>0.017170</td>\n",
       "      <td>0.540241</td>\n",
       "      <td>0.601778</td>\n",
       "      <td>0.682628</td>\n",
       "      <td>0.483308</td>\n",
       "      <td>0.672611</td>\n",
       "    </tr>\n",
       "  </tbody>\n",
       "</table>\n",
       "</div>"
      ],
      "text/plain": [
       "State index         0         1         2         3         4         5  \\\n",
       "State                                                                     \n",
       "MD           0.589129  0.705542  0.272119  0.338307  0.443715  0.185667   \n",
       "NJ           0.231186  0.422993  0.536284  0.633894  0.670752  0.662336   \n",
       "NY           0.930251  0.707169  0.290471  0.784917  0.730786  0.970514   \n",
       "TX           0.383418  0.524825  0.981443  0.416179  0.168403  0.544760   \n",
       "VA           0.901372  0.373620  0.446326  0.831981  0.017170  0.540241   \n",
       "\n",
       "State index         6         7         8         9  \n",
       "State                                                \n",
       "MD           0.923480  0.451709  0.158352  0.309872  \n",
       "NJ           0.658122  0.210607  0.847259  0.006205  \n",
       "NY           0.426994  0.860872  0.897911  0.243390  \n",
       "TX           0.548335  0.474254  0.422576  0.955142  \n",
       "VA           0.601778  0.682628  0.483308  0.672611  "
      ]
     },
     "execution_count": 23,
     "metadata": {},
     "output_type": "execute_result"
    }
   ],
   "source": [
    "df"
   ]
  },
  {
   "cell_type": "code",
   "execution_count": 24,
   "metadata": {},
   "outputs": [
    {
     "data": {
      "text/html": [
       "<div>\n",
       "<style scoped>\n",
       "    .dataframe tbody tr th:only-of-type {\n",
       "        vertical-align: middle;\n",
       "    }\n",
       "\n",
       "    .dataframe tbody tr th {\n",
       "        vertical-align: top;\n",
       "    }\n",
       "\n",
       "    .dataframe thead th {\n",
       "        text-align: right;\n",
       "    }\n",
       "</style>\n",
       "<table border=\"1\" class=\"dataframe\">\n",
       "  <thead>\n",
       "    <tr style=\"text-align: right;\">\n",
       "      <th>State index</th>\n",
       "      <th>8</th>\n",
       "      <th>9</th>\n",
       "    </tr>\n",
       "    <tr>\n",
       "      <th>State</th>\n",
       "      <th></th>\n",
       "      <th></th>\n",
       "    </tr>\n",
       "  </thead>\n",
       "  <tbody>\n",
       "    <tr>\n",
       "      <th>MD</th>\n",
       "      <td>0.158352</td>\n",
       "      <td>0.309872</td>\n",
       "    </tr>\n",
       "    <tr>\n",
       "      <th>NJ</th>\n",
       "      <td>0.847259</td>\n",
       "      <td>0.006205</td>\n",
       "    </tr>\n",
       "    <tr>\n",
       "      <th>NY</th>\n",
       "      <td>0.897911</td>\n",
       "      <td>0.243390</td>\n",
       "    </tr>\n",
       "    <tr>\n",
       "      <th>TX</th>\n",
       "      <td>0.422576</td>\n",
       "      <td>0.955142</td>\n",
       "    </tr>\n",
       "  </tbody>\n",
       "</table>\n",
       "</div>"
      ],
      "text/plain": [
       "State index         8         9\n",
       "State                          \n",
       "MD           0.158352  0.309872\n",
       "NJ           0.847259  0.006205\n",
       "NY           0.897911  0.243390\n",
       "TX           0.422576  0.955142"
      ]
     },
     "execution_count": 24,
     "metadata": {},
     "output_type": "execute_result"
    }
   ],
   "source": [
    "f = df.loc[:\"TX\", 8:9]\n",
    "f"
   ]
  },
  {
   "cell_type": "code",
   "execution_count": 25,
   "metadata": {},
   "outputs": [
    {
     "data": {
      "text/plain": [
       "State  State index\n",
       "MD     8              0.158352\n",
       "       9              0.309872\n",
       "NJ     8              0.847259\n",
       "       9              0.006205\n",
       "NY     8              0.897911\n",
       "       9              0.243390\n",
       "TX     8              0.422576\n",
       "       9              0.955142\n",
       "dtype: float64"
      ]
     },
     "execution_count": 25,
     "metadata": {},
     "output_type": "execute_result"
    }
   ],
   "source": [
    "f.stack()"
   ]
  },
  {
   "cell_type": "markdown",
   "metadata": {},
   "source": [
    " 5. Sum the values in s for each label in the first level (you should have Series giving you a total for labels 'VA', 'MD', 'NY', 'NJ' and 'TX')."
   ]
  },
  {
   "cell_type": "code",
   "execution_count": 26,
   "metadata": {},
   "outputs": [],
   "source": [
    "s.index.names = [\"State\", 'State index']"
   ]
  },
  {
   "cell_type": "code",
   "execution_count": 35,
   "metadata": {},
   "outputs": [
    {
     "data": {
      "text/plain": [
       "27.071176416187928"
      ]
     },
     "execution_count": 35,
     "metadata": {},
     "output_type": "execute_result"
    }
   ],
   "source": [
    "s.sum()"
   ]
  },
  {
   "cell_type": "code",
   "execution_count": 27,
   "metadata": {},
   "outputs": [
    {
     "data": {
      "text/plain": [
       "State\n",
       "MD    4.377893\n",
       "NJ    4.879638\n",
       "NY    6.843274\n",
       "TX    5.419335\n",
       "VA    5.551036\n",
       "dtype: float64"
      ]
     },
     "execution_count": 27,
     "metadata": {},
     "output_type": "execute_result"
    }
   ],
   "source": [
    "s.groupby('State').sum()"
   ]
  },
  {
   "cell_type": "code",
   "execution_count": 30,
   "metadata": {},
   "outputs": [
    {
     "data": {
      "text/plain": [
       "State\n",
       "MD    4.377893\n",
       "NJ    4.879638\n",
       "NY    6.843274\n",
       "TX    5.419335\n",
       "VA    5.551036\n",
       "dtype: float64"
      ]
     },
     "execution_count": 30,
     "metadata": {},
     "output_type": "execute_result"
    }
   ],
   "source": [
    "#Another way\n",
    "s.sum(level=0)"
   ]
  },
  {
   "cell_type": "code",
   "execution_count": 34,
   "metadata": {},
   "outputs": [
    {
     "data": {
      "text/plain": [
       "State index\n",
       "0    3.035355\n",
       "1    2.734150\n",
       "2    2.526643\n",
       "3    3.005278\n",
       "4    2.030826\n",
       "5    2.903518\n",
       "6    3.158709\n",
       "7    2.680070\n",
       "8    2.809407\n",
       "9    2.187221\n",
       "dtype: float64"
      ]
     },
     "execution_count": 34,
     "metadata": {},
     "output_type": "execute_result"
    }
   ],
   "source": [
    "s.sum(level=1)"
   ]
  },
  {
   "cell_type": "markdown",
   "metadata": {},
   "source": [
    "6. Using unstack, create a ``DataFrame`` from s. States index will become new columns. "
   ]
  },
  {
   "cell_type": "code",
   "execution_count": 31,
   "metadata": {},
   "outputs": [],
   "source": [
    "s.index.names = [\"State\", 'State index']"
   ]
  },
  {
   "cell_type": "code",
   "execution_count": 32,
   "metadata": {},
   "outputs": [
    {
     "data": {
      "text/html": [
       "<div>\n",
       "<style scoped>\n",
       "    .dataframe tbody tr th:only-of-type {\n",
       "        vertical-align: middle;\n",
       "    }\n",
       "\n",
       "    .dataframe tbody tr th {\n",
       "        vertical-align: top;\n",
       "    }\n",
       "\n",
       "    .dataframe thead th {\n",
       "        text-align: right;\n",
       "    }\n",
       "</style>\n",
       "<table border=\"1\" class=\"dataframe\">\n",
       "  <thead>\n",
       "    <tr style=\"text-align: right;\">\n",
       "      <th>State index</th>\n",
       "      <th>0</th>\n",
       "      <th>1</th>\n",
       "      <th>2</th>\n",
       "      <th>3</th>\n",
       "      <th>4</th>\n",
       "      <th>5</th>\n",
       "      <th>6</th>\n",
       "      <th>7</th>\n",
       "      <th>8</th>\n",
       "      <th>9</th>\n",
       "    </tr>\n",
       "    <tr>\n",
       "      <th>State</th>\n",
       "      <th></th>\n",
       "      <th></th>\n",
       "      <th></th>\n",
       "      <th></th>\n",
       "      <th></th>\n",
       "      <th></th>\n",
       "      <th></th>\n",
       "      <th></th>\n",
       "      <th></th>\n",
       "      <th></th>\n",
       "    </tr>\n",
       "  </thead>\n",
       "  <tbody>\n",
       "    <tr>\n",
       "      <th>MD</th>\n",
       "      <td>0.589129</td>\n",
       "      <td>0.705542</td>\n",
       "      <td>0.272119</td>\n",
       "      <td>0.338307</td>\n",
       "      <td>0.443715</td>\n",
       "      <td>0.185667</td>\n",
       "      <td>0.923480</td>\n",
       "      <td>0.451709</td>\n",
       "      <td>0.158352</td>\n",
       "      <td>0.309872</td>\n",
       "    </tr>\n",
       "    <tr>\n",
       "      <th>NJ</th>\n",
       "      <td>0.231186</td>\n",
       "      <td>0.422993</td>\n",
       "      <td>0.536284</td>\n",
       "      <td>0.633894</td>\n",
       "      <td>0.670752</td>\n",
       "      <td>0.662336</td>\n",
       "      <td>0.658122</td>\n",
       "      <td>0.210607</td>\n",
       "      <td>0.847259</td>\n",
       "      <td>0.006205</td>\n",
       "    </tr>\n",
       "    <tr>\n",
       "      <th>NY</th>\n",
       "      <td>0.930251</td>\n",
       "      <td>0.707169</td>\n",
       "      <td>0.290471</td>\n",
       "      <td>0.784917</td>\n",
       "      <td>0.730786</td>\n",
       "      <td>0.970514</td>\n",
       "      <td>0.426994</td>\n",
       "      <td>0.860872</td>\n",
       "      <td>0.897911</td>\n",
       "      <td>0.243390</td>\n",
       "    </tr>\n",
       "    <tr>\n",
       "      <th>TX</th>\n",
       "      <td>0.383418</td>\n",
       "      <td>0.524825</td>\n",
       "      <td>0.981443</td>\n",
       "      <td>0.416179</td>\n",
       "      <td>0.168403</td>\n",
       "      <td>0.544760</td>\n",
       "      <td>0.548335</td>\n",
       "      <td>0.474254</td>\n",
       "      <td>0.422576</td>\n",
       "      <td>0.955142</td>\n",
       "    </tr>\n",
       "    <tr>\n",
       "      <th>VA</th>\n",
       "      <td>0.901372</td>\n",
       "      <td>0.373620</td>\n",
       "      <td>0.446326</td>\n",
       "      <td>0.831981</td>\n",
       "      <td>0.017170</td>\n",
       "      <td>0.540241</td>\n",
       "      <td>0.601778</td>\n",
       "      <td>0.682628</td>\n",
       "      <td>0.483308</td>\n",
       "      <td>0.672611</td>\n",
       "    </tr>\n",
       "  </tbody>\n",
       "</table>\n",
       "</div>"
      ],
      "text/plain": [
       "State index         0         1         2         3         4         5  \\\n",
       "State                                                                     \n",
       "MD           0.589129  0.705542  0.272119  0.338307  0.443715  0.185667   \n",
       "NJ           0.231186  0.422993  0.536284  0.633894  0.670752  0.662336   \n",
       "NY           0.930251  0.707169  0.290471  0.784917  0.730786  0.970514   \n",
       "TX           0.383418  0.524825  0.981443  0.416179  0.168403  0.544760   \n",
       "VA           0.901372  0.373620  0.446326  0.831981  0.017170  0.540241   \n",
       "\n",
       "State index         6         7         8         9  \n",
       "State                                                \n",
       "MD           0.923480  0.451709  0.158352  0.309872  \n",
       "NJ           0.658122  0.210607  0.847259  0.006205  \n",
       "NY           0.426994  0.860872  0.897911  0.243390  \n",
       "TX           0.548335  0.474254  0.422576  0.955142  \n",
       "VA           0.601778  0.682628  0.483308  0.672611  "
      ]
     },
     "execution_count": 32,
     "metadata": {},
     "output_type": "execute_result"
    }
   ],
   "source": [
    "s.unstack()"
   ]
  },
  {
   "cell_type": "code",
   "execution_count": null,
   "metadata": {},
   "outputs": [],
   "source": []
  },
  {
   "cell_type": "code",
   "execution_count": null,
   "metadata": {},
   "outputs": [],
   "source": []
  }
 ],
 "metadata": {
  "kernelspec": {
   "display_name": "Python 3",
   "language": "python",
   "name": "python3"
  },
  "language_info": {
   "codemirror_mode": {
    "name": "ipython",
    "version": 3
   },
   "file_extension": ".py",
   "mimetype": "text/x-python",
   "name": "python",
   "nbconvert_exporter": "python",
   "pygments_lexer": "ipython3",
   "version": "3.8.5"
  }
 },
 "nbformat": 4,
 "nbformat_minor": 4
}
