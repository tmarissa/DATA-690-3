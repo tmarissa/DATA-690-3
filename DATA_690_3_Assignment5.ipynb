{
  "nbformat": 4,
  "nbformat_minor": 0,
  "metadata": {
    "colab": {
      "name": "DATA 690-3 Assignment5.ipynb",
      "provenance": [],
      "collapsed_sections": []
    },
    "kernelspec": {
      "name": "python3",
      "display_name": "Python 3"
    }
  },
  "cells": [
    {
      "cell_type": "markdown",
      "metadata": {
        "id": "dApkBDavXtHR"
      },
      "source": [
        "Write a Python script that implements following requirements:\r\n",
        "\r\n",
        "- that you are starting a new pizza restaurant franchise, and you'd like to be able to take online orders.\r\n",
        "\r\n",
        "  - Create a Python class called PizzaOrder that  has following capabilities. \r\n",
        "  - Ability to store and retrieve customer first name and last name\r\n",
        "  - Ability to store and retrieve the order date\r\n",
        "  - Ability to store and retrieve the order amount (cost)\r\n",
        "  - Ability to arrange the order by order amount\r\n",
        "\r\n",
        "- In the code, you will create a order_robot function that creates 10 pizza orders using the class you created.\r\n",
        "\r\n",
        "- order_robot function will print each order detail (string representation) and will sort the orders by the order amount.\r\n",
        "\r\n"
      ]
    },
    {
      "cell_type": "code",
      "metadata": {
        "id": "we5Sm-KJvc7L"
      },
      "source": [
        "import datetime \r\n",
        "class PizzaOrder:\r\n",
        "  def __init__(self, name):\r\n",
        "        self.name = name  \r\n",
        "        try:\r\n",
        "          last_blank = name.rindex(' ')\r\n",
        "          self.last_name = name[last_blank+1:]\r\n",
        "          self.first_name = name[:last_blank]\r\n",
        "        except:\r\n",
        "          self.last_name = name \r\n",
        "        self.orderAmount = None\r\n",
        "        self.orderDate = None\r\n",
        "        self.isSorted = True\r\n",
        "  \r\n",
        "  def addName(self, name):\r\n",
        "    \"\"\"Returns self's full name\"\"\"\r\n",
        "    if name in self.names:\r\n",
        "      raise ValueError('Duplicate Student')\r\n",
        "    self.names.append(name)\r\n",
        "    self.isSorted = False\r\n",
        "\r\n",
        "  def getLastName(self):\r\n",
        "    \"\"\"Returns self's last name\"\"\"\r\n",
        "    return self.last_name\r\n",
        "\r\n",
        "  def getFirstName(self):\r\n",
        "    \"\"\"Returns self's first name\"\"\"\r\n",
        "    return self.first_name\r\n",
        "  \r\n",
        "  def setOrderDate(self, orderDate):\r\n",
        "    self.orderDate= orderDate\r\n",
        "    return str(self.orderDate)\r\n",
        "  \r\n",
        "  def setOrderAmount(self, orderAmount):\r\n",
        "    self.orderAmount=orderAmount\r\n",
        "    return str(self.orderAmount)\r\n",
        "\r\n",
        "  def getOrderDate(self, orderDate):\r\n",
        "    self.orderDate= orderDate\r\n",
        "    return str(self.orderDate)\r\n",
        "  \r\n",
        "  def getOrderAmount(self, orderAmount):\r\n",
        "    self.orderAmount=orderAmount\r\n",
        "    return str(self.orderAmount)  \r\n",
        "\r\n",
        "  def __lt__(self, other):\r\n",
        "    if self.orderAmount == other.orderAmount:\r\n",
        "      return self.orderDate < self.orderDate\r\n",
        "    return self.orderAmount < other.orderAmount\r\n",
        "\r\n",
        "  def getCustomers(self):\r\n",
        "    \"\"\"Return sorted list of customers\"\"\"\r\n",
        "    if not self.isSorted:\r\n",
        "      self.name.sort()\r\n",
        "      self.isSorted = True\r\n",
        "    return self.orderAmount[:] #return copy of list of orderAmount\r\n",
        "\r\n",
        "  def __repr__(self):\r\n",
        "       return '{' + self.last_name + ', '  +self.first_name  +\"\\t   total amount: \"+ str(self.orderAmount) + \"\\torder date: \"+str(self.orderDate) + '}'\r\n"
      ],
      "execution_count": 1,
      "outputs": []
    },
    {
      "cell_type": "code",
      "metadata": {
        "colab": {
          "base_uri": "https://localhost:8080/"
        },
        "id": "W0mSgJYCvMf8",
        "outputId": "c57501a3-ca5b-46de-95b0-92f8d49a10bf"
      },
      "source": [
        "c1 = PizzaOrder(\"Simon Cowell\")\r\n",
        "c1.setOrderAmount(20)\r\n",
        "c1.setOrderDate(datetime.date(1950, 6, 4))\r\n",
        "c2 = PizzaOrder(\"Appleton Pie\")\r\n",
        "c2.setOrderAmount(400)\r\n",
        "c2.setOrderDate(datetime.date(2025, 9, 1))\r\n",
        "c3 = PizzaOrder(\"Thomas Cruz\")\r\n",
        "c3.setOrderAmount(500)\r\n",
        "c3.setOrderDate(datetime.date(1990, 2, 15))\r\n",
        "c4 = PizzaOrder(\"Thomas Hanks\")\r\n",
        "c4.setOrderAmount(100)\r\n",
        "c4.setOrderDate(datetime.date(2021, 3, 5))\r\n",
        "c5 = PizzaOrder(\"Liz Taylor\")\r\n",
        "c5.setOrderAmount(145)\r\n",
        "c5.setOrderDate(datetime.date(1955, 8, 14))\r\n",
        "c6 = PizzaOrder(\"Cris Plummer\")\r\n",
        "c6.setOrderAmount(66)\r\n",
        "c6.setOrderDate(datetime.date(1976, 9, 30))\r\n",
        "c7 = PizzaOrder(\"Bill Clinton\")\r\n",
        "c7.setOrderAmount(986)\r\n",
        "c7.setOrderDate(datetime.date(1965, 7, 11))\r\n",
        "c8 = PizzaOrder(\"Barack Obama\")\r\n",
        "c8.setOrderAmount(5)\r\n",
        "c8.setOrderDate(datetime.date(1970, 12, 24))\r\n",
        "c9 = PizzaOrder(\"George Coon\")\r\n",
        "c9.setOrderAmount(33)\r\n",
        "c9.setOrderDate(datetime.date(2001, 12, 5))\r\n",
        "c10 = PizzaOrder(\"Tom Sawyer\")\r\n",
        "c10.setOrderAmount(95)\r\n",
        "c10.setOrderDate(datetime.date(2006, 7, 4))\r\n",
        "\r\n",
        "customers = [c1, c2, c3, c4, c5, c6, c7, c8, c9, c10]\r\n",
        "print(\"This prints the unsorted customer list\")\r\n",
        "customers"
      ],
      "execution_count": 2,
      "outputs": [
        {
          "output_type": "stream",
          "text": [
            "This prints the unsorted customer list\n"
          ],
          "name": "stdout"
        },
        {
          "output_type": "execute_result",
          "data": {
            "text/plain": [
              "[{Cowell, Simon\t   total amount: 20\torder date: 1950-06-04},\n",
              " {Pie, Appleton\t   total amount: 400\torder date: 2025-09-01},\n",
              " {Cruz, Thomas\t   total amount: 500\torder date: 1990-02-15},\n",
              " {Hanks, Thomas\t   total amount: 100\torder date: 2021-03-05},\n",
              " {Taylor, Liz\t   total amount: 145\torder date: 1955-08-14},\n",
              " {Plummer, Cris\t   total amount: 66\torder date: 1976-09-30},\n",
              " {Clinton, Bill\t   total amount: 986\torder date: 1965-07-11},\n",
              " {Obama, Barack\t   total amount: 5\torder date: 1970-12-24},\n",
              " {Coon, George\t   total amount: 33\torder date: 2001-12-05},\n",
              " {Sawyer, Tom\t   total amount: 95\torder date: 2006-07-04}]"
            ]
          },
          "metadata": {
            "tags": []
          },
          "execution_count": 2
        }
      ]
    },
    {
      "cell_type": "code",
      "metadata": {
        "colab": {
          "base_uri": "https://localhost:8080/"
        },
        "id": "Ecrq4ZAtsQQv",
        "outputId": "735f8f38-6ec2-41a8-e125-91fb6c3c994e"
      },
      "source": [
        "def order_robot(custlist):\r\n",
        "  custlist.sort(reverse= True)\r\n",
        "  for c in custlist:\r\n",
        "    print(c)\r\n",
        "\r\n",
        "print(\"This prints the sorted total amount from highest to lowest\")\r\n",
        "order_robot(customers)"
      ],
      "execution_count": 3,
      "outputs": [
        {
          "output_type": "stream",
          "text": [
            "This prints the sorted total amount from highest to lowest\n",
            "{Clinton, Bill\t   total amount: 986\torder date: 1965-07-11}\n",
            "{Cruz, Thomas\t   total amount: 500\torder date: 1990-02-15}\n",
            "{Pie, Appleton\t   total amount: 400\torder date: 2025-09-01}\n",
            "{Taylor, Liz\t   total amount: 145\torder date: 1955-08-14}\n",
            "{Hanks, Thomas\t   total amount: 100\torder date: 2021-03-05}\n",
            "{Sawyer, Tom\t   total amount: 95\torder date: 2006-07-04}\n",
            "{Plummer, Cris\t   total amount: 66\torder date: 1976-09-30}\n",
            "{Coon, George\t   total amount: 33\torder date: 2001-12-05}\n",
            "{Cowell, Simon\t   total amount: 20\torder date: 1950-06-04}\n",
            "{Obama, Barack\t   total amount: 5\torder date: 1970-12-24}\n"
          ],
          "name": "stdout"
        }
      ]
    },
    {
      "cell_type": "code",
      "metadata": {
        "colab": {
          "base_uri": "https://localhost:8080/"
        },
        "id": "Vkw5PogpzTXS",
        "outputId": "d8801f22-af8c-46fa-b6e0-388ed71826d7"
      },
      "source": [
        "print(\"This print the first customer entered\")\r\n",
        "print(c1)"
      ],
      "execution_count": 4,
      "outputs": [
        {
          "output_type": "stream",
          "text": [
            "This print the first customer entered\n",
            "{Cowell, Simon\t   total amount: 20\torder date: 1950-06-04}\n"
          ],
          "name": "stdout"
        }
      ]
    },
    {
      "cell_type": "code",
      "metadata": {
        "colab": {
          "base_uri": "https://localhost:8080/"
        },
        "id": "hQ5UXInmFx53",
        "outputId": "d4b5ec5f-368a-4c9b-89bb-9018bb25864d"
      },
      "source": [
        "print(\"This stores, retrieves and prints the fifth customer \")\r\n",
        "print(\"c5: \", c5)\r\n",
        "print(\"Full name: \", c5.name)\r\n",
        "print(\"First name: \",c5.first_name)\r\n",
        "print(\"Last name: \", c5.last_name)\r\n",
        "print(\"Order Amount: \", c5.orderAmount)\r\n",
        "print(\"Order Date: \",c5.orderDate)"
      ],
      "execution_count": 5,
      "outputs": [
        {
          "output_type": "stream",
          "text": [
            "This stores, retrieves and prints the fifth customer \n",
            "c5:  {Taylor, Liz\t   total amount: 145\torder date: 1955-08-14}\n",
            "Full name:  Liz Taylor\n",
            "First name:  Liz\n",
            "Last name:  Taylor\n",
            "Order Amount:  145\n",
            "Order Date:  1955-08-14\n"
          ],
          "name": "stdout"
        }
      ]
    },
    {
      "cell_type": "code",
      "metadata": {
        "colab": {
          "base_uri": "https://localhost:8080/"
        },
        "id": "e-rIbCX6ebfW",
        "outputId": "734a8b33-dc99-4d39-ecef-bc84535c26f6"
      },
      "source": [
        "print(\"The get enables to make changes\")\r\n",
        "print(\"This is the first entry for the second customer\")\r\n",
        "print(c2)\r\n",
        "c2.getOrderAmount(3)\r\n",
        "print(\"\\nThis is the second and third change for the second customer\")\r\n",
        "c2.getOrderDate(datetime.date(1987, 3, 18))\r\n",
        "print(c2)"
      ],
      "execution_count": 6,
      "outputs": [
        {
          "output_type": "stream",
          "text": [
            "The get enables to make changes\n",
            "This is the first entry for the second customer\n",
            "{Pie, Appleton\t   total amount: 400\torder date: 2025-09-01}\n",
            "\n",
            "This is the second and third change for the second customer\n",
            "{Pie, Appleton\t   total amount: 3\torder date: 1987-03-18}\n"
          ],
          "name": "stdout"
        }
      ]
    },
    {
      "cell_type": "code",
      "metadata": {
        "colab": {
          "base_uri": "https://localhost:8080/"
        },
        "id": "v03fu0UPKbCk",
        "outputId": "01a920d1-8b4a-4b88-bc4a-27ab49b37162"
      },
      "source": [
        "print(\"This list was resorted after changes was made in the amount\")\r\n",
        "order_robot(customers)"
      ],
      "execution_count": 7,
      "outputs": [
        {
          "output_type": "stream",
          "text": [
            "This list was resorted after changes was made in the amount\n",
            "{Clinton, Bill\t   total amount: 986\torder date: 1965-07-11}\n",
            "{Cruz, Thomas\t   total amount: 500\torder date: 1990-02-15}\n",
            "{Taylor, Liz\t   total amount: 145\torder date: 1955-08-14}\n",
            "{Hanks, Thomas\t   total amount: 100\torder date: 2021-03-05}\n",
            "{Sawyer, Tom\t   total amount: 95\torder date: 2006-07-04}\n",
            "{Plummer, Cris\t   total amount: 66\torder date: 1976-09-30}\n",
            "{Coon, George\t   total amount: 33\torder date: 2001-12-05}\n",
            "{Cowell, Simon\t   total amount: 20\torder date: 1950-06-04}\n",
            "{Obama, Barack\t   total amount: 5\torder date: 1970-12-24}\n",
            "{Pie, Appleton\t   total amount: 3\torder date: 1987-03-18}\n"
          ],
          "name": "stdout"
        }
      ]
    }
  ]
}