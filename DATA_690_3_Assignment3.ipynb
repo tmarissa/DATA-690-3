{
  "nbformat": 4,
  "nbformat_minor": 0,
  "metadata": {
    "colab": {
      "name": "DATA 690-3 Assignment3.ipynb",
      "provenance": []
    },
    "kernelspec": {
      "name": "python3",
      "display_name": "Python 3"
    }
  },
  "cells": [
    {
      "cell_type": "markdown",
      "metadata": {
        "id": "Jv5d23wwNco-"
      },
      "source": [
        "###Create a new module that has:\r\n",
        "- myFibonacci() function that implements Fibonacci series using recursion. Refer to the text book, lecture slides and Jupyter notebook.\r\n",
        "- When the module is imported, set a global variable that is used to count the number of recursions function makes. \r\n",
        "- printNumRecursions() function to return the number of total recursions made in myFibonacci() function\r\n",
        "\r\n",
        "###Modify applyToEach() to use Python map() function"
      ]
    },
    {
      "cell_type": "code",
      "metadata": {
        "colab": {
          "base_uri": "https://localhost:8080/"
        },
        "id": "UNUs11c4Nadm",
        "outputId": "8532e858-c4a6-418b-c406-d464af06387a"
      },
      "source": [
        "# Create a new module\r\n",
        "%%writefile fibassignment3.py\r\n",
        "def fib(x):\r\n",
        "    \"\"\" Assumes x an int >= 0 Returns Fibonacci of x\"\"\"\r\n",
        "    global numFibCalls  # Global Statement\r\n",
        "    numFibCalls += 1\r\n",
        "    if x == 0 or x == 1:\r\n",
        "        return 1\r\n",
        "    else:\r\n",
        "        return fib(x-1) + fib(x-2)\r\n",
        "\r\n",
        "\r\n",
        "def testFib(n):\r\n",
        "    for i in range(n+1):\r\n",
        "        global numFibCalls #Try removing global numFibCalls or numFibCalls\r\n",
        "        numFibCalls = 0  #NumFibCalls reset\r\n",
        "        print(\"fib of \", i, '=', myFibonacci(i))\r\n",
        "        print(\"fib called\", numFibCalls, 'times.')\r\n",
        "              "
      ],
      "execution_count": null,
      "outputs": [
        {
          "output_type": "stream",
          "text": [
            "Overwriting fibassignment3.py\n"
          ],
          "name": "stdout"
        }
      ]
    },
    {
      "cell_type": "code",
      "metadata": {
        "colab": {
          "base_uri": "https://localhost:8080/"
        },
        "id": "f8Nw0F_cNafa",
        "outputId": "590729fb-7595-4d4e-f176-7008e5e04723"
      },
      "source": [
        "# List of files\r\n",
        "!ls\r\n"
      ],
      "execution_count": null,
      "outputs": [
        {
          "output_type": "stream",
          "text": [
            "FibA.py  fibassignment3.py  __pycache__  sample_data\n"
          ],
          "name": "stdout"
        }
      ]
    },
    {
      "cell_type": "code",
      "metadata": {
        "colab": {
          "base_uri": "https://localhost:8080/"
        },
        "id": "q_qEI1lFPr0J",
        "outputId": "e0665af6-d5da-4d5f-e2c7-661957070a4e"
      },
      "source": [
        "# Content \r\n",
        "!cat fibassignment3.py"
      ],
      "execution_count": null,
      "outputs": [
        {
          "output_type": "stream",
          "text": [
            "def fib(x):\n",
            "    \"\"\" Assumes x an int >= 0 Returns Fibonacci of x\"\"\"\n",
            "    global numFibCalls  # Global Statement\n",
            "    numFibCalls += 1\n",
            "    if x == 0 or x == 1:\n",
            "        return 1\n",
            "    else:\n",
            "        return fib(x-1) + fib(x-2)\n",
            "\n",
            "\n",
            "def testFib(n):\n",
            "    for i in range(n+1):\n",
            "        global numFibCalls #Try removing global numFibCalls or numFibCalls\n",
            "        numFibCalls = 0  #NumFibCalls reset\n",
            "        print(\"fib of \", i, '=', myFibonacci(i))\n",
            "        print(\"fib called\", numFibCalls, 'times.')\n",
            "              "
          ],
          "name": "stdout"
        }
      ]
    },
    {
      "cell_type": "code",
      "metadata": {
        "id": "dlLv7ZjzPrNq"
      },
      "source": [
        "# Import a file and its function\r\n",
        "from fibassignment3 import testFib"
      ],
      "execution_count": null,
      "outputs": []
    },
    {
      "cell_type": "code",
      "metadata": {
        "colab": {
          "base_uri": "https://localhost:8080/"
        },
        "id": "yyvZgK6bWGXq",
        "outputId": "cec465dc-66ce-4889-a5da-f508575df316"
      },
      "source": [
        "testFib(6)"
      ],
      "execution_count": null,
      "outputs": [
        {
          "output_type": "stream",
          "text": [
            "fib of  0 = 1\n",
            "fib called 1 times.\n",
            "fib of  1 = 1\n",
            "fib called 1 times.\n",
            "fib of  2 = 2\n",
            "fib called 3 times.\n",
            "fib of  3 = 3\n",
            "fib called 5 times.\n",
            "fib of  4 = 5\n",
            "fib called 9 times.\n",
            "fib of  5 = 8\n",
            "fib called 15 times.\n",
            "fib of  6 = 13\n",
            "fib called 25 times.\n"
          ],
          "name": "stdout"
        }
      ]
    },
    {
      "cell_type": "code",
      "metadata": {
        "colab": {
          "base_uri": "https://localhost:8080/"
        },
        "id": "5Xk1i3shabys",
        "outputId": "c437c0b8-c9ba-4ed0-cca3-d6b2247d43fc"
      },
      "source": [
        "# Write a new file call FibA and rename functions to myFibonacci, added a new function called printNumRecursions\r\n",
        "%%writefile FibA.py\r\n",
        "def myFibonacci(x):\r\n",
        "        \"\"\" Assumes x an int >= 0 Returns Fibonacci of x\"\"\"\r\n",
        "        global TotalRecursion  # Global Statement\r\n",
        "        TotalRecursion += 1\r\n",
        "        if x == 0 or x == 1:\r\n",
        "            return 1\r\n",
        "        else:\r\n",
        "            return myFibonacci(x-1) + myFibonacci(x-2)\r\n",
        "\r\n",
        "def printNumRecursions():\r\n",
        "    global TotalRecursion\r\n",
        "    return TotalRecursion\r\n",
        "\r\n",
        "def testFib(n):\r\n",
        "        for i in range(n+1):\r\n",
        "            globe TotalRecursion \r\n",
        "            TotalRecursion = 0  #TotalRecursion resets\r\n",
        "            print(\"Fib of \", i, '=',  myFibonacci(i))\r\n",
        "            print(\"Fib called\", printNumRecursions(), 'times.')\r\n"
      ],
      "execution_count": null,
      "outputs": [
        {
          "output_type": "stream",
          "text": [
            "Overwriting FibA.py\n"
          ],
          "name": "stdout"
        }
      ]
    },
    {
      "cell_type": "code",
      "metadata": {
        "colab": {
          "base_uri": "https://localhost:8080/"
        },
        "id": "7WKw5nh6baA1",
        "outputId": "dd065be5-e1cd-4595-8897-f41d3dea19c9"
      },
      "source": [
        "# Import a file and call a function\r\n",
        "from FibA import testFib\r\n",
        "testFib(6) "
      ],
      "execution_count": null,
      "outputs": [
        {
          "output_type": "stream",
          "text": [
            "Fib of  0 = 1\n",
            "Fib called 1 times.\n",
            "Fib of  1 = 1\n",
            "Fib called 1 times.\n",
            "Fib of  2 = 2\n",
            "Fib called 3 times.\n",
            "Fib of  3 = 3\n",
            "Fib called 5 times.\n",
            "Fib of  4 = 5\n",
            "Fib called 9 times.\n",
            "Fib of  5 = 8\n",
            "Fib called 15 times.\n",
            "Fib of  6 = 13\n",
            "Fib called 25 times.\n"
          ],
          "name": "stdout"
        }
      ]
    },
    {
      "cell_type": "markdown",
      "metadata": {
        "id": "G3aRxKTKL6Dh"
      },
      "source": [
        "## Creation of two functions for the fibonacci and factorial"
      ]
    },
    {
      "cell_type": "code",
      "metadata": {
        "id": "hV49Qlh5f04-"
      },
      "source": [
        "# Assumes n is any number which could be negative and float numbers. If it is a float\r\n",
        "# or negative number, it would return to 0. Otherwise, returns to Fibonacci of n.\r\n",
        "# The above Fibonacci functions were not used because it did not consider negative\r\n",
        "# and float numbers, so a new function has to be written\r\n",
        "def fibo(n):\r\n",
        "  if n== 0 or n ==1:\r\n",
        "    return 1\r\n",
        "  elif n < 0:\r\n",
        "    return 0\r\n",
        "  else:\r\n",
        "   return fib(n-1)+fib(n-2)\r\n"
      ],
      "execution_count": null,
      "outputs": []
    },
    {
      "cell_type": "code",
      "metadata": {
        "id": "iS_28L9Bm7Bi"
      },
      "source": [
        "# Assumes n is any number which could be negative and float numbers. If it is a float\r\n",
        "# or negative number, it would return to 0. Otherwise, returns to Factorial of n. \r\n",
        "# A new function has to be written to apply negatives and float.\r\n",
        "\r\n",
        "def factR(n):\r\n",
        "  if n== 0 or n ==1:\r\n",
        "    return 1\r\n",
        "  elif n < 0:\r\n",
        "    return 0\r\n",
        "  else:\r\n",
        "    return n*factR(n - 1)"
      ],
      "execution_count": null,
      "outputs": []
    },
    {
      "cell_type": "markdown",
      "metadata": {
        "id": "Vt1SNZpMHS8-"
      },
      "source": [
        "## Modify applyToEach() to use Python map() function\r\n",
        "- Assumes L is a list, f a function\r\n",
        "    mutates L by replacing each element, e, of L by f(e). \r\n",
        "- Another alternative is  \"i = list(map(f, L))\" which meant no\r\n",
        "    need to indent on the next line which is print because\r\n",
        "    it has no for loop\r\n",
        "- Creation of two function above to use for the factorial and fibonacci since the numbers used for the list were float and negative numbers. The return were zero."
      ]
    },
    {
      "cell_type": "code",
      "metadata": {
        "id": "3kmh1STA5YgV",
        "colab": {
          "base_uri": "https://localhost:8080/"
        },
        "outputId": "05a2fb5d-bdc3-4da4-acde-b82ed5d0a3d1"
      },
      "source": [
        "def applyToEach(L, f):\r\n",
        "    for i in map(f, L):         \r\n",
        "       print(i, end = ' ')\r\n",
        "\r\n",
        "L = [1, -2, 3.33, 2, 3, 5, 0]\r\n",
        "print('L =', L)\r\n",
        "print('\\n')\r\n",
        "print('Apply abs to each element of L.')\r\n",
        "applyToEach(L, abs)\r\n",
        "print(\"\\n\")\r\n",
        "print('Apply int to each element of L.')\r\n",
        "applyToEach(L, int)\r\n",
        "print('\\n')\r\n",
        "print('Apply factorial to each element of L.')\r\n",
        "applyToEach(L, factR)\r\n",
        "print('\\n')\r\n",
        "print('Apply fib to each element of L.')\r\n",
        "applyToEach(L, fibo)\r\n"
      ],
      "execution_count": null,
      "outputs": [
        {
          "output_type": "stream",
          "text": [
            "L = [1, -2, 3.33, 2, 3, 5, 0]\n",
            "\n",
            "\n",
            "Apply abs to each element of L.\n",
            "1 2 3.33 2 3 5 0 \n",
            "\n",
            "Apply int to each element of L.\n",
            "1 -2 3 2 3 5 0 \n",
            "\n",
            "Apply factorial to each element of L.\n",
            "1 0 0.0 2 6 120 1 \n",
            "\n",
            "Apply fib to each element of L.\n",
            "1 0 0 2 3 8 1 "
          ],
          "name": "stdout"
        }
      ]
    }
  ]
}