{
 "cells": [
  {
   "cell_type": "code",
   "execution_count": 16,
   "metadata": {},
   "outputs": [],
   "source": [
    "import numpy as np\n",
    "import random\n",
    "from datetime import date\n",
    "import datetime\n",
    "from datetime import datetime"
   ]
  },
  {
   "cell_type": "markdown",
   "metadata": {},
   "source": [
    "1. Create a sample code of partitioning. Use 5 as k argumemnt."
   ]
  },
  {
   "cell_type": "code",
   "execution_count": 17,
   "metadata": {},
   "outputs": [
    {
     "data": {
      "text/plain": [
       "array([0, 1, 2, 3, 4, 5, 6, 7, 8, 9])"
      ]
     },
     "execution_count": 17,
     "metadata": {},
     "output_type": "execute_result"
    }
   ],
   "source": [
    "g = np.arange(0, 10)\n",
    "g"
   ]
  },
  {
   "cell_type": "code",
   "execution_count": 18,
   "metadata": {},
   "outputs": [
    {
     "data": {
      "text/plain": [
       "array([1, 0, 2, 3, 4, 5, 6, 7, 8, 9])"
      ]
     },
     "execution_count": 18,
     "metadata": {},
     "output_type": "execute_result"
    }
   ],
   "source": [
    "np.partition(g, 5)"
   ]
  },
  {
   "cell_type": "code",
   "execution_count": 19,
   "metadata": {},
   "outputs": [
    {
     "data": {
      "text/plain": [
       "array([[3, 3, 9, 8, 4, 2, 7, 2, 8, 6]])"
      ]
     },
     "execution_count": 19,
     "metadata": {},
     "output_type": "execute_result"
    }
   ],
   "source": [
    "y = np.random.randint(0, 10, (1, 10))\n",
    "y"
   ]
  },
  {
   "cell_type": "code",
   "execution_count": 20,
   "metadata": {},
   "outputs": [
    {
     "data": {
      "text/plain": [
       "array([[3, 3, 2, 2, 4, 6, 7, 8, 8, 9]])"
      ]
     },
     "execution_count": 20,
     "metadata": {},
     "output_type": "execute_result"
    }
   ],
   "source": [
    "np.partition(y, 5)"
   ]
  },
  {
   "cell_type": "markdown",
   "metadata": {},
   "source": [
    "2. Create a sample structure array using following specification:\n",
    "- name: OrderDate, format: unicode maximum 8 characters\n",
    "- name: OrderAmount, format: float 8-bytes\n",
    "- name: OrderNumber, format: integer 4-bytes\n",
    "- name: OrderName, format: unicode maximum 20 characters"
   ]
  },
  {
   "cell_type": "code",
   "execution_count": 21,
   "metadata": {},
   "outputs": [
    {
     "name": "stdout",
     "output_type": "stream",
     "text": [
      "[('OrderDate', '<U8'), ('OrderAmount', '<f8'), ('OrderNumber', '<i4'), ('OrderName', '<U20')]\n"
     ]
    }
   ],
   "source": [
    "data = np.zeros(10, dtype ={'names': ('OrderDate', 'OrderAmount', 'OrderNumber', 'OrderName'),\n",
    "                          'formats' : ((np.str_,8), (np.float64), int, (np.str_, 20))})\n",
    "print(data.dtype)"
   ]
  },
  {
   "cell_type": "code",
   "execution_count": 22,
   "metadata": {},
   "outputs": [],
   "source": [
    "OrderAmount =[100, 200, 300, 400, 500, 600, 700, 800, 900, 1000]\n",
    "OrderName = ['Angel', 'Boy', 'Colt', 'Dough', 'Eun', 'Fay', 'Gail', 'Hope', 'Indie', 'Jay']\n",
    "OrderAmount = [1.23, 4.56, 7.89, 10.11, 12.13, 14.15, 16.17, 18.19, 19.20, 21.22]"
   ]
  },
  {
   "cell_type": "code",
   "execution_count": 23,
   "metadata": {},
   "outputs": [
    {
     "name": "stdout",
     "output_type": "stream",
     "text": [
      "['2020-01-01' '2020-01-04' '2020-01-07' '2020-01-10' '2020-01-13'\n",
      " '2020-01-16' '2020-01-19' '2020-01-22' '2020-01-25' '2020-01-28']\n"
     ]
    }
   ],
   "source": [
    "# Odates is a list of 10 order dates start from 1-1-2020, stop 1-31-2020, every 3 days\n",
    "Odates = np.arange(date(2020, 1, 1), date(2020, 1, 31), 3)\n",
    "print(Odates)"
   ]
  },
  {
   "cell_type": "code",
   "execution_count": 24,
   "metadata": {},
   "outputs": [
    {
     "name": "stdout",
     "output_type": "stream",
     "text": [
      "['01/01/20', '01/04/20', '01/07/20', '01/10/20', '01/13/20', '01/16/20', '01/19/20', '01/22/20', '01/25/20', '01/28/20']\n"
     ]
    }
   ],
   "source": [
    "# Change the Unicode 10 to Unicode 8\n",
    "OrderDate = []\n",
    "for i in Odates:\n",
    "    i_type = i.astype(datetime)\n",
    "    i_strf = i_type.strftime(\"%x\")\n",
    "    OrderDate.append(i_strf)\n",
    "\n",
    "print(OrderDate)"
   ]
  },
  {
   "cell_type": "markdown",
   "metadata": {},
   "source": [
    "3. Using #2, create a NumPy array of 10 elements with proper initialization of the structured array. Note order numbers must be between 101 - 110."
   ]
  },
  {
   "cell_type": "code",
   "execution_count": 25,
   "metadata": {},
   "outputs": [
    {
     "data": {
      "text/plain": [
       "array([101, 102, 103, 104, 105, 106, 107, 108, 109, 110])"
      ]
     },
     "execution_count": 25,
     "metadata": {},
     "output_type": "execute_result"
    }
   ],
   "source": [
    "OrderNumber = np.arange(101, 111)\n",
    "OrderNumber"
   ]
  },
  {
   "cell_type": "code",
   "execution_count": 26,
   "metadata": {},
   "outputs": [],
   "source": [
    "data['OrderAmount']= OrderAmount\n",
    "data['OrderNumber']= OrderNumber\n",
    "data['OrderName']= OrderName\n",
    "data['OrderDate']= OrderDate"
   ]
  },
  {
   "cell_type": "markdown",
   "metadata": {},
   "source": [
    "4. Using the array in #3, filter the array to return orders with order number less than 105. "
   ]
  },
  {
   "cell_type": "code",
   "execution_count": 27,
   "metadata": {},
   "outputs": [
    {
     "data": {
      "text/plain": [
       "array([('01/01/20',  1.23, 101, 'Angel'), ('01/04/20',  4.56, 102, 'Boy'),\n",
       "       ('01/07/20',  7.89, 103, 'Colt'),\n",
       "       ('01/10/20', 10.11, 104, 'Dough')],\n",
       "      dtype=[('OrderDate', '<U8'), ('OrderAmount', '<f8'), ('OrderNumber', '<i4'), ('OrderName', '<U20')])"
      ]
     },
     "execution_count": 27,
     "metadata": {},
     "output_type": "execute_result"
    }
   ],
   "source": [
    "data[data['OrderNumber']< 105]  "
   ]
  },
  {
   "cell_type": "markdown",
   "metadata": {},
   "source": [
    "5. Using the code snippet below, fill-in the cell to generate the array as shown at the bottom. \n",
    "- You will need to use fancy indexing and masking. \n",
    "- Select rows with indices 0, 3, 4, 6, 7\n",
    "- Use column masking to return every other columns. The first column will be returned, 2nd column will not and so on. "
   ]
  },
  {
   "cell_type": "code",
   "execution_count": 28,
   "metadata": {},
   "outputs": [],
   "source": [
    "rng = np.random.RandomState(0)\n",
    "x = rng.randint(10, size=(10, 10))"
   ]
  },
  {
   "cell_type": "code",
   "execution_count": 29,
   "metadata": {},
   "outputs": [
    {
     "data": {
      "text/plain": [
       "array([[5, 0, 3, 3, 7, 9, 3, 5, 2, 4],\n",
       "       [7, 6, 8, 8, 1, 6, 7, 7, 8, 1],\n",
       "       [5, 9, 8, 9, 4, 3, 0, 3, 5, 0],\n",
       "       [2, 3, 8, 1, 3, 3, 3, 7, 0, 1],\n",
       "       [9, 9, 0, 4, 7, 3, 2, 7, 2, 0],\n",
       "       [0, 4, 5, 5, 6, 8, 4, 1, 4, 9],\n",
       "       [8, 1, 1, 7, 9, 9, 3, 6, 7, 2],\n",
       "       [0, 3, 5, 9, 4, 4, 6, 4, 4, 3],\n",
       "       [4, 4, 8, 4, 3, 7, 5, 5, 0, 1],\n",
       "       [5, 9, 3, 0, 5, 0, 1, 2, 4, 2]])"
      ]
     },
     "execution_count": 29,
     "metadata": {},
     "output_type": "execute_result"
    }
   ],
   "source": [
    "x"
   ]
  },
  {
   "cell_type": "code",
   "execution_count": 30,
   "metadata": {},
   "outputs": [
    {
     "data": {
      "text/plain": [
       "array([[5, 3, 7, 3, 2],\n",
       "       [2, 8, 3, 3, 0],\n",
       "       [9, 0, 7, 2, 2],\n",
       "       [8, 1, 9, 3, 7],\n",
       "       [0, 5, 4, 6, 4]])"
      ]
     },
     "execution_count": 30,
     "metadata": {},
     "output_type": "execute_result"
    }
   ],
   "source": [
    "row = np.array([0, 3, 4, 6, 7])\n",
    "mask = np.array([1, 0, 1, 0, 1, 0, 1, 0, 1, 0], dtype=bool)\n",
    "x[row[:,np.newaxis], mask]\n"
   ]
  },
  {
   "cell_type": "code",
   "execution_count": null,
   "metadata": {},
   "outputs": [],
   "source": []
  }
 ],
 "metadata": {
  "kernelspec": {
   "display_name": "Python 3",
   "language": "python",
   "name": "python3"
  },
  "language_info": {
   "codemirror_mode": {
    "name": "ipython",
    "version": 3
   },
   "file_extension": ".py",
   "mimetype": "text/x-python",
   "name": "python",
   "nbconvert_exporter": "python",
   "pygments_lexer": "ipython3",
   "version": "3.8.5"
  }
 },
 "nbformat": 4,
 "nbformat_minor": 4
}
