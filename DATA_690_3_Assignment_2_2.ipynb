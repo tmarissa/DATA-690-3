{
  "nbformat": 4,
  "nbformat_minor": 0,
  "metadata": {
    "colab": {
      "name": "DATA 690-3 Assignment 2-2.ipynb",
      "provenance": []
    },
    "kernelspec": {
      "name": "python3",
      "display_name": "Python 3"
    }
  },
  "cells": [
    {
      "cell_type": "markdown",
      "metadata": {
        "id": "HPU7saOtn_NT"
      },
      "source": [
        "### 3.3 What would the code in Figure 3.4 do if the statement x =25 were replaced by x=-25\r\n",
        "# It would run to infinity\r\n",
        " "
      ]
    },
    {
      "cell_type": "markdown",
      "metadata": {
        "id": "rQCXRrEKn_Lr"
      },
      "source": [
        "### 3.3 What would have to be changed to make the code in Figure 3.4 work fo finding an approximation to the cube root of both negative and positive numbers? (Hint: about changing low to ensure that the answer lies within the region being searched) \r\n",
        "\r\n",
        "\r\n"
      ]
    },
    {
      "cell_type": "code",
      "metadata": {
        "id": "c9k5FWsxDIta",
        "colab": {
          "base_uri": "https://localhost:8080/"
        },
        "outputId": "7190b0f7-7809-4f3c-b8d3-1caaffb230c3"
      },
      "source": [
        "x = int(input(\"Enter a number to find the square root of:\"))\r\n",
        "epsilon = float(input(\"Enter the value for epsilon: \"))\r\n",
        "numGuesses = 0 #Increased each time we go through the while loop\r\n",
        "high = max(1.0, x)\r\n",
        "low = 0\r\n",
        "\r\n",
        "# Added a conditional if statement to make a negative integer the lowest\r\n",
        "if x < 0:\r\n",
        "  low = x\r\n",
        "\r\n",
        "ans = (high + low)/2.0 \r\n",
        "\r\n",
        "while abs(ans**3 - x ) >= epsilon:\r\n",
        "  print(\"low =\", low, \"high =\", high, \"ans = \", ans)\r\n",
        "  numGuesses += 1\r\n",
        "  if ans**3 < x:\r\n",
        "    low = ans\r\n",
        "  else:\r\n",
        "    high = ans\r\n",
        "  ans = (high + low)/2.0\r\n",
        "print(\"numGuesses = \", numGuesses)\r\n",
        "print(ans, 'is close to cube root of ', x)"
      ],
      "execution_count": 1,
      "outputs": [
        {
          "output_type": "stream",
          "text": [
            "Enter a number to find the square root of:-27\n",
            "Enter the value for epsilon: 0.01\n",
            "low = -27 high = 1.0 ans =  -13.0\n",
            "low = -13.0 high = 1.0 ans =  -6.0\n",
            "low = -6.0 high = 1.0 ans =  -2.5\n",
            "low = -6.0 high = -2.5 ans =  -4.25\n",
            "low = -4.25 high = -2.5 ans =  -3.375\n",
            "low = -3.375 high = -2.5 ans =  -2.9375\n",
            "low = -3.375 high = -2.9375 ans =  -3.15625\n",
            "low = -3.15625 high = -2.9375 ans =  -3.046875\n",
            "low = -3.046875 high = -2.9375 ans =  -2.9921875\n",
            "low = -3.046875 high = -2.9921875 ans =  -3.01953125\n",
            "low = -3.01953125 high = -2.9921875 ans =  -3.005859375\n",
            "low = -3.005859375 high = -2.9921875 ans =  -2.9990234375\n",
            "low = -3.005859375 high = -2.9990234375 ans =  -3.00244140625\n",
            "low = -3.00244140625 high = -2.9990234375 ans =  -3.000732421875\n",
            "numGuesses =  14\n",
            "-2.9998779296875 is close to cube root of  -27\n"
          ],
          "name": "stdout"
        }
      ]
    }
  ]
}