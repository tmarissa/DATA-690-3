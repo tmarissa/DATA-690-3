{
  "nbformat": 4,
  "nbformat_minor": 0,
  "metadata": {
    "colab": {
      "name": "Data 690-3 Assignment 9.ipynb",
      "provenance": []
    },
    "kernelspec": {
      "display_name": "Python 3",
      "language": "python",
      "name": "python3"
    },
    "language_info": {
      "codemirror_mode": {
        "name": "ipython",
        "version": 3
      },
      "file_extension": ".py",
      "mimetype": "text/x-python",
      "name": "python",
      "nbconvert_exporter": "python",
      "pygments_lexer": "ipython3",
      "version": "3.8.5"
    }
  },
  "cells": [
    {
      "cell_type": "markdown",
      "metadata": {
        "id": "jb74ozWWhBsX"
      },
      "source": [
        "#### 1. Import the numpy package"
      ]
    },
    {
      "cell_type": "code",
      "metadata": {
        "id": "dVlYjowZhBsY"
      },
      "source": [
        "import numpy as np"
      ],
      "execution_count": 1,
      "outputs": []
    },
    {
      "cell_type": "markdown",
      "metadata": {
        "id": "hfybjA-ThBsb"
      },
      "source": [
        "#### 2. Create a 1-dimensional NumPy array with size of 10 filled with value 0"
      ]
    },
    {
      "cell_type": "code",
      "metadata": {
        "colab": {
          "base_uri": "https://localhost:8080/"
        },
        "id": "sQIj62cBhBsc",
        "outputId": "36d57d21-a46a-4b41-cc10-d087e22cdc52"
      },
      "source": [
        "np.zeros(10, dtype=int)\n"
      ],
      "execution_count": 2,
      "outputs": [
        {
          "output_type": "execute_result",
          "data": {
            "text/plain": [
              "array([0, 0, 0, 0, 0, 0, 0, 0, 0, 0])"
            ]
          },
          "metadata": {
            "tags": []
          },
          "execution_count": 2
        }
      ]
    },
    {
      "cell_type": "markdown",
      "metadata": {
        "id": "5eWL--rahBse"
      },
      "source": [
        "#### 3. Create a 1-dimensional NumPy array with size of 10 filled with value 1"
      ]
    },
    {
      "cell_type": "code",
      "metadata": {
        "colab": {
          "base_uri": "https://localhost:8080/"
        },
        "id": "CtPFvTxNhBse",
        "outputId": "ca1b3ff9-427b-405d-e1ef-da66fef5d2a0"
      },
      "source": [
        "np.ones(10, dtype=int)\n"
      ],
      "execution_count": 3,
      "outputs": [
        {
          "output_type": "execute_result",
          "data": {
            "text/plain": [
              "array([1, 1, 1, 1, 1, 1, 1, 1, 1, 1])"
            ]
          },
          "metadata": {
            "tags": []
          },
          "execution_count": 3
        }
      ]
    },
    {
      "cell_type": "markdown",
      "metadata": {
        "id": "w6iS4RRQhBsg"
      },
      "source": [
        "#### 4. Create a 1-dimensional NumPy array with size of 10 filled with value 3.14"
      ]
    },
    {
      "cell_type": "code",
      "metadata": {
        "colab": {
          "base_uri": "https://localhost:8080/"
        },
        "id": "mcKhYz5ehBsh",
        "outputId": "b8b83f3b-6910-4011-c1e4-cf8826cb7f43"
      },
      "source": [
        "np.full(10, 3.14)"
      ],
      "execution_count": 4,
      "outputs": [
        {
          "output_type": "execute_result",
          "data": {
            "text/plain": [
              "array([3.14, 3.14, 3.14, 3.14, 3.14, 3.14, 3.14, 3.14, 3.14, 3.14])"
            ]
          },
          "metadata": {
            "tags": []
          },
          "execution_count": 4
        }
      ]
    },
    {
      "cell_type": "markdown",
      "metadata": {
        "id": "1xaQ8HCrhBsj"
      },
      "source": [
        "#### 5. Create a 2-dimensional NumPy array with shape (5,5) filled with value 3.14"
      ]
    },
    {
      "cell_type": "code",
      "metadata": {
        "colab": {
          "base_uri": "https://localhost:8080/"
        },
        "id": "j08LY7MnhBsk",
        "outputId": "751373a7-b482-4fb5-b14f-da7293342d0a"
      },
      "source": [
        "x1 = np.full((5,5), 3.14)\n",
        "x1"
      ],
      "execution_count": 5,
      "outputs": [
        {
          "output_type": "execute_result",
          "data": {
            "text/plain": [
              "array([[3.14, 3.14, 3.14, 3.14, 3.14],\n",
              "       [3.14, 3.14, 3.14, 3.14, 3.14],\n",
              "       [3.14, 3.14, 3.14, 3.14, 3.14],\n",
              "       [3.14, 3.14, 3.14, 3.14, 3.14],\n",
              "       [3.14, 3.14, 3.14, 3.14, 3.14]])"
            ]
          },
          "metadata": {
            "tags": []
          },
          "execution_count": 5
        }
      ]
    },
    {
      "cell_type": "markdown",
      "metadata": {
        "id": "iK1YznO2hBsm"
      },
      "source": [
        "#### 6. Calculate the total bytes used by the array in #5"
      ]
    },
    {
      "cell_type": "code",
      "metadata": {
        "colab": {
          "base_uri": "https://localhost:8080/"
        },
        "id": "cCphlTAZhBsm",
        "outputId": "88fbf1a4-582c-420c-b1ea-1a24909e9751"
      },
      "source": [
        "print(\"Total Bytes: \", x1.nbytes)"
      ],
      "execution_count": 6,
      "outputs": [
        {
          "output_type": "stream",
          "text": [
            "Total Bytes:  200\n"
          ],
          "name": "stdout"
        }
      ]
    },
    {
      "cell_type": "markdown",
      "metadata": {
        "id": "GkN4FLy0hBsp"
      },
      "source": [
        "#### 7. Create a NumPy array with values in range from 21 to 100"
      ]
    },
    {
      "cell_type": "code",
      "metadata": {
        "colab": {
          "base_uri": "https://localhost:8080/"
        },
        "id": "e58QAvHdhBsp",
        "outputId": "657c4d0f-ce90-4595-c095-3d11febdd447"
      },
      "source": [
        "x = np.arange(21, 101)\n",
        "x"
      ],
      "execution_count": 7,
      "outputs": [
        {
          "output_type": "execute_result",
          "data": {
            "text/plain": [
              "array([ 21,  22,  23,  24,  25,  26,  27,  28,  29,  30,  31,  32,  33,\n",
              "        34,  35,  36,  37,  38,  39,  40,  41,  42,  43,  44,  45,  46,\n",
              "        47,  48,  49,  50,  51,  52,  53,  54,  55,  56,  57,  58,  59,\n",
              "        60,  61,  62,  63,  64,  65,  66,  67,  68,  69,  70,  71,  72,\n",
              "        73,  74,  75,  76,  77,  78,  79,  80,  81,  82,  83,  84,  85,\n",
              "        86,  87,  88,  89,  90,  91,  92,  93,  94,  95,  96,  97,  98,\n",
              "        99, 100])"
            ]
          },
          "metadata": {
            "tags": []
          },
          "execution_count": 7
        }
      ]
    },
    {
      "cell_type": "markdown",
      "metadata": {
        "id": "O7D8f4TihBsr"
      },
      "source": [
        "#### 8. Reverse the array in #7"
      ]
    },
    {
      "cell_type": "code",
      "metadata": {
        "colab": {
          "base_uri": "https://localhost:8080/"
        },
        "id": "0pNi8HSnhBss",
        "outputId": "b3000333-ae20-42fd-bc04-75b8ecffd3c4"
      },
      "source": [
        "x[::-1]"
      ],
      "execution_count": 8,
      "outputs": [
        {
          "output_type": "execute_result",
          "data": {
            "text/plain": [
              "array([100,  99,  98,  97,  96,  95,  94,  93,  92,  91,  90,  89,  88,\n",
              "        87,  86,  85,  84,  83,  82,  81,  80,  79,  78,  77,  76,  75,\n",
              "        74,  73,  72,  71,  70,  69,  68,  67,  66,  65,  64,  63,  62,\n",
              "        61,  60,  59,  58,  57,  56,  55,  54,  53,  52,  51,  50,  49,\n",
              "        48,  47,  46,  45,  44,  43,  42,  41,  40,  39,  38,  37,  36,\n",
              "        35,  34,  33,  32,  31,  30,  29,  28,  27,  26,  25,  24,  23,\n",
              "        22,  21])"
            ]
          },
          "metadata": {
            "tags": []
          },
          "execution_count": 8
        }
      ]
    },
    {
      "cell_type": "markdown",
      "metadata": {
        "id": "dCnNwlAVhBsu"
      },
      "source": [
        "#### 9. Create a 10x10 identity matrix"
      ]
    },
    {
      "cell_type": "code",
      "metadata": {
        "colab": {
          "base_uri": "https://localhost:8080/"
        },
        "id": "ykCaQ6iLhBsu",
        "outputId": "9bb74847-e899-4b49-d096-53cbadf8b048"
      },
      "source": [
        "np.eye(10)"
      ],
      "execution_count": 9,
      "outputs": [
        {
          "output_type": "execute_result",
          "data": {
            "text/plain": [
              "array([[1., 0., 0., 0., 0., 0., 0., 0., 0., 0.],\n",
              "       [0., 1., 0., 0., 0., 0., 0., 0., 0., 0.],\n",
              "       [0., 0., 1., 0., 0., 0., 0., 0., 0., 0.],\n",
              "       [0., 0., 0., 1., 0., 0., 0., 0., 0., 0.],\n",
              "       [0., 0., 0., 0., 1., 0., 0., 0., 0., 0.],\n",
              "       [0., 0., 0., 0., 0., 1., 0., 0., 0., 0.],\n",
              "       [0., 0., 0., 0., 0., 0., 1., 0., 0., 0.],\n",
              "       [0., 0., 0., 0., 0., 0., 0., 1., 0., 0.],\n",
              "       [0., 0., 0., 0., 0., 0., 0., 0., 1., 0.],\n",
              "       [0., 0., 0., 0., 0., 0., 0., 0., 0., 1.]])"
            ]
          },
          "metadata": {
            "tags": []
          },
          "execution_count": 9
        }
      ]
    },
    {
      "cell_type": "markdown",
      "metadata": {
        "id": "hqb2qRoVhBsx"
      },
      "source": [
        "#### 10. Create a 20x20 NumPy array with random values and find the minimum and maximum values"
      ]
    },
    {
      "cell_type": "code",
      "metadata": {
        "colab": {
          "base_uri": "https://localhost:8080/"
        },
        "id": "-mBeNvFKhBsx",
        "outputId": "82042983-852b-4897-8f43-293a29b425d8"
      },
      "source": [
        "\n",
        "x3 = np.random.random(size=(20, 20))\n",
        "x3"
      ],
      "execution_count": 10,
      "outputs": [
        {
          "output_type": "execute_result",
          "data": {
            "text/plain": [
              "array([[2.25384986e-01, 2.03856972e-02, 1.83592990e-01, 3.04487436e-01,\n",
              "        4.70272181e-01, 5.04669039e-01, 5.47483316e-03, 7.43709890e-01,\n",
              "        7.80368020e-03, 1.43376987e-01, 6.63317184e-01, 8.34327365e-03,\n",
              "        3.91701657e-01, 2.70530554e-01, 7.79263088e-01, 9.48645344e-01,\n",
              "        1.98039812e-01, 9.94666829e-01, 6.45323429e-01, 6.45680193e-01],\n",
              "       [8.42413952e-01, 2.29488404e-01, 4.74278657e-01, 6.28529685e-01,\n",
              "        8.03191016e-01, 8.42797950e-01, 1.79076769e-01, 3.84064538e-01,\n",
              "        6.76093320e-01, 1.92780192e-02, 2.79923713e-01, 4.61427416e-01,\n",
              "        6.44565489e-01, 1.79629616e-02, 5.45765418e-02, 6.55397394e-01,\n",
              "        4.04804360e-01, 4.50205122e-02, 4.56848544e-04, 6.24075745e-01],\n",
              "       [7.58817271e-01, 8.63080765e-01, 2.29855667e-02, 2.48921937e-01,\n",
              "        4.11665682e-01, 3.54590779e-01, 6.76170120e-01, 6.96855580e-01,\n",
              "        7.80827506e-01, 8.53033417e-01, 3.10450069e-01, 4.34784403e-01,\n",
              "        3.86857588e-01, 8.23513578e-01, 1.08354058e-01, 3.72415536e-01,\n",
              "        4.98727225e-01, 2.91860944e-01, 3.43905640e-01, 6.33166025e-02],\n",
              "       [2.66498955e-01, 9.77948869e-01, 4.06340166e-01, 5.44373524e-01,\n",
              "        7.56530841e-01, 5.00539421e-01, 7.62601389e-01, 2.65214971e-01,\n",
              "        5.49719322e-01, 1.75050490e-01, 4.91856848e-01, 5.35335607e-01,\n",
              "        1.13174655e-01, 1.35534289e-01, 7.92887145e-01, 3.15207344e-01,\n",
              "        6.63498584e-01, 6.84574803e-01, 1.92573840e-01, 5.82764981e-01],\n",
              "       [2.27935757e-01, 4.18014092e-01, 6.52547061e-01, 5.84762192e-01,\n",
              "        6.22644365e-01, 4.11329379e-01, 2.70934994e-02, 8.64322792e-02,\n",
              "        7.27890564e-01, 2.72002560e-01, 3.75222530e-02, 8.24259745e-01,\n",
              "        2.31672006e-01, 6.45719678e-01, 6.10727047e-01, 7.22169511e-01,\n",
              "        2.43349921e-01, 1.95961311e-01, 4.53927643e-01, 4.07482080e-01],\n",
              "       [1.64149501e-01, 4.94745680e-02, 7.78624750e-01, 5.27792938e-01,\n",
              "        3.95341759e-02, 3.52340843e-01, 7.16073029e-01, 9.80545063e-01,\n",
              "        9.88915693e-01, 9.77285763e-01, 5.64655869e-01, 5.74186708e-01,\n",
              "        5.30124780e-01, 8.68509132e-01, 2.25095741e-01, 9.57374081e-01,\n",
              "        9.73291571e-02, 1.05521294e-01, 4.61567022e-01, 4.47829073e-01],\n",
              "       [4.01624927e-01, 6.90933910e-01, 6.87421782e-02, 5.09321614e-01,\n",
              "        6.18244513e-01, 4.96025500e-01, 5.27457222e-01, 5.30983695e-01,\n",
              "        1.47116647e-01, 6.06491901e-01, 6.84230668e-01, 4.47928044e-01,\n",
              "        6.42177011e-01, 4.44594780e-01, 8.90836478e-02, 1.37078977e-02,\n",
              "        7.96381341e-01, 4.17944378e-01, 4.61885937e-01, 4.49807987e-01],\n",
              "       [4.19320878e-01, 8.08488517e-01, 7.13357642e-01, 2.31340853e-01,\n",
              "        8.91055136e-01, 6.44789408e-01, 1.88813445e-01, 2.07751423e-01,\n",
              "        7.41924567e-01, 8.40446786e-01, 1.50635418e-02, 1.15483755e-01,\n",
              "        6.79903582e-01, 6.91498820e-01, 7.62244812e-01, 9.36544697e-01,\n",
              "        9.25946145e-01, 7.95720064e-01, 7.49295614e-01, 7.86435599e-01],\n",
              "       [2.32561470e-01, 7.21228941e-01, 3.97438480e-01, 4.34216744e-01,\n",
              "        7.02370867e-01, 6.70295318e-01, 2.10806337e-02, 8.90173684e-03,\n",
              "        8.78962910e-01, 1.23543628e-01, 1.59491277e-02, 7.27433687e-01,\n",
              "        4.79922517e-01, 5.72698513e-01, 8.70736958e-01, 5.02572345e-01,\n",
              "        4.50323343e-01, 5.55337569e-01, 5.69515382e-01, 4.34456222e-01],\n",
              "       [1.48527109e-01, 1.51440395e-01, 3.90418292e-01, 9.75335575e-01,\n",
              "        7.70386320e-01, 6.74492231e-01, 1.00721648e-01, 3.10809790e-01,\n",
              "        3.01120036e-01, 8.09515406e-02, 6.85041396e-02, 8.84500850e-01,\n",
              "        9.09961810e-01, 6.05503999e-01, 9.44132285e-01, 9.35083002e-01,\n",
              "        2.47468718e-01, 9.43708911e-01, 1.46109619e-01, 2.20135127e-01],\n",
              "       [5.01804682e-01, 6.68749611e-01, 1.59924964e-01, 8.98157990e-01,\n",
              "        6.03981229e-01, 6.33739899e-01, 1.04266013e-01, 2.68885684e-01,\n",
              "        3.07582798e-02, 5.82691829e-01, 6.81228054e-01, 3.65784560e-02,\n",
              "        1.03255580e-01, 2.38978531e-01, 7.86040139e-01, 5.55509909e-02,\n",
              "        8.17670277e-01, 9.23926180e-01, 1.03532232e-01, 3.26287643e-01],\n",
              "       [3.10489409e-02, 8.08704572e-01, 3.45326058e-01, 3.61743847e-01,\n",
              "        2.58676951e-01, 5.65193475e-01, 1.41032754e-02, 8.25395598e-01,\n",
              "        7.11202961e-01, 1.12301447e-01, 3.13906750e-01, 1.05302693e-02,\n",
              "        5.00078413e-01, 2.80320808e-01, 7.33157874e-01, 1.56568385e-01,\n",
              "        2.63317122e-01, 3.70161852e-01, 4.20486055e-01, 3.80295906e-01],\n",
              "       [4.03089585e-01, 8.44425166e-01, 7.30841489e-01, 3.25893126e-01,\n",
              "        1.20470674e-02, 1.64449552e-01, 7.02205330e-01, 3.84194444e-01,\n",
              "        9.89870405e-01, 5.27974982e-01, 8.14555629e-01, 9.37669013e-02,\n",
              "        5.84960305e-01, 9.89007316e-01, 6.04017637e-02, 4.65255473e-01,\n",
              "        1.46192584e-01, 7.90962911e-01, 4.43050747e-01, 6.50560635e-01],\n",
              "       [8.51549855e-01, 2.38638967e-01, 4.30811156e-02, 4.77060103e-01,\n",
              "        8.84738548e-01, 3.28457179e-01, 1.98462799e-01, 4.91430227e-01,\n",
              "        9.73864683e-01, 9.52387402e-02, 4.24788624e-01, 8.27975217e-01,\n",
              "        2.15490089e-01, 1.13680697e-01, 6.18380669e-01, 6.81389214e-01,\n",
              "        3.35891274e-01, 9.38788990e-01, 6.17199288e-01, 7.31071875e-01],\n",
              "       [3.44900446e-02, 1.42594005e-01, 8.75041131e-01, 6.79284277e-01,\n",
              "        4.83107408e-01, 4.32695162e-01, 1.81175313e-01, 5.54033826e-01,\n",
              "        9.84363744e-01, 4.67788574e-01, 7.92978101e-01, 2.28605684e-01,\n",
              "        7.04875621e-01, 4.87114516e-01, 5.43989090e-01, 4.92288873e-01,\n",
              "        2.15910101e-01, 5.28566484e-01, 3.16934487e-01, 3.37540220e-01],\n",
              "       [1.87964258e-01, 6.40817173e-02, 2.50352674e-01, 7.90049334e-01,\n",
              "        4.35473164e-01, 6.26538746e-01, 8.28941074e-01, 2.58527614e-01,\n",
              "        4.41224055e-01, 1.79764066e-01, 9.93886175e-01, 5.40575821e-01,\n",
              "        3.09719262e-02, 1.87809499e-01, 2.64368012e-01, 6.74629695e-01,\n",
              "        3.79046300e-01, 4.51295844e-01, 7.86697564e-01, 8.01662818e-01],\n",
              "       [2.93299224e-01, 9.32473963e-01, 4.56441732e-01, 1.04706792e-01,\n",
              "        1.40116038e-01, 5.35584870e-01, 7.52470469e-01, 9.55621735e-01,\n",
              "        7.67664395e-01, 6.86701894e-01, 9.05311947e-01, 9.40250956e-01,\n",
              "        9.03896746e-01, 2.17867534e-01, 3.64586989e-01, 8.65268511e-01,\n",
              "        6.49229556e-01, 1.32376542e-01, 7.24657183e-01, 9.13816017e-01],\n",
              "       [4.80209098e-01, 1.41881166e-02, 1.77158902e-02, 4.53025803e-02,\n",
              "        7.19029985e-01, 9.31309499e-01, 5.61048014e-01, 1.57161189e-01,\n",
              "        9.51210368e-02, 9.22104678e-01, 4.54686289e-01, 9.44969559e-01,\n",
              "        5.80336462e-01, 4.62846499e-01, 7.87529653e-01, 4.90834646e-01,\n",
              "        8.00316586e-01, 2.94053302e-01, 6.00653223e-01, 1.17971191e-01],\n",
              "       [1.82065642e-01, 6.16636945e-01, 6.99863381e-01, 8.75680809e-01,\n",
              "        7.94615991e-02, 4.02731435e-01, 5.07613255e-02, 5.22990534e-01,\n",
              "        5.78872255e-01, 8.05305382e-01, 2.62413051e-01, 3.94774549e-01,\n",
              "        3.49541734e-01, 2.06040530e-01, 7.90620599e-01, 6.25851393e-01,\n",
              "        4.22568147e-01, 5.28085137e-02, 7.16681722e-01, 5.09886211e-01],\n",
              "       [9.72540648e-01, 4.27298373e-01, 8.70567455e-01, 2.67691548e-01,\n",
              "        7.81194744e-01, 3.70387040e-01, 1.13050568e-01, 6.75806817e-01,\n",
              "        2.47096755e-01, 3.36213125e-01, 7.34987407e-01, 9.79754560e-01,\n",
              "        4.45220270e-01, 3.32534216e-01, 5.43099294e-01, 2.86080219e-01,\n",
              "        5.49851569e-01, 6.10398162e-01, 1.63417257e-01, 6.05122757e-01]])"
            ]
          },
          "metadata": {
            "tags": []
          },
          "execution_count": 10
        }
      ]
    },
    {
      "cell_type": "code",
      "metadata": {
        "colab": {
          "base_uri": "https://localhost:8080/"
        },
        "id": "6IhFkNM09mhZ",
        "outputId": "1fcd41a3-c2b1-4775-b806-6776d3b4c20a"
      },
      "source": [
        "x3.min()"
      ],
      "execution_count": 11,
      "outputs": [
        {
          "output_type": "execute_result",
          "data": {
            "text/plain": [
              "0.0004568485444331749"
            ]
          },
          "metadata": {
            "tags": []
          },
          "execution_count": 11
        }
      ]
    },
    {
      "cell_type": "code",
      "metadata": {
        "colab": {
          "base_uri": "https://localhost:8080/"
        },
        "id": "vP5J-ZfW9q9G",
        "outputId": "f82b68cd-b591-4208-bf79-16d5116c4b45"
      },
      "source": [
        "x3.max()"
      ],
      "execution_count": 12,
      "outputs": [
        {
          "output_type": "execute_result",
          "data": {
            "text/plain": [
              "0.9946668293116547"
            ]
          },
          "metadata": {
            "tags": []
          },
          "execution_count": 12
        }
      ]
    },
    {
      "cell_type": "markdown",
      "metadata": {
        "id": "SvEBL5T0hBs0"
      },
      "source": [
        "#### 11. Create a 6x6 NumPy array with random values. Split the array evenly vertically"
      ]
    },
    {
      "cell_type": "code",
      "metadata": {
        "colab": {
          "base_uri": "https://localhost:8080/"
        },
        "id": "12A9h29BhBs0",
        "outputId": "dc85e36d-9f36-480d-850a-fef768335449"
      },
      "source": [
        "np.random.seed(0)\n",
        "x4 = np.random.randint(10, size=(6,6))\n",
        "x4\n"
      ],
      "execution_count": 13,
      "outputs": [
        {
          "output_type": "execute_result",
          "data": {
            "text/plain": [
              "array([[5, 0, 3, 3, 7, 9],\n",
              "       [3, 5, 2, 4, 7, 6],\n",
              "       [8, 8, 1, 6, 7, 7],\n",
              "       [8, 1, 5, 9, 8, 9],\n",
              "       [4, 3, 0, 3, 5, 0],\n",
              "       [2, 3, 8, 1, 3, 3]])"
            ]
          },
          "metadata": {
            "tags": []
          },
          "execution_count": 13
        }
      ]
    },
    {
      "cell_type": "code",
      "metadata": {
        "colab": {
          "base_uri": "https://localhost:8080/"
        },
        "id": "8Y6Wz3Ri-Vj0",
        "outputId": "69174217-d5ce-44c1-db28-39afa3864992"
      },
      "source": [
        "upper, lower = np.vsplit(x4, 2)\n",
        "print(\"Upper: \")\n",
        "print(upper)\n",
        "print(\"Lower: \")\n",
        "print(lower)"
      ],
      "execution_count": 14,
      "outputs": [
        {
          "output_type": "stream",
          "text": [
            "Upper: \n",
            "[[5 0 3 3 7 9]\n",
            " [3 5 2 4 7 6]\n",
            " [8 8 1 6 7 7]]\n",
            "Lower: \n",
            "[[8 1 5 9 8 9]\n",
            " [4 3 0 3 5 0]\n",
            " [2 3 8 1 3 3]]\n"
          ],
          "name": "stdout"
        }
      ]
    },
    {
      "cell_type": "markdown",
      "metadata": {
        "id": "3IvLFHwMhBs2"
      },
      "source": [
        "#### 12. For the same arry in #11, split the array evenly horizontally"
      ]
    },
    {
      "cell_type": "code",
      "metadata": {
        "colab": {
          "base_uri": "https://localhost:8080/"
        },
        "id": "iziHmCchhBs2",
        "outputId": "75a5861b-87c2-47ea-c705-047f1c580307"
      },
      "source": [
        "left, right = np.hsplit(x4, 2)\n",
        "print(\"Left: \")\n",
        "print (left)\n",
        "print(\"Right: \")\n",
        "print(right)"
      ],
      "execution_count": 15,
      "outputs": [
        {
          "output_type": "stream",
          "text": [
            "Left: \n",
            "[[5 0 3]\n",
            " [3 5 2]\n",
            " [8 8 1]\n",
            " [8 1 5]\n",
            " [4 3 0]\n",
            " [2 3 8]]\n",
            "Right: \n",
            "[[3 7 9]\n",
            " [4 7 6]\n",
            " [6 7 7]\n",
            " [9 8 9]\n",
            " [3 5 0]\n",
            " [1 3 3]]\n"
          ],
          "name": "stdout"
        }
      ]
    }
  ]
}