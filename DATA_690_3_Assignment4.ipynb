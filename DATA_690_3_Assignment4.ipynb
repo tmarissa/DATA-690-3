{
  "nbformat": 4,
  "nbformat_minor": 0,
  "metadata": {
    "colab": {
      "name": "DATA 690-3 Assignment4.ipynb",
      "provenance": [],
      "collapsed_sections": []
    },
    "kernelspec": {
      "display_name": "Python 3",
      "name": "python3"
    }
  },
  "cells": [
    {
      "cell_type": "markdown",
      "metadata": {
        "id": "ZLfKSL1ID8Af"
      },
      "source": [
        "## 1. Identify 4 other test cases that are needed for isBigger() function.\r\n",
        "\r\n",
        "1.   x = -2, y =2     \r\n",
        "2.   x = 2, y = -2\r\n",
        "3.   x = -2, y = 5\r\n",
        "4.   x = 5, y = -2\r\n"
      ]
    },
    {
      "cell_type": "code",
      "metadata": {
        "id": "MG271UbhJfgA"
      },
      "source": [
        "def isBigger(x,y):\r\n",
        "  \"\"\"x and y parameters are assumed to be integer values returns True if x is greater than y, False otherwise\"\"\"\r\n",
        "\r\n",
        "  return x > y"
      ],
      "execution_count": 12,
      "outputs": []
    },
    {
      "cell_type": "code",
      "metadata": {
        "colab": {
          "base_uri": "https://localhost:8080/"
        },
        "id": "SNBce_VCJglk",
        "outputId": "29bb0a3b-1626-4e27-8c53-84cd2c9552f7"
      },
      "source": [
        "\r\n",
        "try:\r\n",
        "  assert isBigger(-2, 2) == False\r\n",
        "  assert isBigger(2, -2) == True\r\n",
        "  assert isBigger(-2, 5) == False\r\n",
        "  assert isBigger(5, -2) == True\r\n",
        "except:\r\n",
        "  print(\"Test failed\")\r\n",
        "else:\r\n",
        "  print(\"Test succeeded\")"
      ],
      "execution_count": 13,
      "outputs": [
        {
          "output_type": "stream",
          "text": [
            "Test succeeded\n"
          ],
          "name": "stdout"
        }
      ]
    },
    {
      "cell_type": "markdown",
      "metadata": {
        "id": "cHvJW8KCvqO1"
      },
      "source": [
        "## 2. Blackbox Testing. For the specification of sqrt() function, with at least 10 blackbox test cases\r\n"
      ]
    },
    {
      "cell_type": "code",
      "metadata": {
        "id": "KmZnK_uILofA"
      },
      "source": [
        "\r\n",
        "#1.   Boundary  x = 0.0, Epsilon = 0.001\r\n",
        "#2.   Perfect Square  x = 16, Epsilon = 0.001\r\n",
        "#3.   less than 1    x = 0.8, Epsilon = 0.001\r\n",
        "#4.   irrational square root     x = 3,  Epsilon = 0.001\r\n",
        "#5.   extreme      x = 2.0, Epsilon = 1/(3.0**81)\r\n",
        "#6.   extreme      x = (1/(3.0**81), Epsilon = 1/(3.0**81)\r\n",
        "#7.   extreme      x = 3.0**81,  Epsilon = 1/(3.0**81)\r\n",
        "#8.   extreme      x = 1/(3.0**81),  Epsilon  = 3.0**81\r\n",
        "#9.   extreme      x = 3.0**81, Epsilon = 3.0**81\r\n",
        "#10.  string       x = \"happy\", Epsilon = 1/(3.0**81)\r\n",
        "#11   string       x = 3.0**81, Epsilon= \"happy\"\r\n"
      ],
      "execution_count": null,
      "outputs": []
    },
    {
      "cell_type": "markdown",
      "metadata": {
        "id": "YleKD-69JBod"
      },
      "source": [
        "## 3. Finger Exerciese 7.1 (Handling Expressions)"
      ]
    },
    {
      "cell_type": "code",
      "metadata": {
        "colab": {
          "base_uri": "https://localhost:8080/"
        },
        "id": "J4tDZ74VOr3L",
        "outputId": "65fbbcf0-efda-4654-ad06-476fd46fe4d5"
      },
      "source": [
        "def sumDigits(s):\r\n",
        "    \"\"\"Assumes s is a string\r\n",
        "        Returns the sum of the decimal digits in s\r\n",
        "           For example, if s is 'a2c3c' it returns 5\"\"\"\r\n",
        "    numbers = ['0','1', '2', '3', '4', '5', '6', '7', '8', '9']         \r\n",
        "    counter = 0       \r\n",
        "    \r\n",
        "    for i in s:\r\n",
        "        if i in numbers:\r\n",
        "            counter += int(i)\r\n",
        "    return counter\r\n",
        "\r\n",
        "#Everything seems to be string, I put \"entry is int\" and \"str(entry)\" still got through.\r\n",
        "#Using isinstance(str, entry) doesn't seem like to working. WHY?\r\n",
        "\r\n",
        "entry = input(\"Enter a string: \")\r\n",
        "try:\r\n",
        "    print(\"The sum of the digits is \", sumDigits(entry))\r\n",
        "except:\r\n",
        "    print(entry, 'is not a string.')\r\n"
      ],
      "execution_count": 14,
      "outputs": [
        {
          "output_type": "stream",
          "text": [
            "Enter a string: rt5t6y7\n",
            "The sum of the digits is  18\n"
          ],
          "name": "stdout"
        }
      ]
    },
    {
      "cell_type": "code",
      "metadata": {
        "id": "MBDfNoVVOr0v"
      },
      "source": [
        ""
      ],
      "execution_count": null,
      "outputs": []
    }
  ]
}