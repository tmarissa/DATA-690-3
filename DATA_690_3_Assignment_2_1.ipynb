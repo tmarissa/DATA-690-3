{
  "nbformat": 4,
  "nbformat_minor": 0,
  "metadata": {
    "colab": {
      "name": "DATA 690-3 Assignment 2-1.ipynb",
      "provenance": []
    },
    "kernelspec": {
      "name": "python3",
      "display_name": "Python 3"
    }
  },
  "cells": [
    {
      "cell_type": "code",
      "metadata": {
        "id": "SchIeDrdSvXi"
      },
      "source": [
        ""
      ],
      "execution_count": null,
      "outputs": []
    },
    {
      "cell_type": "markdown",
      "metadata": {
        "id": "16WOBTdAS0Yw"
      },
      "source": [
        "## Introduction to Computation and Programming using Python 2nd edition by John Guttag\r\n",
        "## Finger exercises 3.1, 3.2, 3.5, 4.1.1 "
      ]
    },
    {
      "cell_type": "markdown",
      "metadata": {
        "id": "-050RPEBTrWB"
      },
      "source": [
        "### 3.1 Write a program that asks the user to enter an integer and prints two integers, root and pwr, such that 1 < pwr < 6 and root ** pwr is equal to the integer entered by the user. If no such pair of integers exists, it should print a message to that effect"
      ]
    },
    {
      "cell_type": "code",
      "metadata": {
        "colab": {
          "base_uri": "https://localhost:8080/"
        },
        "id": "kKlCMzQ0V3GJ",
        "outputId": "b08d7700-9322-44a3-ab9d-79d20782fe19"
      },
      "source": [
        "x = int(input(\"Please enter an integer: \"))\r\n",
        "root = 0\r\n",
        "found = False\r\n",
        "for pwr in range(2,6):\r\n",
        "    while abs(root** pwr) <= abs(x):\r\n",
        "      if root**pwr == x: \r\n",
        "          print(\"Power is \", pwr, \", root is \", root,\" and the given integer is \", x )\r\n",
        "          found = True\r\n",
        "      if abs(root) > abs(x):\r\n",
        "        root = 0      \r\n",
        "      elif x < 0:\r\n",
        "        root -= 1\r\n",
        "      else:\r\n",
        "        root += 1\r\n",
        "    root = 0\r\n",
        "\r\n",
        "if not found:\r\n",
        "    print(x, \"does not have power and root\")\r\n"
      ],
      "execution_count": 29,
      "outputs": [
        {
          "output_type": "stream",
          "text": [
            "Please enter an integer: 64\n",
            "Power is  2 , root is  8  and the given integer is  64\n",
            "Power is  3 , root is  4  and the given integer is  64\n"
          ],
          "name": "stdout"
        }
      ]
    },
    {
      "cell_type": "markdown",
      "metadata": {
        "id": "O5vytqUcUDnV"
      },
      "source": [
        "### 3.2 Let s be a string that contains a sequence of decimal numbers separated by commas, e.g., s = '1.23, 2.4,3.12'. Write a program that prints the sum of the numbers in s"
      ]
    },
    {
      "cell_type": "code",
      "metadata": {
        "colab": {
          "base_uri": "https://localhost:8080/"
        },
        "id": "sbE5GXNXHN9H",
        "outputId": "663124c7-32a8-416c-ec42-4f076846e791"
      },
      "source": [
        "# The original string is replaced and split to become list of strings, splited\r\n",
        "s = '1.23, 2.4, 3.123'\r\n",
        "sr = s.replace(',', ' ') \r\n",
        "splited = sr.split()\r\n",
        "\r\n",
        "# The list of strings is converted to a list of floats, s_float\r\n",
        "s_float = [float(s_string) for s_string in splited]\r\n",
        "\r\n",
        "\r\n",
        "sum = 0\r\n",
        "for i in s_float:\r\n",
        "    sum += i\r\n",
        "\r\n",
        "print (\"Using the for loop, the sum of the numbers is \", sum)   "
      ],
      "execution_count": 31,
      "outputs": [
        {
          "output_type": "stream",
          "text": [
            "Using the for loop, the sum of the numbers is  6.753\n"
          ],
          "name": "stdout"
        }
      ]
    },
    {
      "cell_type": "markdown",
      "metadata": {
        "id": "wldTf1Z1UFp6"
      },
      "source": [
        "### 3.5 Add some code to the implementation of Newton-Raphson that keeps track of the number of iterations used to find the root. Use that code as part of a program that compares the efficiency of Newton-Raphason and bisection search. (You should discover that Newton- Raphson is more efficient.)"
      ]
    },
    {
      "cell_type": "code",
      "metadata": {
        "colab": {
          "base_uri": "https://localhost:8080/"
        },
        "id": "_-mwhZoPfWmT",
        "outputId": "2ccf4e98-8571-45fd-def5-974771fdcc2a"
      },
      "source": [
        "# Using the Newton Raphson, to compare efficiency with bisection search.\r\n",
        "k = int(input(\"Enter a number to find the square root of:\"))\r\n",
        "epsilon = float(input(\"Enter the value for epsilon: \"))\r\n",
        "guess = k/2.0\r\n",
        "numGuesses = 0\r\n",
        "while abs(guess*guess - k) >= epsilon:\r\n",
        "  guess = guess - (((guess**2) - k)/(2*guess))\r\n",
        "  numGuesses += 1\r\n",
        "print(\"Square root of\", k, \"is about\", guess)\r\n",
        "print(\"Number of Guesses = \", numGuesses)"
      ],
      "execution_count": null,
      "outputs": [
        {
          "output_type": "stream",
          "text": [
            "Enter a number to find the square root of:24\n",
            "Enter the value for epsilon: 0.01\n",
            "Square root of 24 is about 4.8989887432139305\n",
            "Number of Guesses =  4\n"
          ],
          "name": "stdout"
        }
      ]
    },
    {
      "cell_type": "code",
      "metadata": {
        "colab": {
          "base_uri": "https://localhost:8080/"
        },
        "id": "jcE7Axw1kirj",
        "outputId": "8902787a-3235-4b61-a040-5f52a62129df"
      },
      "source": [
        "numGuesses = 0 #Increased each time we go through the while loop\r\n",
        "high = max(1.0, k)\r\n",
        "low = 0\r\n",
        "ans = (high + low)/2.0 \r\n",
        "\r\n",
        "while abs(ans**2 - k ) >= epsilon:\r\n",
        "  print(\"low =\", low, \"high =\", high, \"ans = \", ans)\r\n",
        "  numGuesses += 1\r\n",
        "  if ans**2 < k:\r\n",
        "    low = ans\r\n",
        "  else:\r\n",
        "    high = ans\r\n",
        "  ans = (high + low)/2.0\r\n",
        "print(\"Square root of\", k, \"is about\", guess)\r\n",
        "print(\"Number of Guesses = \", numGuesses)"
      ],
      "execution_count": null,
      "outputs": [
        {
          "output_type": "stream",
          "text": [
            "low = 0 high = 24 ans =  12.0\n",
            "low = 0 high = 12.0 ans =  6.0\n",
            "low = 0 high = 6.0 ans =  3.0\n",
            "low = 3.0 high = 6.0 ans =  4.5\n",
            "low = 4.5 high = 6.0 ans =  5.25\n",
            "low = 4.5 high = 5.25 ans =  4.875\n",
            "low = 4.875 high = 5.25 ans =  5.0625\n",
            "low = 4.875 high = 5.0625 ans =  4.96875\n",
            "low = 4.875 high = 4.96875 ans =  4.921875\n",
            "Square root of 24 is about 4.8989887432139305\n",
            "Number of Guesses =  9\n"
          ],
          "name": "stdout"
        }
      ]
    },
    {
      "cell_type": "markdown",
      "metadata": {
        "id": "vCbRDZ1Z50U0"
      },
      "source": [
        "# The Newton-Raphson method has 4 guesses while bisection search has 9 searches before it finds the closes approximation for the square root of 25"
      ]
    },
    {
      "cell_type": "markdown",
      "metadata": {
        "id": "zWO_WkbHUGrh"
      },
      "source": [
        "### 4.1 Write a function isIn that accepts two strings as arguments and return True if either string occurs anywhere in the other, and False otherwise. Hint: you might want to use the built-in str operation in."
      ]
    },
    {
      "cell_type": "code",
      "metadata": {
        "id": "zdRBEW4RTlpI",
        "colab": {
          "base_uri": "https://localhost:8080/"
        },
        "outputId": "e41eec08-0199-48fd-f48a-84c8825e9284"
      },
      "source": [
        "def isIn(x, y):\r\n",
        "  return bool(x in y or y in x)\r\n",
        "    \r\n",
        "  #if x == y:\r\n",
        "  #  return True\r\n",
        "  #else:\r\n",
        "  #  return False\r\n",
        "\r\n",
        "g = input(\"Give the first string \")\r\n",
        "h = input(\"Give the second string \")\r\n",
        "test = isIn(g, h)\r\n",
        "print(test)"
      ],
      "execution_count": null,
      "outputs": [
        {
          "output_type": "stream",
          "text": [
            "Give the first string cde\n",
            "Give the second string abf\n",
            "False\n"
          ],
          "name": "stdout"
        }
      ]
    },
    {
      "cell_type": "code",
      "metadata": {
        "id": "wwNX3hxf6UgK"
      },
      "source": [
        ""
      ],
      "execution_count": null,
      "outputs": []
    }
  ]
}