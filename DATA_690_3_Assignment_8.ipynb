{
 "cells": [
  {
   "cell_type": "code",
   "execution_count": 1,
   "metadata": {
    "id": "R3tmYJIONIkn"
   },
   "outputs": [],
   "source": [
    "# Greedy Algorithms \n",
    "class FlightItem(object):\n",
    "    def __init__(self, name, departure, destination, travel_distance, travel_time, air_fare):\n",
    "        self.name = name\n",
    "        self.departure = departure\n",
    "        self.destination = destination\n",
    "        self.travel_distance = travel_distance\n",
    "        self.travel_time = travel_time\n",
    "        self.air_fare = air_fare\n",
    "        self.value = travel_distance/air_fare\n",
    "        self.weight = travel_time\n",
    "        \n",
    "    def get_name(self):\n",
    "        return self.name\n",
    "\n",
    "    def get_weight(self):\n",
    "        return self.weight\n",
    "\n",
    "    def get_value(self):\n",
    "        return self.value\n",
    "\n",
    "    def get_departure(self):\n",
    "        return self.departure \n",
    "\n",
    "    def get_destination(self):\n",
    "        return self.destination \n",
    "\n",
    "    def get_travel_distance(self):\n",
    "        return self.travel_distance \n",
    "\n",
    "    def get_travel_time(self):\n",
    "        return self.travel_time       \n",
    "    \n",
    "    def get_air_fare(self):\n",
    "        return self.air_fare\n",
    "    \n",
    "    def __str__(self):\n",
    "        result = '<' + self.name + ', ' + str(self.value)\\\n",
    "        + ', ' + str(self.weight) + '>'\n",
    "        return result\n",
    "\n",
    "def value(item):\n",
    "    return item.get_value()\n",
    "\n",
    "def weight_inverse(item):\n",
    "    return 1.0 / item.get_weight()\n",
    "\n",
    "def density(item):\n",
    "    return item.get_value() / item.get_weight()\n"
   ]
  },
  {
   "cell_type": "code",
   "execution_count": 2,
   "metadata": {
    "id": "WrfEXZ4iNqT7"
   },
   "outputs": [],
   "source": [
    "\n",
    "def greedy(items, max_weight, key_function):\n",
    "    \"\"\"Assumes items a list, max_weight >= 0,\n",
    "       key_function maps elements of items to numbers\"\"\"\n",
    "    # valuable item at the begining of the list\n",
    "    \n",
    "    items_copy = sorted(items, key=key_function, reverse=True)   # Use sorted to get a new list, reverse to make it largest to smallest\n",
    "    result = []\n",
    "    total_value, total_weight = 0.0, 0.0\n",
    "    \n",
    "\n",
    "    for i in range(len(items_copy)):                            \n",
    "        if (total_weight + items_copy[i].get_weight()) <= max_weight:\n",
    "            result.append(items_copy[i])\n",
    "            total_weight += items_copy[i].get_weight()\n",
    "            total_value += items_copy[i].get_value()\n",
    "    return (result, total_value)"
   ]
  },
  {
   "cell_type": "code",
   "execution_count": 3,
   "metadata": {
    "id": "e1vd3LnSRyKd"
   },
   "outputs": [],
   "source": [
    "def build_items():\n",
    "    names = ['flight 111', 'flight 222', 'flight 333', 'flight 444', 'flight 555', 'flight 656', 'flight 777']\n",
    "    departure = ['ALB', 'BWI', 'BOS', 'DEN', 'DFW', 'LAX', 'SFO' ]\n",
    "    destination = ['DFW', 'SFO', 'SFO', ' LAX ', 'BWI', 'DFW', 'DEN' ]\n",
    "    travel_distance = [1650, 2825, 3106, 1056, 1381, 1443, 1258]\n",
    "    travel_time = [120, 300, 360, 180, 150, 90, 110]\n",
    "    air_fare = [200.00, 300.00, 650.00, 150.00, 220.00, 315.00, 300.00]\n",
    "    items = []\n",
    "    for i in range(len(names)):\n",
    "        items.append(FlightItem(names[i], departure[i], destination[i], travel_distance[i], travel_time[i], air_fare[i]))\n",
    "    return items\n",
    "\n",
    "def test_greedy(items, max_weight, key_function):\n",
    "    taken, val = greedy(items, max_weight, key_function)\n",
    "    print('Total value of items taken is', val)\n",
    "    for item in taken:\n",
    "        print('   ', item)\n"
   ]
  },
  {
   "cell_type": "code",
   "execution_count": 4,
   "metadata": {
    "id": "xoCIu56wOAk8"
   },
   "outputs": [],
   "source": [
    "def test_greedys(max_weight = 0):\n",
    "    items = build_items()\n",
    "    print('Use greedy by value to fill knapsack of size', max_weight)\n",
    "    test_greedy(items, max_weight, value)\n",
    "    print('\\nUse greedy by weight to fill knapsack of size', max_weight)\n",
    "    test_greedy(items, max_weight, weight_inverse)\n",
    "    print('\\nUse greedy by density to fill knapsack of size', max_weight)\n",
    "    test_greedy(items, max_weight, density)\n",
    "    print('\\n')"
   ]
  },
  {
   "cell_type": "code",
   "execution_count": 5,
   "metadata": {
    "colab": {
     "base_uri": "https://localhost:8080/"
    },
    "id": "g1EKbW-wR90_",
    "outputId": "67982974-2860-4c65-eb15-771f0de6a3b1"
   },
   "outputs": [
    {
     "name": "stdout",
     "output_type": "stream",
     "text": [
      "Use greedy by value to fill knapsack of size 0\n",
      "Total value of items taken is 0.0\n",
      "\n",
      "Use greedy by weight to fill knapsack of size 0\n",
      "Total value of items taken is 0.0\n",
      "\n",
      "Use greedy by density to fill knapsack of size 0\n",
      "Total value of items taken is 0.0\n",
      "\n",
      "\n",
      "Use greedy by value to fill knapsack of size 100\n",
      "Total value of items taken is 4.580952380952381\n",
      "    <flight 656, 4.580952380952381, 90>\n",
      "\n",
      "Use greedy by weight to fill knapsack of size 100\n",
      "Total value of items taken is 4.580952380952381\n",
      "    <flight 656, 4.580952380952381, 90>\n",
      "\n",
      "Use greedy by density to fill knapsack of size 100\n",
      "Total value of items taken is 4.580952380952381\n",
      "    <flight 656, 4.580952380952381, 90>\n",
      "\n",
      "\n",
      "Use greedy by value to fill knapsack of size 200\n",
      "Total value of items taken is 8.25\n",
      "    <flight 111, 8.25, 120>\n",
      "\n",
      "Use greedy by weight to fill knapsack of size 200\n",
      "Total value of items taken is 8.774285714285714\n",
      "    <flight 656, 4.580952380952381, 90>\n",
      "    <flight 777, 4.193333333333333, 110>\n",
      "\n",
      "Use greedy by density to fill knapsack of size 200\n",
      "Total value of items taken is 8.25\n",
      "    <flight 111, 8.25, 120>\n",
      "\n",
      "\n",
      "Use greedy by value to fill knapsack of size 300\n",
      "Total value of items taken is 9.416666666666666\n",
      "    <flight 222, 9.416666666666666, 300>\n",
      "\n",
      "Use greedy by weight to fill knapsack of size 300\n",
      "Total value of items taken is 8.774285714285714\n",
      "    <flight 656, 4.580952380952381, 90>\n",
      "    <flight 777, 4.193333333333333, 110>\n",
      "\n",
      "Use greedy by density to fill knapsack of size 300\n",
      "Total value of items taken is 12.83095238095238\n",
      "    <flight 111, 8.25, 120>\n",
      "    <flight 656, 4.580952380952381, 90>\n",
      "\n",
      "\n"
     ]
    }
   ],
   "source": [
    "#Run test_greedys() with no argument, 100, 200 and 300\n",
    "test_greedys()\n",
    "test_greedys(100)\n",
    "test_greedys(200)\n",
    "test_greedys(300)\n"
   ]
  }
 ],
 "metadata": {
  "colab": {
   "name": "DATA 690-3 Assignment 8",
   "provenance": []
  },
  "kernelspec": {
   "display_name": "Python 3",
   "language": "python",
   "name": "python3"
  },
  "language_info": {
   "codemirror_mode": {
    "name": "ipython",
    "version": 3
   },
   "file_extension": ".py",
   "mimetype": "text/x-python",
   "name": "python",
   "nbconvert_exporter": "python",
   "pygments_lexer": "ipython3",
   "version": "3.8.5"
  }
 },
 "nbformat": 4,
 "nbformat_minor": 1
}
